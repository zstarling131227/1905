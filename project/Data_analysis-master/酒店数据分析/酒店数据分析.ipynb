{
 "cells": [
  {
   "cell_type": "code",
   "execution_count": 1,
   "metadata": {},
   "outputs": [],
   "source": [
    "import pandas as pd\n",
    "import numpy as np\n",
    "import matplotlib.pyplot as plt\n",
    "plt.style.use('ggplot')"
   ]
  },
  {
   "cell_type": "code",
   "execution_count": 2,
   "metadata": {},
   "outputs": [
    {
     "data": {
      "text/html": [
       "<div>\n",
       "<style scoped>\n",
       "    .dataframe tbody tr th:only-of-type {\n",
       "        vertical-align: middle;\n",
       "    }\n",
       "\n",
       "    .dataframe tbody tr th {\n",
       "        vertical-align: top;\n",
       "    }\n",
       "\n",
       "    .dataframe thead th {\n",
       "        text-align: right;\n",
       "    }\n",
       "</style>\n",
       "<table border=\"1\" class=\"dataframe\">\n",
       "  <thead>\n",
       "    <tr style=\"text-align: right;\">\n",
       "      <th></th>\n",
       "      <th>Unnamed: 0</th>\n",
       "      <th>名字</th>\n",
       "      <th>类型</th>\n",
       "      <th>城市</th>\n",
       "      <th>地区</th>\n",
       "      <th>地点</th>\n",
       "      <th>评分</th>\n",
       "      <th>评分人数</th>\n",
       "      <th>价格</th>\n",
       "    </tr>\n",
       "  </thead>\n",
       "  <tbody>\n",
       "    <tr>\n",
       "      <th>0</th>\n",
       "      <td>0</td>\n",
       "      <td>香港铜锣湾皇悦酒店(Empire Hotel Hong Kong-Causeway Bay)</td>\n",
       "      <td>浪漫情侣</td>\n",
       "      <td>香港</td>\n",
       "      <td>东区</td>\n",
       "      <td>铜锣湾永兴街8号</td>\n",
       "      <td>4.5</td>\n",
       "      <td>12708</td>\n",
       "      <td>693</td>\n",
       "    </tr>\n",
       "    <tr>\n",
       "      <th>1</th>\n",
       "      <td>1</td>\n",
       "      <td>香港碧荟酒店(The BEACON)</td>\n",
       "      <td>商务出行</td>\n",
       "      <td>香港</td>\n",
       "      <td>油尖旺</td>\n",
       "      <td>九龙旺角洗衣街88号</td>\n",
       "      <td>4.7</td>\n",
       "      <td>328</td>\n",
       "      <td>747</td>\n",
       "    </tr>\n",
       "  </tbody>\n",
       "</table>\n",
       "</div>"
      ],
      "text/plain": [
       "   Unnamed: 0                                              名字    类型  城市   地区  \\\n",
       "0           0  香港铜锣湾皇悦酒店(Empire Hotel Hong Kong-Causeway Bay)  浪漫情侣  香港   东区   \n",
       "1           1                              香港碧荟酒店(The BEACON)  商务出行  香港  油尖旺   \n",
       "\n",
       "           地点   评分   评分人数   价格  \n",
       "0    铜锣湾永兴街8号  4.5  12708  693  \n",
       "1  九龙旺角洗衣街88号  4.7    328  747  "
      ]
     },
     "execution_count": 2,
     "metadata": {},
     "output_type": "execute_result"
    }
   ],
   "source": [
    "df = pd.read_csv('hotel_data.csv',encoding='gb2312')\n",
    "df.head(2)"
   ]
  },
  {
   "cell_type": "code",
   "execution_count": 3,
   "metadata": {},
   "outputs": [
    {
     "data": {
      "text/plain": [
       "(396, 9)"
      ]
     },
     "execution_count": 3,
     "metadata": {},
     "output_type": "execute_result"
    }
   ],
   "source": [
    "df.shape"
   ]
  },
  {
   "cell_type": "code",
   "execution_count": 4,
   "metadata": {},
   "outputs": [
    {
     "data": {
      "text/plain": [
       "Index(['Unnamed: 0', '名字', '类型', '城市', '地区', '地点', '评分', '评分人数', '价格'], dtype='object')"
      ]
     },
     "execution_count": 4,
     "metadata": {},
     "output_type": "execute_result"
    }
   ],
   "source": [
    "#获取index和columns\n",
    "df.index\n",
    "df.columns"
   ]
  },
  {
   "cell_type": "code",
   "execution_count": 5,
   "metadata": {},
   "outputs": [
    {
     "data": {
      "text/html": [
       "<div>\n",
       "<style scoped>\n",
       "    .dataframe tbody tr th:only-of-type {\n",
       "        vertical-align: middle;\n",
       "    }\n",
       "\n",
       "    .dataframe tbody tr th {\n",
       "        vertical-align: top;\n",
       "    }\n",
       "\n",
       "    .dataframe thead th {\n",
       "        text-align: right;\n",
       "    }\n",
       "</style>\n",
       "<table border=\"1\" class=\"dataframe\">\n",
       "  <thead>\n",
       "    <tr style=\"text-align: right;\">\n",
       "      <th></th>\n",
       "      <th>sum</th>\n",
       "      <th>mean</th>\n",
       "    </tr>\n",
       "    <tr>\n",
       "      <th>地区</th>\n",
       "      <th></th>\n",
       "      <th></th>\n",
       "    </tr>\n",
       "  </thead>\n",
       "  <tbody>\n",
       "    <tr>\n",
       "      <th>东区</th>\n",
       "      <td>56643</td>\n",
       "      <td>3540.187500</td>\n",
       "    </tr>\n",
       "    <tr>\n",
       "      <th>中西区</th>\n",
       "      <td>59682</td>\n",
       "      <td>1808.545455</td>\n",
       "    </tr>\n",
       "    <tr>\n",
       "      <th>九龙城</th>\n",
       "      <td>49855</td>\n",
       "      <td>2374.047619</td>\n",
       "    </tr>\n",
       "    <tr>\n",
       "      <th>元朗</th>\n",
       "      <td>1200</td>\n",
       "      <td>1200.000000</td>\n",
       "    </tr>\n",
       "    <tr>\n",
       "      <th>其他地区</th>\n",
       "      <td>16831</td>\n",
       "      <td>300.553571</td>\n",
       "    </tr>\n",
       "    <tr>\n",
       "      <th>南区</th>\n",
       "      <td>12867</td>\n",
       "      <td>2573.400000</td>\n",
       "    </tr>\n",
       "    <tr>\n",
       "      <th>屯门</th>\n",
       "      <td>7324</td>\n",
       "      <td>3662.000000</td>\n",
       "    </tr>\n",
       "    <tr>\n",
       "      <th>沙田</th>\n",
       "      <td>39622</td>\n",
       "      <td>9905.500000</td>\n",
       "    </tr>\n",
       "    <tr>\n",
       "      <th>油尖旺</th>\n",
       "      <td>422574</td>\n",
       "      <td>2284.183784</td>\n",
       "    </tr>\n",
       "    <tr>\n",
       "      <th>深水_区</th>\n",
       "      <td>16</td>\n",
       "      <td>16.000000</td>\n",
       "    </tr>\n",
       "    <tr>\n",
       "      <th>湾仔</th>\n",
       "      <td>107344</td>\n",
       "      <td>2618.146341</td>\n",
       "    </tr>\n",
       "    <tr>\n",
       "      <th>离岛</th>\n",
       "      <td>60359</td>\n",
       "      <td>5487.181818</td>\n",
       "    </tr>\n",
       "    <tr>\n",
       "      <th>罗湖区</th>\n",
       "      <td>24</td>\n",
       "      <td>24.000000</td>\n",
       "    </tr>\n",
       "    <tr>\n",
       "      <th>荃湾</th>\n",
       "      <td>114610</td>\n",
       "      <td>16372.857143</td>\n",
       "    </tr>\n",
       "    <tr>\n",
       "      <th>葵青</th>\n",
       "      <td>11544</td>\n",
       "      <td>2308.800000</td>\n",
       "    </tr>\n",
       "    <tr>\n",
       "      <th>观塘</th>\n",
       "      <td>19137</td>\n",
       "      <td>2733.857143</td>\n",
       "    </tr>\n",
       "  </tbody>\n",
       "</table>\n",
       "</div>"
      ],
      "text/plain": [
       "         sum          mean\n",
       "地区                        \n",
       "东区     56643   3540.187500\n",
       "中西区    59682   1808.545455\n",
       "九龙城    49855   2374.047619\n",
       "元朗      1200   1200.000000\n",
       "其他地区   16831    300.553571\n",
       "南区     12867   2573.400000\n",
       "屯门      7324   3662.000000\n",
       "沙田     39622   9905.500000\n",
       "油尖旺   422574   2284.183784\n",
       "深水_区      16     16.000000\n",
       "湾仔    107344   2618.146341\n",
       "离岛     60359   5487.181818\n",
       "罗湖区       24     24.000000\n",
       "荃湾    114610  16372.857143\n",
       "葵青     11544   2308.800000\n",
       "观塘     19137   2733.857143"
      ]
     },
     "execution_count": 5,
     "metadata": {},
     "output_type": "execute_result"
    }
   ],
   "source": [
    "#每个地区的评分人数的总和以及均值\n",
    "\n",
    "df['评分人数'] = df['评分人数'].astype('int')\n",
    "df.评分人数.groupby(df['地区']).agg([np.sum,np.mean])"
   ]
  },
  {
   "cell_type": "code",
   "execution_count": 6,
   "metadata": {},
   "outputs": [
    {
     "data": {
      "text/html": [
       "<div>\n",
       "<style scoped>\n",
       "    .dataframe tbody tr th:only-of-type {\n",
       "        vertical-align: middle;\n",
       "    }\n",
       "\n",
       "    .dataframe tbody tr th {\n",
       "        vertical-align: top;\n",
       "    }\n",
       "\n",
       "    .dataframe thead th {\n",
       "        text-align: right;\n",
       "    }\n",
       "</style>\n",
       "<table border=\"1\" class=\"dataframe\">\n",
       "  <thead>\n",
       "    <tr style=\"text-align: right;\">\n",
       "      <th></th>\n",
       "      <th>mean</th>\n",
       "      <th>amax</th>\n",
       "      <th>amin</th>\n",
       "    </tr>\n",
       "    <tr>\n",
       "      <th>类型</th>\n",
       "      <th></th>\n",
       "      <th></th>\n",
       "      <th></th>\n",
       "    </tr>\n",
       "  </thead>\n",
       "  <tbody>\n",
       "    <tr>\n",
       "      <th>交通方便</th>\n",
       "      <td>421.000000</td>\n",
       "      <td>421</td>\n",
       "      <td>421</td>\n",
       "    </tr>\n",
       "    <tr>\n",
       "      <th>亲子酒店</th>\n",
       "      <td>745.400000</td>\n",
       "      <td>1686</td>\n",
       "      <td>269</td>\n",
       "    </tr>\n",
       "    <tr>\n",
       "      <th>休闲度假</th>\n",
       "      <td>1151.300000</td>\n",
       "      <td>4443</td>\n",
       "      <td>358</td>\n",
       "    </tr>\n",
       "    <tr>\n",
       "      <th>其他类型</th>\n",
       "      <td>269.300000</td>\n",
       "      <td>881</td>\n",
       "      <td>67</td>\n",
       "    </tr>\n",
       "    <tr>\n",
       "      <th>印象好</th>\n",
       "      <td>297.000000</td>\n",
       "      <td>297</td>\n",
       "      <td>297</td>\n",
       "    </tr>\n",
       "    <tr>\n",
       "      <th>商务出行</th>\n",
       "      <td>1045.153846</td>\n",
       "      <td>3159</td>\n",
       "      <td>401</td>\n",
       "    </tr>\n",
       "    <tr>\n",
       "      <th>地铁周边</th>\n",
       "      <td>374.139535</td>\n",
       "      <td>2640</td>\n",
       "      <td>67</td>\n",
       "    </tr>\n",
       "    <tr>\n",
       "      <th>大学周边</th>\n",
       "      <td>325.000000</td>\n",
       "      <td>325</td>\n",
       "      <td>325</td>\n",
       "    </tr>\n",
       "    <tr>\n",
       "      <th>客栈</th>\n",
       "      <td>397.666667</td>\n",
       "      <td>553</td>\n",
       "      <td>245</td>\n",
       "    </tr>\n",
       "    <tr>\n",
       "      <th>干净卫生</th>\n",
       "      <td>185.000000</td>\n",
       "      <td>185</td>\n",
       "      <td>185</td>\n",
       "    </tr>\n",
       "    <tr>\n",
       "      <th>民宿</th>\n",
       "      <td>258.500000</td>\n",
       "      <td>506</td>\n",
       "      <td>157</td>\n",
       "    </tr>\n",
       "    <tr>\n",
       "      <th>浪漫情侣</th>\n",
       "      <td>608.573529</td>\n",
       "      <td>1908</td>\n",
       "      <td>225</td>\n",
       "    </tr>\n",
       "    <tr>\n",
       "      <th>海滨风光</th>\n",
       "      <td>1543.573770</td>\n",
       "      <td>12926</td>\n",
       "      <td>331</td>\n",
       "    </tr>\n",
       "    <tr>\n",
       "      <th>火车站周边</th>\n",
       "      <td>968.000000</td>\n",
       "      <td>968</td>\n",
       "      <td>968</td>\n",
       "    </tr>\n",
       "    <tr>\n",
       "      <th>环境不错</th>\n",
       "      <td>357.666667</td>\n",
       "      <td>484</td>\n",
       "      <td>176</td>\n",
       "    </tr>\n",
       "    <tr>\n",
       "      <th>老板热情</th>\n",
       "      <td>385.000000</td>\n",
       "      <td>385</td>\n",
       "      <td>385</td>\n",
       "    </tr>\n",
       "    <tr>\n",
       "      <th>酒店公寓</th>\n",
       "      <td>1182.000000</td>\n",
       "      <td>2309</td>\n",
       "      <td>588</td>\n",
       "    </tr>\n",
       "    <tr>\n",
       "      <th>青年旅舍</th>\n",
       "      <td>189.250000</td>\n",
       "      <td>348</td>\n",
       "      <td>70</td>\n",
       "    </tr>\n",
       "  </tbody>\n",
       "</table>\n",
       "</div>"
      ],
      "text/plain": [
       "              mean   amax  amin\n",
       "类型                             \n",
       "交通方便    421.000000    421   421\n",
       "亲子酒店    745.400000   1686   269\n",
       "休闲度假   1151.300000   4443   358\n",
       "其他类型    269.300000    881    67\n",
       "印象好     297.000000    297   297\n",
       "商务出行   1045.153846   3159   401\n",
       "地铁周边    374.139535   2640    67\n",
       "大学周边    325.000000    325   325\n",
       "客栈      397.666667    553   245\n",
       "干净卫生    185.000000    185   185\n",
       "民宿      258.500000    506   157\n",
       "浪漫情侣    608.573529   1908   225\n",
       "海滨风光   1543.573770  12926   331\n",
       "火车站周边   968.000000    968   968\n",
       "环境不错    357.666667    484   176\n",
       "老板热情    385.000000    385   385\n",
       "酒店公寓   1182.000000   2309   588\n",
       "青年旅舍    189.250000    348    70"
      ]
     },
     "execution_count": 6,
     "metadata": {},
     "output_type": "execute_result"
    }
   ],
   "source": [
    "#每个酒店类型的平均价格、最高价、最低价\n",
    "df['价格'] = df['价格'].astype('int')\n",
    "df['价格'].groupby(df['类型']).agg([np.mean,np.max,np.min])"
   ]
  },
  {
   "cell_type": "markdown",
   "metadata": {},
   "source": [
    "（6）数据离散化，按照价格将酒店分为3个等级,0-500为C，500-1000为B,大于1000为A，列名设置为“价格等级”。"
   ]
  },
  {
   "cell_type": "code",
   "execution_count": 7,
   "metadata": {},
   "outputs": [
    {
     "data": {
      "text/html": [
       "<div>\n",
       "<style scoped>\n",
       "    .dataframe tbody tr th:only-of-type {\n",
       "        vertical-align: middle;\n",
       "    }\n",
       "\n",
       "    .dataframe tbody tr th {\n",
       "        vertical-align: top;\n",
       "    }\n",
       "\n",
       "    .dataframe thead th {\n",
       "        text-align: right;\n",
       "    }\n",
       "</style>\n",
       "<table border=\"1\" class=\"dataframe\">\n",
       "  <thead>\n",
       "    <tr style=\"text-align: right;\">\n",
       "      <th></th>\n",
       "      <th>Unnamed: 0</th>\n",
       "      <th>名字</th>\n",
       "      <th>类型</th>\n",
       "      <th>城市</th>\n",
       "      <th>地区</th>\n",
       "      <th>地点</th>\n",
       "      <th>评分</th>\n",
       "      <th>评分人数</th>\n",
       "      <th>价格</th>\n",
       "      <th>价格等级</th>\n",
       "    </tr>\n",
       "  </thead>\n",
       "  <tbody>\n",
       "    <tr>\n",
       "      <th>0</th>\n",
       "      <td>0</td>\n",
       "      <td>香港铜锣湾皇悦酒店(Empire Hotel Hong Kong-Causeway Bay)</td>\n",
       "      <td>浪漫情侣</td>\n",
       "      <td>香港</td>\n",
       "      <td>东区</td>\n",
       "      <td>铜锣湾永兴街8号</td>\n",
       "      <td>4.5</td>\n",
       "      <td>12708</td>\n",
       "      <td>693</td>\n",
       "      <td>B</td>\n",
       "    </tr>\n",
       "    <tr>\n",
       "      <th>1</th>\n",
       "      <td>1</td>\n",
       "      <td>香港碧荟酒店(The BEACON)</td>\n",
       "      <td>商务出行</td>\n",
       "      <td>香港</td>\n",
       "      <td>油尖旺</td>\n",
       "      <td>九龙旺角洗衣街88号</td>\n",
       "      <td>4.7</td>\n",
       "      <td>328</td>\n",
       "      <td>747</td>\n",
       "      <td>B</td>\n",
       "    </tr>\n",
       "    <tr>\n",
       "      <th>2</th>\n",
       "      <td>2</td>\n",
       "      <td>香港湾仔帝盛酒店(Dorsett Wanchai)</td>\n",
       "      <td>浪漫情侣</td>\n",
       "      <td>香港</td>\n",
       "      <td>湾仔</td>\n",
       "      <td>皇后大道东387-397号</td>\n",
       "      <td>4.4</td>\n",
       "      <td>5014</td>\n",
       "      <td>693</td>\n",
       "      <td>B</td>\n",
       "    </tr>\n",
       "    <tr>\n",
       "      <th>3</th>\n",
       "      <td>3</td>\n",
       "      <td>如心艾朗酒店(L‘hotel elan)</td>\n",
       "      <td>浪漫情侣</td>\n",
       "      <td>香港</td>\n",
       "      <td>观塘</td>\n",
       "      <td>观塘创业街38号</td>\n",
       "      <td>4.6</td>\n",
       "      <td>3427</td>\n",
       "      <td>581</td>\n",
       "      <td>B</td>\n",
       "    </tr>\n",
       "    <tr>\n",
       "      <th>4</th>\n",
       "      <td>4</td>\n",
       "      <td>香港隆堡柏宁顿酒店(Hotel Pennington by Rhombus)</td>\n",
       "      <td>浪漫情侣</td>\n",
       "      <td>香港</td>\n",
       "      <td>湾仔</td>\n",
       "      <td>铜锣湾边宁顿街13-15号</td>\n",
       "      <td>4.5</td>\n",
       "      <td>1938</td>\n",
       "      <td>869</td>\n",
       "      <td>B</td>\n",
       "    </tr>\n",
       "  </tbody>\n",
       "</table>\n",
       "</div>"
      ],
      "text/plain": [
       "   Unnamed: 0                                              名字    类型  城市   地区  \\\n",
       "0           0  香港铜锣湾皇悦酒店(Empire Hotel Hong Kong-Causeway Bay)  浪漫情侣  香港   东区   \n",
       "1           1                              香港碧荟酒店(The BEACON)  商务出行  香港  油尖旺   \n",
       "2           2                       香港湾仔帝盛酒店(Dorsett Wanchai)  浪漫情侣  香港   湾仔   \n",
       "3           3                            如心艾朗酒店(L‘hotel elan)  浪漫情侣  香港   观塘   \n",
       "4           4          香港隆堡柏宁顿酒店(Hotel Pennington by Rhombus)  浪漫情侣  香港   湾仔   \n",
       "\n",
       "              地点   评分   评分人数   价格 价格等级  \n",
       "0       铜锣湾永兴街8号  4.5  12708  693    B  \n",
       "1     九龙旺角洗衣街88号  4.7    328  747    B  \n",
       "2  皇后大道东387-397号  4.4   5014  693    B  \n",
       "3       观塘创业街38号  4.6   3427  581    B  \n",
       "4  铜锣湾边宁顿街13-15号  4.5   1938  869    B  "
      ]
     },
     "execution_count": 7,
     "metadata": {},
     "output_type": "execute_result"
    }
   ],
   "source": [
    "#按价格将酒店分类\n",
    "df['价格等级'] = pd.cut(df['价格'],bins=[0,500,1000,50000],labels=['C','B','A'])\n",
    "df.head()"
   ]
  },
  {
   "cell_type": "code",
   "execution_count": 8,
   "metadata": {},
   "outputs": [
    {
     "data": {
      "text/plain": [
       "地区\n",
       "观塘      4.000000\n",
       "荃湾      4.000000\n",
       "罗湖区     4.000000\n",
       "深水_区    4.000000\n",
       "沙田      4.000000\n",
       "屯门      4.000000\n",
       "元朗      4.000000\n",
       "东区      4.000000\n",
       "中西区     3.969697\n",
       "九龙城     3.952381\n",
       "湾仔      3.878049\n",
       "离岛      3.818182\n",
       "葵青      3.800000\n",
       "南区      3.800000\n",
       "其他地区    3.767857\n",
       "油尖旺     3.751351\n",
       "Name: 评分, dtype: float64"
      ]
     },
     "execution_count": 8,
     "metadata": {},
     "output_type": "execute_result"
    }
   ],
   "source": [
    "#获取评分均值最高和最低的地区的数据\n",
    "\n",
    "df['评分'] = df['评分'].astype('int')\n",
    "group=df['评分'].groupby(df['地区']).mean()\n",
    "group.sort_values(ascending=False)"
   ]
  },
  {
   "cell_type": "code",
   "execution_count": 9,
   "metadata": {},
   "outputs": [],
   "source": [
    "avg_max = df[df.地区.isin(['观塘','荃湾','罗湖区','深水埗区','沙田','屯门','元朗','东区'])]\n",
    "avg_min = df[df.地区 == '油尖旺']"
   ]
  },
  {
   "cell_type": "code",
   "execution_count": 10,
   "metadata": {},
   "outputs": [
    {
     "data": {
      "text/html": [
       "<div>\n",
       "<style scoped>\n",
       "    .dataframe tbody tr th:only-of-type {\n",
       "        vertical-align: middle;\n",
       "    }\n",
       "\n",
       "    .dataframe tbody tr th {\n",
       "        vertical-align: top;\n",
       "    }\n",
       "\n",
       "    .dataframe thead th {\n",
       "        text-align: right;\n",
       "    }\n",
       "</style>\n",
       "<table border=\"1\" class=\"dataframe\">\n",
       "  <thead>\n",
       "    <tr style=\"text-align: right;\">\n",
       "      <th></th>\n",
       "      <th>Unnamed: 0</th>\n",
       "      <th>名字</th>\n",
       "      <th>类型</th>\n",
       "      <th>城市</th>\n",
       "      <th>地区</th>\n",
       "      <th>地点</th>\n",
       "      <th>评分</th>\n",
       "      <th>评分人数</th>\n",
       "      <th>价格</th>\n",
       "      <th>价格等级</th>\n",
       "    </tr>\n",
       "  </thead>\n",
       "  <tbody>\n",
       "    <tr>\n",
       "      <th>0</th>\n",
       "      <td>0</td>\n",
       "      <td>香港铜锣湾皇悦酒店(Empire Hotel Hong Kong-Causeway Bay)</td>\n",
       "      <td>浪漫情侣</td>\n",
       "      <td>香港</td>\n",
       "      <td>东区</td>\n",
       "      <td>铜锣湾永兴街8号</td>\n",
       "      <td>4</td>\n",
       "      <td>12708</td>\n",
       "      <td>693</td>\n",
       "      <td>B</td>\n",
       "    </tr>\n",
       "    <tr>\n",
       "      <th>3</th>\n",
       "      <td>3</td>\n",
       "      <td>如心艾朗酒店(L‘hotel elan)</td>\n",
       "      <td>浪漫情侣</td>\n",
       "      <td>香港</td>\n",
       "      <td>观塘</td>\n",
       "      <td>观塘创业街38号</td>\n",
       "      <td>4</td>\n",
       "      <td>3427</td>\n",
       "      <td>581</td>\n",
       "      <td>B</td>\n",
       "    </tr>\n",
       "    <tr>\n",
       "      <th>17</th>\n",
       "      <td>17</td>\n",
       "      <td>香港悦来酒店(Panda Hotel)</td>\n",
       "      <td>休闲度假</td>\n",
       "      <td>香港</td>\n",
       "      <td>荃湾</td>\n",
       "      <td>荃湾 荃华街3号</td>\n",
       "      <td>4</td>\n",
       "      <td>13694</td>\n",
       "      <td>358</td>\n",
       "      <td>C</td>\n",
       "    </tr>\n",
       "    <tr>\n",
       "      <th>20</th>\n",
       "      <td>20</td>\n",
       "      <td>香港北角海逸酒店(Harbour Plaza North Point)</td>\n",
       "      <td>海滨风光</td>\n",
       "      <td>香港</td>\n",
       "      <td>东区</td>\n",
       "      <td>北角 英皇道665号(665 Kings Road, North Point, Hong K...</td>\n",
       "      <td>4</td>\n",
       "      <td>3980</td>\n",
       "      <td>507</td>\n",
       "      <td>B</td>\n",
       "    </tr>\n",
       "    <tr>\n",
       "      <th>21</th>\n",
       "      <td>21</td>\n",
       "      <td>香港帝景酒店(Royal View Hotel)</td>\n",
       "      <td>海滨风光</td>\n",
       "      <td>香港</td>\n",
       "      <td>荃湾</td>\n",
       "      <td>汀九 青山公路353号</td>\n",
       "      <td>4</td>\n",
       "      <td>3289</td>\n",
       "      <td>418</td>\n",
       "      <td>C</td>\n",
       "    </tr>\n",
       "  </tbody>\n",
       "</table>\n",
       "</div>"
      ],
      "text/plain": [
       "    Unnamed: 0                                              名字    类型  城市  地区  \\\n",
       "0            0  香港铜锣湾皇悦酒店(Empire Hotel Hong Kong-Causeway Bay)  浪漫情侣  香港  东区   \n",
       "3            3                            如心艾朗酒店(L‘hotel elan)  浪漫情侣  香港  观塘   \n",
       "17          17                             香港悦来酒店(Panda Hotel)  休闲度假  香港  荃湾   \n",
       "20          20             香港北角海逸酒店(Harbour Plaza North Point)  海滨风光  香港  东区   \n",
       "21          21                        香港帝景酒店(Royal View Hotel)  海滨风光  香港  荃湾   \n",
       "\n",
       "                                                   地点  评分   评分人数   价格 价格等级  \n",
       "0                                            铜锣湾永兴街8号   4  12708  693    B  \n",
       "3                                            观塘创业街38号   4   3427  581    B  \n",
       "17                                           荃湾 荃华街3号   4  13694  358    C  \n",
       "20  北角 英皇道665号(665 Kings Road, North Point, Hong K...   4   3980  507    B  \n",
       "21                                        汀九 青山公路353号   4   3289  418    C  "
      ]
     },
     "execution_count": 10,
     "metadata": {},
     "output_type": "execute_result"
    }
   ],
   "source": [
    "avg_max.append(avg_min).head()"
   ]
  },
  {
   "cell_type": "code",
   "execution_count": 11,
   "metadata": {},
   "outputs": [
    {
     "data": {
      "text/html": [
       "<div>\n",
       "<style scoped>\n",
       "    .dataframe tbody tr th:only-of-type {\n",
       "        vertical-align: middle;\n",
       "    }\n",
       "\n",
       "    .dataframe tbody tr th {\n",
       "        vertical-align: top;\n",
       "    }\n",
       "\n",
       "    .dataframe thead th {\n",
       "        text-align: right;\n",
       "    }\n",
       "</style>\n",
       "<table border=\"1\" class=\"dataframe\">\n",
       "  <thead>\n",
       "    <tr style=\"text-align: right;\">\n",
       "      <th></th>\n",
       "      <th>Unnamed: 0</th>\n",
       "      <th>名字</th>\n",
       "      <th>类型</th>\n",
       "      <th>城市</th>\n",
       "      <th>地区</th>\n",
       "      <th>地点</th>\n",
       "      <th>评分</th>\n",
       "      <th>评分人数</th>\n",
       "      <th>价格</th>\n",
       "      <th>价格等级</th>\n",
       "    </tr>\n",
       "  </thead>\n",
       "  <tbody>\n",
       "    <tr>\n",
       "      <th>0</th>\n",
       "      <td>0</td>\n",
       "      <td>香港铜锣湾皇悦酒店(Empire Hotel Hong Kong-Causeway Bay)</td>\n",
       "      <td>浪漫情侣</td>\n",
       "      <td>香港</td>\n",
       "      <td>东区</td>\n",
       "      <td>铜锣湾永兴街8号</td>\n",
       "      <td>4</td>\n",
       "      <td>12708</td>\n",
       "      <td>693</td>\n",
       "      <td>B</td>\n",
       "    </tr>\n",
       "    <tr>\n",
       "      <th>3</th>\n",
       "      <td>3</td>\n",
       "      <td>如心艾朗酒店(L‘hotel elan)</td>\n",
       "      <td>浪漫情侣</td>\n",
       "      <td>香港</td>\n",
       "      <td>观塘</td>\n",
       "      <td>观塘创业街38号</td>\n",
       "      <td>4</td>\n",
       "      <td>3427</td>\n",
       "      <td>581</td>\n",
       "      <td>B</td>\n",
       "    </tr>\n",
       "    <tr>\n",
       "      <th>17</th>\n",
       "      <td>17</td>\n",
       "      <td>香港悦来酒店(Panda Hotel)</td>\n",
       "      <td>休闲度假</td>\n",
       "      <td>香港</td>\n",
       "      <td>荃湾</td>\n",
       "      <td>荃湾 荃华街3号</td>\n",
       "      <td>4</td>\n",
       "      <td>13694</td>\n",
       "      <td>358</td>\n",
       "      <td>C</td>\n",
       "    </tr>\n",
       "    <tr>\n",
       "      <th>20</th>\n",
       "      <td>20</td>\n",
       "      <td>香港北角海逸酒店(Harbour Plaza North Point)</td>\n",
       "      <td>海滨风光</td>\n",
       "      <td>香港</td>\n",
       "      <td>东区</td>\n",
       "      <td>北角 英皇道665号(665 Kings Road, North Point, Hong K...</td>\n",
       "      <td>4</td>\n",
       "      <td>3980</td>\n",
       "      <td>507</td>\n",
       "      <td>B</td>\n",
       "    </tr>\n",
       "    <tr>\n",
       "      <th>21</th>\n",
       "      <td>21</td>\n",
       "      <td>香港帝景酒店(Royal View Hotel)</td>\n",
       "      <td>海滨风光</td>\n",
       "      <td>香港</td>\n",
       "      <td>荃湾</td>\n",
       "      <td>汀九 青山公路353号</td>\n",
       "      <td>4</td>\n",
       "      <td>3289</td>\n",
       "      <td>418</td>\n",
       "      <td>C</td>\n",
       "    </tr>\n",
       "  </tbody>\n",
       "</table>\n",
       "</div>"
      ],
      "text/plain": [
       "    Unnamed: 0                                              名字    类型  城市  地区  \\\n",
       "0            0  香港铜锣湾皇悦酒店(Empire Hotel Hong Kong-Causeway Bay)  浪漫情侣  香港  东区   \n",
       "3            3                            如心艾朗酒店(L‘hotel elan)  浪漫情侣  香港  观塘   \n",
       "17          17                             香港悦来酒店(Panda Hotel)  休闲度假  香港  荃湾   \n",
       "20          20             香港北角海逸酒店(Harbour Plaza North Point)  海滨风光  香港  东区   \n",
       "21          21                        香港帝景酒店(Royal View Hotel)  海滨风光  香港  荃湾   \n",
       "\n",
       "                                                   地点  评分   评分人数   价格 价格等级  \n",
       "0                                            铜锣湾永兴街8号   4  12708  693    B  \n",
       "3                                            观塘创业街38号   4   3427  581    B  \n",
       "17                                           荃湾 荃华街3号   4  13694  358    C  \n",
       "20  北角 英皇道665号(665 Kings Road, North Point, Hong K...   4   3980  507    B  \n",
       "21                                        汀九 青山公路353号   4   3289  418    C  "
      ]
     },
     "execution_count": 11,
     "metadata": {},
     "output_type": "execute_result"
    }
   ],
   "source": [
    "pd.concat([avg_max,avg_min]).head()"
   ]
  },
  {
   "cell_type": "markdown",
   "metadata": {},
   "source": [
    "（8）数据离散化，按照评分人数将酒店平均分为3个等级，三个等级的酒店数量尽量保持一致。评分人数最多的为A，最少的为C。列名设置为“热门等级”。"
   ]
  },
  {
   "cell_type": "code",
   "execution_count": 12,
   "metadata": {},
   "outputs": [
    {
     "data": {
      "text/plain": [
       "132.0"
      ]
     },
     "execution_count": 12,
     "metadata": {},
     "output_type": "execute_result"
    }
   ],
   "source": [
    "#按评论人数增加热门等级维度\n",
    "\n",
    "k = np.array(df['评分人数'].values)\n",
    "k.sort()\n",
    "len(k)/3"
   ]
  },
  {
   "cell_type": "code",
   "execution_count": 13,
   "metadata": {},
   "outputs": [
    {
     "data": {
      "text/html": [
       "<div>\n",
       "<style scoped>\n",
       "    .dataframe tbody tr th:only-of-type {\n",
       "        vertical-align: middle;\n",
       "    }\n",
       "\n",
       "    .dataframe tbody tr th {\n",
       "        vertical-align: top;\n",
       "    }\n",
       "\n",
       "    .dataframe thead th {\n",
       "        text-align: right;\n",
       "    }\n",
       "</style>\n",
       "<table border=\"1\" class=\"dataframe\">\n",
       "  <thead>\n",
       "    <tr style=\"text-align: right;\">\n",
       "      <th></th>\n",
       "      <th>Unnamed: 0</th>\n",
       "      <th>名字</th>\n",
       "      <th>类型</th>\n",
       "      <th>城市</th>\n",
       "      <th>地区</th>\n",
       "      <th>地点</th>\n",
       "      <th>评分</th>\n",
       "      <th>评分人数</th>\n",
       "      <th>价格</th>\n",
       "      <th>价格等级</th>\n",
       "      <th>热门等级</th>\n",
       "    </tr>\n",
       "  </thead>\n",
       "  <tbody>\n",
       "    <tr>\n",
       "      <th>0</th>\n",
       "      <td>0</td>\n",
       "      <td>香港铜锣湾皇悦酒店(Empire Hotel Hong Kong-Causeway Bay)</td>\n",
       "      <td>浪漫情侣</td>\n",
       "      <td>香港</td>\n",
       "      <td>东区</td>\n",
       "      <td>铜锣湾永兴街8号</td>\n",
       "      <td>4</td>\n",
       "      <td>12708</td>\n",
       "      <td>693</td>\n",
       "      <td>B</td>\n",
       "      <td>A</td>\n",
       "    </tr>\n",
       "    <tr>\n",
       "      <th>1</th>\n",
       "      <td>1</td>\n",
       "      <td>香港碧荟酒店(The BEACON)</td>\n",
       "      <td>商务出行</td>\n",
       "      <td>香港</td>\n",
       "      <td>油尖旺</td>\n",
       "      <td>九龙旺角洗衣街88号</td>\n",
       "      <td>4</td>\n",
       "      <td>328</td>\n",
       "      <td>747</td>\n",
       "      <td>B</td>\n",
       "      <td>B</td>\n",
       "    </tr>\n",
       "    <tr>\n",
       "      <th>2</th>\n",
       "      <td>2</td>\n",
       "      <td>香港湾仔帝盛酒店(Dorsett Wanchai)</td>\n",
       "      <td>浪漫情侣</td>\n",
       "      <td>香港</td>\n",
       "      <td>湾仔</td>\n",
       "      <td>皇后大道东387-397号</td>\n",
       "      <td>4</td>\n",
       "      <td>5014</td>\n",
       "      <td>693</td>\n",
       "      <td>B</td>\n",
       "      <td>A</td>\n",
       "    </tr>\n",
       "    <tr>\n",
       "      <th>3</th>\n",
       "      <td>3</td>\n",
       "      <td>如心艾朗酒店(L‘hotel elan)</td>\n",
       "      <td>浪漫情侣</td>\n",
       "      <td>香港</td>\n",
       "      <td>观塘</td>\n",
       "      <td>观塘创业街38号</td>\n",
       "      <td>4</td>\n",
       "      <td>3427</td>\n",
       "      <td>581</td>\n",
       "      <td>B</td>\n",
       "      <td>A</td>\n",
       "    </tr>\n",
       "    <tr>\n",
       "      <th>4</th>\n",
       "      <td>4</td>\n",
       "      <td>香港隆堡柏宁顿酒店(Hotel Pennington by Rhombus)</td>\n",
       "      <td>浪漫情侣</td>\n",
       "      <td>香港</td>\n",
       "      <td>湾仔</td>\n",
       "      <td>铜锣湾边宁顿街13-15号</td>\n",
       "      <td>4</td>\n",
       "      <td>1938</td>\n",
       "      <td>869</td>\n",
       "      <td>B</td>\n",
       "      <td>B</td>\n",
       "    </tr>\n",
       "  </tbody>\n",
       "</table>\n",
       "</div>"
      ],
      "text/plain": [
       "   Unnamed: 0                                              名字    类型  城市   地区  \\\n",
       "0           0  香港铜锣湾皇悦酒店(Empire Hotel Hong Kong-Causeway Bay)  浪漫情侣  香港   东区   \n",
       "1           1                              香港碧荟酒店(The BEACON)  商务出行  香港  油尖旺   \n",
       "2           2                       香港湾仔帝盛酒店(Dorsett Wanchai)  浪漫情侣  香港   湾仔   \n",
       "3           3                            如心艾朗酒店(L‘hotel elan)  浪漫情侣  香港   观塘   \n",
       "4           4          香港隆堡柏宁顿酒店(Hotel Pennington by Rhombus)  浪漫情侣  香港   湾仔   \n",
       "\n",
       "              地点  评分   评分人数   价格 价格等级 热门等级  \n",
       "0       铜锣湾永兴街8号   4  12708  693    B    A  \n",
       "1     九龙旺角洗衣街88号   4    328  747    B    B  \n",
       "2  皇后大道东387-397号   4   5014  693    B    A  \n",
       "3       观塘创业街38号   4   3427  581    B    A  \n",
       "4  铜锣湾边宁顿街13-15号   4   1938  869    B    B  "
      ]
     },
     "execution_count": 13,
     "metadata": {},
     "output_type": "execute_result"
    }
   ],
   "source": [
    "bins = [k[0],k[132],k[264],k[-1]]\n",
    "df['热门等级']=pd.cut(df['评分人数'],bins,labels=['C','B','A'])\n",
    "df.head()"
   ]
  },
  {
   "cell_type": "code",
   "execution_count": 14,
   "metadata": {},
   "outputs": [
    {
     "data": {
      "text/plain": [
       "4.0"
      ]
     },
     "execution_count": 14,
     "metadata": {},
     "output_type": "execute_result"
    }
   ],
   "source": [
    "#获取最热门酒店平均评分\n",
    "df[(df.价格等级=='A')&(df.热门等级=='A')]['评分'].mean()"
   ]
  },
  {
   "cell_type": "code",
   "execution_count": 15,
   "metadata": {},
   "outputs": [],
   "source": [
    "plt.rcParams['font.sans-serif'] = ['SimHei']\n",
    "plt.rcParams['axes.unicode_minus'] = False"
   ]
  },
  {
   "cell_type": "code",
   "execution_count": 16,
   "metadata": {},
   "outputs": [
    {
     "name": "stderr",
     "output_type": "stream",
     "text": [
      "/usr/local/lib/python3.6/dist-packages/matplotlib/font_manager.py:1241: UserWarning: findfont: Font family ['sans-serif'] not found. Falling back to DejaVu Sans.\n",
      "  (prop.get_family(), self.defaultFamily[fontext]))\n"
     ]
    },
    {
     "data": {
      "image/png": "[encoded data removed]",
      "text/plain": [
       "<Figure size 432x288 with 1 Axes>"
      ]
     },
     "metadata": {
      "needs_background": "light"
     },
     "output_type": "display_data"
    }
   ],
   "source": [
    "#每个地区酒店数量分布\n",
    "\n",
    "data = df['地区'].value_counts()\n",
    "x = data.index\n",
    "y = data.values\n",
    "\n",
    "plt.bar(x,y,color='r')\n",
    "plt.title('各地区酒店数据',fontsize=20)\n",
    "plt.xlabel('地区',fontsize=12)\n",
    "plt.ylabel('酒店数量',fontsize=12)\n",
    "plt.xticks(rotation=90)\n",
    "\n",
    "for a,b in zip(x,y):\n",
    "    plt.text(a,b+1,'%.0f'% b,ha='center',va='bottom',fontsize=10)\n",
    "plt.show()"
   ]
  },
  {
   "cell_type": "code",
   "execution_count": 17,
   "metadata": {},
   "outputs": [],
   "source": [
    "#各个价格等级酒店数量分布\n",
    "\n",
    "data = df['价格等级'].value_counts()\n",
    "x = data.index\n",
    "y = data.values"
   ]
  },
  {
   "cell_type": "code",
   "execution_count": 18,
   "metadata": {},
   "outputs": [
    {
     "data": {
      "text/plain": [
       "CategoricalIndex(['C', 'B', 'A'], categories=['C', 'B', 'A'], ordered=True, dtype='category')"
      ]
     },
     "execution_count": 18,
     "metadata": {},
     "output_type": "execute_result"
    }
   ],
   "source": [
    "x"
   ]
  },
  {
   "cell_type": "code",
   "execution_count": 19,
   "metadata": {},
   "outputs": [
    {
     "data": {
      "text/plain": [
       "array([232,  96,  68])"
      ]
     },
     "execution_count": 19,
     "metadata": {},
     "output_type": "execute_result"
    }
   ],
   "source": [
    "y"
   ]
  },
  {
   "cell_type": "code",
   "execution_count": 20,
   "metadata": {},
   "outputs": [
    {
     "data": {
      "image/png": "[encoded data removed]",
      "text/plain": [
       "<Figure size 288x360 with 1 Axes>"
      ]
     },
     "metadata": {
      "needs_background": "light"
     },
     "output_type": "display_data"
    }
   ],
   "source": [
    "plt.figure(figsize=(4,5))\n",
    "plt.bar(x,y,color='b',alpha=0.5)\n",
    "plt.xlabel('价格等级',fontsize=12)\n",
    "plt.ylabel('酒店数量',fontsize=12)\n",
    "plt.title('各价格等级酒店数量',fontsize=20)\n",
    "for a,b in zip(x,y):\n",
    "    plt.text(a,b+1,'%.0f'% b,ha='center',va='bottom',fontsize=12)\n",
    "plt.show()"
   ]
  },
  {
   "cell_type": "code",
   "execution_count": 21,
   "metadata": {},
   "outputs": [],
   "source": [
    "#各价格等级酒店占比分布\n",
    "\n",
    "data = df['价格等级'].value_counts()"
   ]
  },
  {
   "cell_type": "code",
   "execution_count": 22,
   "metadata": {},
   "outputs": [
    {
     "data": {
      "text/plain": [
       "C    232\n",
       "B     96\n",
       "A     68\n",
       "Name: 价格等级, dtype: int64"
      ]
     },
     "execution_count": 22,
     "metadata": {},
     "output_type": "execute_result"
    }
   ],
   "source": [
    "data"
   ]
  },
  {
   "cell_type": "code",
   "execution_count": 23,
   "metadata": {},
   "outputs": [
    {
     "data": {
      "image/png": "[encoded data removed]",
      "text/plain": [
       "<Figure size 432x432 with 1 Axes>"
      ]
     },
     "metadata": {},
     "output_type": "display_data"
    }
   ],
   "source": [
    "label = data.index\n",
    "y = data.values\n",
    "y = y/sum(y)\n",
    "\n",
    "plt.figure(figsize=(6,6))\n",
    "patches,l_text,p_text = plt.pie(y,labels=label,autopct='%.1f%%',startangle = 90)\n",
    "plt.title('各价格等级酒店数量占比',fontsize=20)\n",
    "\n",
    "for i in p_text:\n",
    "    i.set_size(12)\n",
    "    i.set_color('w')\n",
    "\n",
    "for i in l_text:\n",
    "     i.set_size(15)\n",
    "     i.set_color('r')\n",
    "\n",
    "\n",
    "plt.legend()\n",
    "    \n",
    "plt.show()"
   ]
  },
  {
   "cell_type": "code",
   "execution_count": 24,
   "metadata": {},
   "outputs": [
    {
     "data": {
      "text/plain": [
       "热门等级\n",
       "C    3.551181\n",
       "B    3.924242\n",
       "A    3.977099\n",
       "Name: 评分, dtype: float64"
      ]
     },
     "execution_count": 24,
     "metadata": {},
     "output_type": "execute_result"
    }
   ],
   "source": [
    "#各热门等级酒店平均评分\n",
    "\n",
    "data = df['评分'].groupby(df['热门等级']).mean()\n",
    "data"
   ]
  },
  {
   "cell_type": "code",
   "execution_count": 25,
   "metadata": {},
   "outputs": [
    {
     "data": {
      "image/png": "[encoded data removed]",
      "text/plain": [
       "<Figure size 432x288 with 1 Axes>"
      ]
     },
     "metadata": {
      "needs_background": "light"
     },
     "output_type": "display_data"
    }
   ],
   "source": [
    "x = data.index\n",
    "y = data.values\n",
    "\n",
    "plt.figure(figsize=(6,4))\n",
    "plt.bar(x,y,color='g',width=0.3)\n",
    "plt.title('各热门等级平均得分',fontsize=20)\n",
    "plt.xlabel('热门等级',fontsize=12)\n",
    "plt.ylabel('平均得分',fontsize=12)\n",
    "\n",
    "\n",
    "for a,b in zip(x,y):\n",
    "    plt.text(a,b,'%.1f'% b,ha='center',va='bottom',fontsize=12)\n",
    "plt.show()"
   ]
  },
  {
   "cell_type": "code",
   "execution_count": 26,
   "metadata": {},
   "outputs": [
    {
     "data": {
      "image/png": "[encoded data removed]",
      "text/plain": [
       "<Figure size 432x288 with 1 Axes>"
      ]
     },
     "metadata": {
      "needs_background": "light"
     },
     "output_type": "display_data"
    }
   ],
   "source": [
    "#平均价格top5地区酒店价位箱型图\n",
    "\n",
    "data = df.groupby(df['地区'])['价格'].mean()\n",
    "data = data.sort_values(ascending=False)[0:5]\n",
    "\n",
    "dataa = df[df.地区=='中西区']['价格']\n",
    "datab = df[df.地区=='离岛']['价格']\n",
    "datac = df[df.地区=='沙田']['价格']\n",
    "datad = df[df.地区=='湾仔']['价格']\n",
    "datae = df[df.地区=='东区']['价格']\n",
    "plt.boxplot([dataa,datab,datac,datad,datae],labels=['中西区','离岛','沙田','湾仔','东区'],whis= 2)\n",
    "plt.title('香港各地区酒店评分',fontsize=15)\n",
    "plt.xlabel('地区',fontsize=10)\n",
    "plt.ylabel('评分',fontsize=10)\n",
    "plt.ylim([0,6000])\n",
    "plt.show()"
   ]
  }
 ],
 "metadata": {
  "kernelspec": {
   "display_name": "Python 3",
   "language": "python",
   "name": "python3"
  },
  "language_info": {
   "codemirror_mode": {
    "name": "ipython",
    "version": 3
   },
   "file_extension": ".py",
   "mimetype": "text/x-python",
   "name": "python",
   "nbconvert_exporter": "python",
   "pygments_lexer": "ipython3",
   "version": "3.6.8"
  }
 },
 "nbformat": 4,
 "nbformat_minor": 2
}
