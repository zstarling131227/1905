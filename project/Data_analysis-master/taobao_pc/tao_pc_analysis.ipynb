{
 "cells": [
  {
   "cell_type": "code",
   "execution_count": 1,
   "metadata": {},
   "outputs": [],
   "source": [
    "import matplotlib.pyplot as plt\n",
    "import numpy as np\n",
    "import pandas as pd"
   ]
  },
  {
   "cell_type": "code",
   "execution_count": 2,
   "metadata": {},
   "outputs": [],
   "source": [
    "plt.rcParams['font.family'] = ['SimHei']\n",
    "plt.rcParams['axes.unicode_minus'] = False"
   ]
  },
  {
   "cell_type": "markdown",
   "metadata": {},
   "source": [
    "#### 概览数据信息"
   ]
  },
  {
   "cell_type": "code",
   "execution_count": 3,
   "metadata": {},
   "outputs": [],
   "source": [
    "#读取数据\n",
    "tp = pd.read_excel('tb_pc.xlsx')"
   ]
  },
  {
   "cell_type": "code",
   "execution_count": 4,
   "metadata": {},
   "outputs": [
    {
     "data": {
      "text/html": [
       "<div>\n",
       "<style scoped>\n",
       "    .dataframe tbody tr th:only-of-type {\n",
       "        vertical-align: middle;\n",
       "    }\n",
       "\n",
       "    .dataframe tbody tr th {\n",
       "        vertical-align: top;\n",
       "    }\n",
       "\n",
       "    .dataframe thead th {\n",
       "        text-align: right;\n",
       "    }\n",
       "</style>\n",
       "<table border=\"1\" class=\"dataframe\">\n",
       "  <thead>\n",
       "    <tr style=\"text-align: right;\">\n",
       "      <th></th>\n",
       "      <th>store</th>\n",
       "      <th>head</th>\n",
       "      <th>price</th>\n",
       "      <th>sales</th>\n",
       "      <th>location</th>\n",
       "      <th>comment</th>\n",
       "    </tr>\n",
       "  </thead>\n",
       "  <tbody>\n",
       "    <tr>\n",
       "      <th>0</th>\n",
       "      <td>dere戴睿旗舰店</td>\n",
       "      <td>笔记本电脑DERE戴睿R9 pro轻薄便携学生15.6英寸全新四核独显游戏本超薄超级上网手提...</td>\n",
       "      <td>1468.0</td>\n",
       "      <td>9772人付款</td>\n",
       "      <td>广东 深圳</td>\n",
       "      <td>28214</td>\n",
       "    </tr>\n",
       "    <tr>\n",
       "      <th>1</th>\n",
       "      <td>联想艾克兰斯专卖店</td>\n",
       "      <td>Lenovo/联想 拯救者 Y7000 15.6英寸游戏本笔记本电脑 i5轻薄独显</td>\n",
       "      <td>5499.0</td>\n",
       "      <td>1399人付款</td>\n",
       "      <td>北京</td>\n",
       "      <td>2898</td>\n",
       "    </tr>\n",
       "  </tbody>\n",
       "</table>\n",
       "</div>"
      ],
      "text/plain": [
       "       store                                               head   price  \\\n",
       "0  dere戴睿旗舰店  笔记本电脑DERE戴睿R9 pro轻薄便携学生15.6英寸全新四核独显游戏本超薄超级上网手提...  1468.0   \n",
       "1  联想艾克兰斯专卖店          Lenovo/联想 拯救者 Y7000 15.6英寸游戏本笔记本电脑 i5轻薄独显  5499.0   \n",
       "\n",
       "     sales location  comment  \n",
       "0  9772人付款    广东 深圳    28214  \n",
       "1  1399人付款       北京     2898  "
      ]
     },
     "execution_count": 4,
     "metadata": {},
     "output_type": "execute_result"
    }
   ],
   "source": [
    "#数据预览\n",
    "tp.head(2)"
   ]
  },
  {
   "cell_type": "code",
   "execution_count": 5,
   "metadata": {},
   "outputs": [
    {
     "name": "stdout",
     "output_type": "stream",
     "text": [
      "<class 'pandas.core.frame.DataFrame'>\n",
      "RangeIndex: 92 entries, 0 to 91\n",
      "Data columns (total 6 columns):\n",
      "store       92 non-null object\n",
      "head        92 non-null object\n",
      "price       92 non-null float64\n",
      "sales       92 non-null object\n",
      "location    92 non-null object\n",
      "comment     92 non-null int64\n",
      "dtypes: float64(1), int64(1), object(4)\n",
      "memory usage: 4.4+ KB\n"
     ]
    }
   ],
   "source": [
    "#数据信息概览\n",
    "tp.info()"
   ]
  },
  {
   "cell_type": "code",
   "execution_count": 6,
   "metadata": {},
   "outputs": [
    {
     "data": {
      "text/html": [
       "<div>\n",
       "<style scoped>\n",
       "    .dataframe tbody tr th:only-of-type {\n",
       "        vertical-align: middle;\n",
       "    }\n",
       "\n",
       "    .dataframe tbody tr th {\n",
       "        vertical-align: top;\n",
       "    }\n",
       "\n",
       "    .dataframe thead th {\n",
       "        text-align: right;\n",
       "    }\n",
       "</style>\n",
       "<table border=\"1\" class=\"dataframe\">\n",
       "  <thead>\n",
       "    <tr style=\"text-align: right;\">\n",
       "      <th></th>\n",
       "      <th>price</th>\n",
       "      <th>comment</th>\n",
       "    </tr>\n",
       "  </thead>\n",
       "  <tbody>\n",
       "    <tr>\n",
       "      <th>count</th>\n",
       "      <td>92.000000</td>\n",
       "      <td>92.000000</td>\n",
       "    </tr>\n",
       "    <tr>\n",
       "      <th>mean</th>\n",
       "      <td>4653.876522</td>\n",
       "      <td>3341.782609</td>\n",
       "    </tr>\n",
       "    <tr>\n",
       "      <th>std</th>\n",
       "      <td>1923.350105</td>\n",
       "      <td>4832.466182</td>\n",
       "    </tr>\n",
       "    <tr>\n",
       "      <th>min</th>\n",
       "      <td>888.000000</td>\n",
       "      <td>20.000000</td>\n",
       "    </tr>\n",
       "    <tr>\n",
       "      <th>25%</th>\n",
       "      <td>3599.000000</td>\n",
       "      <td>356.500000</td>\n",
       "    </tr>\n",
       "    <tr>\n",
       "      <th>50%</th>\n",
       "      <td>4624.000000</td>\n",
       "      <td>1541.500000</td>\n",
       "    </tr>\n",
       "    <tr>\n",
       "      <th>75%</th>\n",
       "      <td>5821.250000</td>\n",
       "      <td>4034.250000</td>\n",
       "    </tr>\n",
       "    <tr>\n",
       "      <th>max</th>\n",
       "      <td>8999.000000</td>\n",
       "      <td>28214.000000</td>\n",
       "    </tr>\n",
       "  </tbody>\n",
       "</table>\n",
       "</div>"
      ],
      "text/plain": [
       "             price       comment\n",
       "count    92.000000     92.000000\n",
       "mean   4653.876522   3341.782609\n",
       "std    1923.350105   4832.466182\n",
       "min     888.000000     20.000000\n",
       "25%    3599.000000    356.500000\n",
       "50%    4624.000000   1541.500000\n",
       "75%    5821.250000   4034.250000\n",
       "max    8999.000000  28214.000000"
      ]
     },
     "execution_count": 6,
     "metadata": {},
     "output_type": "execute_result"
    }
   ],
   "source": [
    "tp.describe()"
   ]
  },
  {
   "cell_type": "markdown",
   "metadata": {},
   "source": [
    "#### 数据清洗"
   ]
  },
  {
   "cell_type": "code",
   "execution_count": 7,
   "metadata": {},
   "outputs": [],
   "source": [
    "#将付款人数提取出来并转换成‘int’\n",
    "tp['sales_num'] = tp.sales.apply(lambda x: x[0:-3]).astype('int')"
   ]
  },
  {
   "cell_type": "code",
   "execution_count": 8,
   "metadata": {},
   "outputs": [
    {
     "data": {
      "text/html": [
       "<div>\n",
       "<style scoped>\n",
       "    .dataframe tbody tr th:only-of-type {\n",
       "        vertical-align: middle;\n",
       "    }\n",
       "\n",
       "    .dataframe tbody tr th {\n",
       "        vertical-align: top;\n",
       "    }\n",
       "\n",
       "    .dataframe thead th {\n",
       "        text-align: right;\n",
       "    }\n",
       "</style>\n",
       "<table border=\"1\" class=\"dataframe\">\n",
       "  <thead>\n",
       "    <tr style=\"text-align: right;\">\n",
       "      <th></th>\n",
       "      <th>store</th>\n",
       "      <th>head</th>\n",
       "      <th>price</th>\n",
       "      <th>sales</th>\n",
       "      <th>location</th>\n",
       "      <th>comment</th>\n",
       "      <th>sales_num</th>\n",
       "    </tr>\n",
       "  </thead>\n",
       "  <tbody>\n",
       "    <tr>\n",
       "      <th>0</th>\n",
       "      <td>dere戴睿旗舰店</td>\n",
       "      <td>笔记本电脑DERE戴睿R9 pro轻薄便携学生15.6英寸全新四核独显游戏本超薄超级上网手提...</td>\n",
       "      <td>1468.0</td>\n",
       "      <td>9772人付款</td>\n",
       "      <td>广东 深圳</td>\n",
       "      <td>28214</td>\n",
       "      <td>9772</td>\n",
       "    </tr>\n",
       "    <tr>\n",
       "      <th>1</th>\n",
       "      <td>联想艾克兰斯专卖店</td>\n",
       "      <td>Lenovo/联想 拯救者 Y7000 15.6英寸游戏本笔记本电脑 i5轻薄独显</td>\n",
       "      <td>5499.0</td>\n",
       "      <td>1399人付款</td>\n",
       "      <td>北京</td>\n",
       "      <td>2898</td>\n",
       "      <td>1399</td>\n",
       "    </tr>\n",
       "  </tbody>\n",
       "</table>\n",
       "</div>"
      ],
      "text/plain": [
       "       store                                               head   price  \\\n",
       "0  dere戴睿旗舰店  笔记本电脑DERE戴睿R9 pro轻薄便携学生15.6英寸全新四核独显游戏本超薄超级上网手提...  1468.0   \n",
       "1  联想艾克兰斯专卖店          Lenovo/联想 拯救者 Y7000 15.6英寸游戏本笔记本电脑 i5轻薄独显  5499.0   \n",
       "\n",
       "     sales location  comment  sales_num  \n",
       "0  9772人付款    广东 深圳    28214       9772  \n",
       "1  1399人付款       北京     2898       1399  "
      ]
     },
     "execution_count": 8,
     "metadata": {},
     "output_type": "execute_result"
    }
   ],
   "source": [
    "tp.head(2)"
   ]
  },
  {
   "cell_type": "code",
   "execution_count": 9,
   "metadata": {},
   "outputs": [
    {
     "data": {
      "text/html": [
       "<div>\n",
       "<style scoped>\n",
       "    .dataframe tbody tr th:only-of-type {\n",
       "        vertical-align: middle;\n",
       "    }\n",
       "\n",
       "    .dataframe tbody tr th {\n",
       "        vertical-align: top;\n",
       "    }\n",
       "\n",
       "    .dataframe thead th {\n",
       "        text-align: right;\n",
       "    }\n",
       "</style>\n",
       "<table border=\"1\" class=\"dataframe\">\n",
       "  <thead>\n",
       "    <tr style=\"text-align: right;\">\n",
       "      <th></th>\n",
       "      <th></th>\n",
       "      <th>sales_num</th>\n",
       "    </tr>\n",
       "    <tr>\n",
       "      <th>store</th>\n",
       "      <th>head</th>\n",
       "      <th></th>\n",
       "    </tr>\n",
       "  </thead>\n",
       "  <tbody>\n",
       "    <tr>\n",
       "      <th>aierxuan旗舰店</th>\n",
       "      <th>aierxuan 焰魔 G2 游戏本i7独显 GTX1060/6G显卡 全新15.6英寸商务办公电脑学生吃鸡笔记本电脑144Hz电竞屏</th>\n",
       "      <td>1124</td>\n",
       "    </tr>\n",
       "    <tr>\n",
       "      <th>asus华硕官方旗舰店</th>\n",
       "      <th>Asus/华硕 灵耀S2代S4300FN 轻薄便携商务办公游戏笔记本电脑8代i5增强版超薄本14英寸男女学生超极本</th>\n",
       "      <td>2353</td>\n",
       "    </tr>\n",
       "    <tr>\n",
       "      <th>chinantc</th>\n",
       "      <th>Hasee/神舟战神Z6I5I7独显GTX1060/1050Ti吃鸡游戏本笔记本电脑</th>\n",
       "      <td>290</td>\n",
       "    </tr>\n",
       "    <tr>\n",
       "      <th rowspan=\"2\" valign=\"top\">daysky旗舰店</th>\n",
       "      <th>2019贺岁新款笔记本电脑Daysky X9 Plus轻薄便携学生15.6英寸手提商务办公游戏本指纹解锁超薄独显正品I5/I7</th>\n",
       "      <td>6939</td>\n",
       "    </tr>\n",
       "    <tr>\n",
       "      <th>笔记本电脑Daysky DK 190轻薄便携学生14英寸手提办公商务游戏本秒I5/I7吃鸡电脑时尚超薄超级本独显超极本</th>\n",
       "      <td>2425</td>\n",
       "    </tr>\n",
       "  </tbody>\n",
       "</table>\n",
       "</div>"
      ],
      "text/plain": [
       "                                                                sales_num\n",
       "store       head                                                         \n",
       "aierxuan旗舰店 aierxuan 焰魔 G2 游戏本i7独显 GTX1060/6G显卡 全新15.6英寸商务办...       1124\n",
       "asus华硕官方旗舰店 Asus/华硕 灵耀S2代S4300FN 轻薄便携商务办公游戏笔记本电脑8代i5增强版超薄本1...       2353\n",
       "chinantc    Hasee/神舟战神Z6I5I7独显GTX1060/1050Ti吃鸡游戏本笔记本电脑                290\n",
       "daysky旗舰店   2019贺岁新款笔记本电脑Daysky X9 Plus轻薄便携学生15.6英寸手提商务办公游戏...       6939\n",
       "            笔记本电脑Daysky DK 190轻薄便携学生14英寸手提办公商务游戏本秒I5/I7吃鸡电脑...       2425"
      ]
     },
     "execution_count": 9,
     "metadata": {},
     "output_type": "execute_result"
    }
   ],
   "source": [
    "#按照店铺分类汇总，查看是否有异常数据\n",
    "tp.pivot_table(index=['store','head'],values=['sales_num'],aggfunc={'sales_num':np.sum})[0:5]"
   ]
  },
  {
   "cell_type": "code",
   "execution_count": 10,
   "metadata": {},
   "outputs": [
    {
     "data": {
      "text/html": [
       "<div>\n",
       "<style scoped>\n",
       "    .dataframe tbody tr th:only-of-type {\n",
       "        vertical-align: middle;\n",
       "    }\n",
       "\n",
       "    .dataframe tbody tr th {\n",
       "        vertical-align: top;\n",
       "    }\n",
       "\n",
       "    .dataframe thead th {\n",
       "        text-align: right;\n",
       "    }\n",
       "</style>\n",
       "<table border=\"1\" class=\"dataframe\">\n",
       "  <thead>\n",
       "    <tr style=\"text-align: right;\">\n",
       "      <th></th>\n",
       "      <th>store</th>\n",
       "      <th>head</th>\n",
       "      <th>price</th>\n",
       "      <th>sales</th>\n",
       "      <th>location</th>\n",
       "      <th>comment</th>\n",
       "      <th>sales_num</th>\n",
       "      <th>sales_rank</th>\n",
       "    </tr>\n",
       "  </thead>\n",
       "  <tbody>\n",
       "    <tr>\n",
       "      <th>0</th>\n",
       "      <td>dere戴睿旗舰店</td>\n",
       "      <td>笔记本电脑DERE戴睿R9 pro轻薄便携学生15.6英寸全新四核独显游戏本超薄超级上网手提...</td>\n",
       "      <td>1468.0</td>\n",
       "      <td>9772人付款</td>\n",
       "      <td>广东 深圳</td>\n",
       "      <td>28214</td>\n",
       "      <td>9772</td>\n",
       "      <td>1</td>\n",
       "    </tr>\n",
       "    <tr>\n",
       "      <th>1</th>\n",
       "      <td>daysky旗舰店</td>\n",
       "      <td>2019贺岁新款笔记本电脑Daysky X9 Plus轻薄便携学生15.6英寸手提商务办公游...</td>\n",
       "      <td>2198.0</td>\n",
       "      <td>6939人付款</td>\n",
       "      <td>广东 深圳</td>\n",
       "      <td>3353</td>\n",
       "      <td>6939</td>\n",
       "      <td>2</td>\n",
       "    </tr>\n",
       "    <tr>\n",
       "      <th>2</th>\n",
       "      <td>荣耀官方旗舰店</td>\n",
       "      <td>【14号256G低至3499】HONOR/荣耀 magicbook R5集显版+8G+512...</td>\n",
       "      <td>3999.0</td>\n",
       "      <td>6864人付款</td>\n",
       "      <td>广东 深圳</td>\n",
       "      <td>3524</td>\n",
       "      <td>6864</td>\n",
       "      <td>3</td>\n",
       "    </tr>\n",
       "  </tbody>\n",
       "</table>\n",
       "</div>"
      ],
      "text/plain": [
       "       store                                               head   price  \\\n",
       "0  dere戴睿旗舰店  笔记本电脑DERE戴睿R9 pro轻薄便携学生15.6英寸全新四核独显游戏本超薄超级上网手提...  1468.0   \n",
       "1  daysky旗舰店  2019贺岁新款笔记本电脑Daysky X9 Plus轻薄便携学生15.6英寸手提商务办公游...  2198.0   \n",
       "2    荣耀官方旗舰店  【14号256G低至3499】HONOR/荣耀 magicbook R5集显版+8G+512...  3999.0   \n",
       "\n",
       "     sales location  comment  sales_num  sales_rank  \n",
       "0  9772人付款    广东 深圳    28214       9772           1  \n",
       "1  6939人付款    广东 深圳     3353       6939           2  \n",
       "2  6864人付款    广东 深圳     3524       6864           3  "
      ]
     },
     "execution_count": 10,
     "metadata": {},
     "output_type": "execute_result"
    }
   ],
   "source": [
    "#按照月销量排序，并获取各个链接销量排名\n",
    "tp_sales = tp.sort_values('sales_num',ascending = False)\n",
    "tp_sales.reset_index(drop=True)\n",
    "tp_sales['sales_rank'] = range(1,len(tp_sales)+1)\n",
    "tp_sales.reset_index(drop=True)[0:3]"
   ]
  },
  {
   "cell_type": "code",
   "execution_count": 11,
   "metadata": {},
   "outputs": [
    {
     "data": {
      "text/html": [
       "<div>\n",
       "<style scoped>\n",
       "    .dataframe tbody tr th:only-of-type {\n",
       "        vertical-align: middle;\n",
       "    }\n",
       "\n",
       "    .dataframe tbody tr th {\n",
       "        vertical-align: top;\n",
       "    }\n",
       "\n",
       "    .dataframe thead th {\n",
       "        text-align: right;\n",
       "    }\n",
       "</style>\n",
       "<table border=\"1\" class=\"dataframe\">\n",
       "  <thead>\n",
       "    <tr style=\"text-align: right;\">\n",
       "      <th></th>\n",
       "      <th>store</th>\n",
       "      <th>head</th>\n",
       "      <th>price</th>\n",
       "      <th>sales</th>\n",
       "      <th>location</th>\n",
       "      <th>comment</th>\n",
       "      <th>sales_num</th>\n",
       "      <th>rank</th>\n",
       "      <th>sales_rank</th>\n",
       "    </tr>\n",
       "  </thead>\n",
       "  <tbody>\n",
       "    <tr>\n",
       "      <th>0</th>\n",
       "      <td>dere戴睿旗舰店</td>\n",
       "      <td>笔记本电脑DERE戴睿R9 pro轻薄便携学生15.6英寸全新四核独显游戏本超薄超级上网手提...</td>\n",
       "      <td>1468.0</td>\n",
       "      <td>9772人付款</td>\n",
       "      <td>广东 深圳</td>\n",
       "      <td>28214</td>\n",
       "      <td>9772</td>\n",
       "      <td>1</td>\n",
       "      <td>1</td>\n",
       "    </tr>\n",
       "    <tr>\n",
       "      <th>1</th>\n",
       "      <td>联想艾克兰斯专卖店</td>\n",
       "      <td>Lenovo/联想 拯救者 Y7000 15.6英寸游戏本笔记本电脑 i5轻薄独显</td>\n",
       "      <td>5499.0</td>\n",
       "      <td>1399人付款</td>\n",
       "      <td>北京</td>\n",
       "      <td>2898</td>\n",
       "      <td>1399</td>\n",
       "      <td>2</td>\n",
       "      <td>23</td>\n",
       "    </tr>\n",
       "    <tr>\n",
       "      <th>2</th>\n",
       "      <td>daysky旗舰店</td>\n",
       "      <td>2019贺岁新款笔记本电脑Daysky X9 Plus轻薄便携学生15.6英寸手提商务办公游...</td>\n",
       "      <td>2198.0</td>\n",
       "      <td>6939人付款</td>\n",
       "      <td>广东 深圳</td>\n",
       "      <td>3353</td>\n",
       "      <td>6939</td>\n",
       "      <td>3</td>\n",
       "      <td>2</td>\n",
       "    </tr>\n",
       "  </tbody>\n",
       "</table>\n",
       "</div>"
      ],
      "text/plain": [
       "       store                                               head   price  \\\n",
       "0  dere戴睿旗舰店  笔记本电脑DERE戴睿R9 pro轻薄便携学生15.6英寸全新四核独显游戏本超薄超级上网手提...  1468.0   \n",
       "1  联想艾克兰斯专卖店          Lenovo/联想 拯救者 Y7000 15.6英寸游戏本笔记本电脑 i5轻薄独显  5499.0   \n",
       "2  daysky旗舰店  2019贺岁新款笔记本电脑Daysky X9 Plus轻薄便携学生15.6英寸手提商务办公游...  2198.0   \n",
       "\n",
       "     sales location  comment  sales_num  rank  sales_rank  \n",
       "0  9772人付款    广东 深圳    28214       9772     1           1  \n",
       "1  1399人付款       北京     2898       1399     2          23  \n",
       "2  6939人付款    广东 深圳     3353       6939     3           2  "
      ]
     },
     "execution_count": 11,
     "metadata": {},
     "output_type": "execute_result"
    }
   ],
   "source": [
    "#获取综合排名\n",
    "tp['rank'] = tp.index+1\n",
    "tp['sales_rank'] = tp_sales['sales_rank']\n",
    "tp.reset_index(drop=True).head(3)"
   ]
  },
  {
   "cell_type": "code",
   "execution_count": 12,
   "metadata": {},
   "outputs": [],
   "source": [
    "#第四条数据为非正常排名数据，剔除\n",
    "tp.drop(3,inplace=True)"
   ]
  },
  {
   "cell_type": "code",
   "execution_count": 13,
   "metadata": {},
   "outputs": [
    {
     "data": {
      "text/html": [
       "<div>\n",
       "<style scoped>\n",
       "    .dataframe tbody tr th:only-of-type {\n",
       "        vertical-align: middle;\n",
       "    }\n",
       "\n",
       "    .dataframe tbody tr th {\n",
       "        vertical-align: top;\n",
       "    }\n",
       "\n",
       "    .dataframe thead th {\n",
       "        text-align: right;\n",
       "    }\n",
       "</style>\n",
       "<table border=\"1\" class=\"dataframe\">\n",
       "  <thead>\n",
       "    <tr style=\"text-align: right;\">\n",
       "      <th></th>\n",
       "      <th>store</th>\n",
       "      <th>head</th>\n",
       "      <th>price</th>\n",
       "      <th>sales</th>\n",
       "      <th>location</th>\n",
       "      <th>comment</th>\n",
       "      <th>sales_num</th>\n",
       "      <th>rank</th>\n",
       "      <th>sales_rank</th>\n",
       "    </tr>\n",
       "  </thead>\n",
       "  <tbody>\n",
       "    <tr>\n",
       "      <th>0</th>\n",
       "      <td>dere戴睿旗舰店</td>\n",
       "      <td>笔记本电脑DERE戴睿R9 pro轻薄便携学生15.6英寸全新四核独显游戏本超薄超级上网手提...</td>\n",
       "      <td>1468.0</td>\n",
       "      <td>9772人付款</td>\n",
       "      <td>广东 深圳</td>\n",
       "      <td>28214</td>\n",
       "      <td>9772</td>\n",
       "      <td>1</td>\n",
       "      <td>1</td>\n",
       "    </tr>\n",
       "    <tr>\n",
       "      <th>1</th>\n",
       "      <td>联想艾克兰斯专卖店</td>\n",
       "      <td>Lenovo/联想 拯救者 Y7000 15.6英寸游戏本笔记本电脑 i5轻薄独显</td>\n",
       "      <td>5499.0</td>\n",
       "      <td>1399人付款</td>\n",
       "      <td>北京</td>\n",
       "      <td>2898</td>\n",
       "      <td>1399</td>\n",
       "      <td>2</td>\n",
       "      <td>23</td>\n",
       "    </tr>\n",
       "    <tr>\n",
       "      <th>2</th>\n",
       "      <td>daysky旗舰店</td>\n",
       "      <td>2019贺岁新款笔记本电脑Daysky X9 Plus轻薄便携学生15.6英寸手提商务办公游...</td>\n",
       "      <td>2198.0</td>\n",
       "      <td>6939人付款</td>\n",
       "      <td>广东 深圳</td>\n",
       "      <td>3353</td>\n",
       "      <td>6939</td>\n",
       "      <td>3</td>\n",
       "      <td>2</td>\n",
       "    </tr>\n",
       "  </tbody>\n",
       "</table>\n",
       "</div>"
      ],
      "text/plain": [
       "       store                                               head   price  \\\n",
       "0  dere戴睿旗舰店  笔记本电脑DERE戴睿R9 pro轻薄便携学生15.6英寸全新四核独显游戏本超薄超级上网手提...  1468.0   \n",
       "1  联想艾克兰斯专卖店          Lenovo/联想 拯救者 Y7000 15.6英寸游戏本笔记本电脑 i5轻薄独显  5499.0   \n",
       "2  daysky旗舰店  2019贺岁新款笔记本电脑Daysky X9 Plus轻薄便携学生15.6英寸手提商务办公游...  2198.0   \n",
       "\n",
       "     sales location  comment  sales_num  rank  sales_rank  \n",
       "0  9772人付款    广东 深圳    28214       9772     1           1  \n",
       "1  1399人付款       北京     2898       1399     2          23  \n",
       "2  6939人付款    广东 深圳     3353       6939     3           2  "
      ]
     },
     "execution_count": 13,
     "metadata": {},
     "output_type": "execute_result"
    }
   ],
   "source": [
    "tp.head(3)"
   ]
  },
  {
   "cell_type": "code",
   "execution_count": 14,
   "metadata": {},
   "outputs": [
    {
     "data": {
      "text/html": [
       "<div>\n",
       "<style scoped>\n",
       "    .dataframe tbody tr th:only-of-type {\n",
       "        vertical-align: middle;\n",
       "    }\n",
       "\n",
       "    .dataframe tbody tr th {\n",
       "        vertical-align: top;\n",
       "    }\n",
       "\n",
       "    .dataframe thead th {\n",
       "        text-align: right;\n",
       "    }\n",
       "</style>\n",
       "<table border=\"1\" class=\"dataframe\">\n",
       "  <thead>\n",
       "    <tr style=\"text-align: right;\">\n",
       "      <th></th>\n",
       "      <th>store</th>\n",
       "      <th>head</th>\n",
       "      <th>price</th>\n",
       "      <th>sales</th>\n",
       "      <th>location</th>\n",
       "      <th>comment</th>\n",
       "      <th>sales_num</th>\n",
       "      <th>rank</th>\n",
       "      <th>sales_rank</th>\n",
       "    </tr>\n",
       "  </thead>\n",
       "  <tbody>\n",
       "    <tr>\n",
       "      <th>0</th>\n",
       "      <td>dere戴睿旗舰店</td>\n",
       "      <td>笔记本电脑DERE戴睿R9 pro轻薄便携学生15.6英寸全新四核独显游戏本超薄超级上网手提...</td>\n",
       "      <td>1468.0</td>\n",
       "      <td>9772人付款</td>\n",
       "      <td>广东 深圳</td>\n",
       "      <td>28214</td>\n",
       "      <td>9772</td>\n",
       "      <td>1</td>\n",
       "      <td>1</td>\n",
       "    </tr>\n",
       "    <tr>\n",
       "      <th>1</th>\n",
       "      <td>联想艾克兰斯专卖店</td>\n",
       "      <td>Lenovo/联想 拯救者 Y7000 15.6英寸游戏本笔记本电脑 i5轻薄独显</td>\n",
       "      <td>5499.0</td>\n",
       "      <td>1399人付款</td>\n",
       "      <td>北京</td>\n",
       "      <td>2898</td>\n",
       "      <td>1399</td>\n",
       "      <td>2</td>\n",
       "      <td>23</td>\n",
       "    </tr>\n",
       "    <tr>\n",
       "      <th>2</th>\n",
       "      <td>daysky旗舰店</td>\n",
       "      <td>2019贺岁新款笔记本电脑Daysky X9 Plus轻薄便携学生15.6英寸手提商务办公游...</td>\n",
       "      <td>2198.0</td>\n",
       "      <td>6939人付款</td>\n",
       "      <td>广东 深圳</td>\n",
       "      <td>3353</td>\n",
       "      <td>6939</td>\n",
       "      <td>3</td>\n",
       "      <td>2</td>\n",
       "    </tr>\n",
       "  </tbody>\n",
       "</table>\n",
       "</div>"
      ],
      "text/plain": [
       "       store                                               head   price  \\\n",
       "0  dere戴睿旗舰店  笔记本电脑DERE戴睿R9 pro轻薄便携学生15.6英寸全新四核独显游戏本超薄超级上网手提...  1468.0   \n",
       "1  联想艾克兰斯专卖店          Lenovo/联想 拯救者 Y7000 15.6英寸游戏本笔记本电脑 i5轻薄独显  5499.0   \n",
       "2  daysky旗舰店  2019贺岁新款笔记本电脑Daysky X9 Plus轻薄便携学生15.6英寸手提商务办公游...  2198.0   \n",
       "\n",
       "     sales location  comment  sales_num  rank  sales_rank  \n",
       "0  9772人付款    广东 深圳    28214       9772     1           1  \n",
       "1  1399人付款       北京     2898       1399     2          23  \n",
       "2  6939人付款    广东 深圳     3353       6939     3           2  "
      ]
     },
     "execution_count": 14,
     "metadata": {},
     "output_type": "execute_result"
    }
   ],
   "source": [
    "tp.reset_index(drop=True,inplace=True)\n",
    "tp.head(3)"
   ]
  },
  {
   "cell_type": "markdown",
   "metadata": {},
   "source": [
    "#### 确认数据间的相关性"
   ]
  },
  {
   "cell_type": "code",
   "execution_count": 15,
   "metadata": {},
   "outputs": [
    {
     "data": {
      "text/html": [
       "<div>\n",
       "<style scoped>\n",
       "    .dataframe tbody tr th:only-of-type {\n",
       "        vertical-align: middle;\n",
       "    }\n",
       "\n",
       "    .dataframe tbody tr th {\n",
       "        vertical-align: top;\n",
       "    }\n",
       "\n",
       "    .dataframe thead th {\n",
       "        text-align: right;\n",
       "    }\n",
       "</style>\n",
       "<table border=\"1\" class=\"dataframe\">\n",
       "  <thead>\n",
       "    <tr style=\"text-align: right;\">\n",
       "      <th></th>\n",
       "      <th>price</th>\n",
       "      <th>comment</th>\n",
       "      <th>sales_num</th>\n",
       "      <th>rank</th>\n",
       "    </tr>\n",
       "  </thead>\n",
       "  <tbody>\n",
       "    <tr>\n",
       "      <th>0</th>\n",
       "      <td>1468.0</td>\n",
       "      <td>28214</td>\n",
       "      <td>9772</td>\n",
       "      <td>1</td>\n",
       "    </tr>\n",
       "    <tr>\n",
       "      <th>1</th>\n",
       "      <td>5499.0</td>\n",
       "      <td>2898</td>\n",
       "      <td>1399</td>\n",
       "      <td>2</td>\n",
       "    </tr>\n",
       "    <tr>\n",
       "      <th>2</th>\n",
       "      <td>2198.0</td>\n",
       "      <td>3353</td>\n",
       "      <td>6939</td>\n",
       "      <td>3</td>\n",
       "    </tr>\n",
       "  </tbody>\n",
       "</table>\n",
       "</div>"
      ],
      "text/plain": [
       "    price  comment  sales_num  rank\n",
       "0  1468.0    28214       9772     1\n",
       "1  5499.0     2898       1399     2\n",
       "2  2198.0     3353       6939     3"
      ]
     },
     "execution_count": 15,
     "metadata": {},
     "output_type": "execute_result"
    }
   ],
   "source": [
    "#将非相关特征剔除\n",
    "X = tp.drop(['store','head','sales','location','sales_rank'],axis=1)\n",
    "X.head(3)"
   ]
  },
  {
   "cell_type": "code",
   "execution_count": 16,
   "metadata": {},
   "outputs": [
    {
     "data": {
      "image/png": "[encoded data removed]",
      "text/plain": [
       "<Figure size 720x576 with 2 Axes>"
      ]
     },
     "metadata": {
      "needs_background": "light"
     },
     "output_type": "display_data"
    }
   ],
   "source": [
    "#绘制相关系数热力图\n",
    "import seaborn as sns\n",
    "\n",
    "X = tp.drop(['store','head'],axis=1)\n",
    "corr = abs(X.corr())\n",
    "\n",
    "fig,ax = plt.subplots(1,1,figsize=(10,8))\n",
    "sns.heatmap(corr,vmax=1,vmin=0,annot=True,annot_kws={'size':12,'weight':'bold'},linewidths=0.05,ax=ax)\n",
    "plt.xticks(fontsize=15)\n",
    "plt.yticks(fontsize=15)\n",
    "plt.show()\n",
    "#下图可知，综合排名与销量相关性较大"
   ]
  },
  {
   "cell_type": "code",
   "execution_count": 17,
   "metadata": {},
   "outputs": [
    {
     "data": {
      "text/plain": [
       "Text(0,0.5,'销售数量')"
      ]
     },
     "execution_count": 17,
     "metadata": {},
     "output_type": "execute_result"
    },
    {
     "data": {
      "image/png": "[encoded data removed]",
      "text/plain": [
       "<Figure size 432x288 with 1 Axes>"
      ]
     },
     "metadata": {
      "needs_background": "light"
     },
     "output_type": "display_data"
    }
   ],
   "source": [
    "#绘制排名与销量的折线图，查看排名与销量变化关系\n",
    "X.sort_values(by='rank',ascending=False).plot(x='rank',y='sales_num',title='综合排名与销量关系')\n",
    "plt.xlabel('排名',fontsize=12)\n",
    "plt.ylabel('销售数量',fontsize=12)\n"
   ]
  },
  {
   "cell_type": "markdown",
   "metadata": {},
   "source": [
    "#### 按价格带分类 - 确定市场价格、销量、排名分布及定位"
   ]
  },
  {
   "cell_type": "code",
   "execution_count": 18,
   "metadata": {},
   "outputs": [
    {
     "data": {
      "text/plain": [
       "4699.0"
      ]
     },
     "execution_count": 18,
     "metadata": {},
     "output_type": "execute_result"
    }
   ],
   "source": [
    "tp.price.max()\n",
    "tp.price.min()\n",
    "tp.price.median()"
   ]
  },
  {
   "cell_type": "code",
   "execution_count": 19,
   "metadata": {},
   "outputs": [],
   "source": [
    "bins=[0,3000,4000,6000,8000,9000]\n",
    "labels =['0-2999','3000-3999','4000-5999','6000-7999','8k以上']\n",
    "tp['价格带'] = pd.cut(tp.price,bins=bins,labels=labels)"
   ]
  },
  {
   "cell_type": "code",
   "execution_count": 20,
   "metadata": {},
   "outputs": [
    {
     "data": {
      "text/plain": [
       "4099.0"
      ]
     },
     "execution_count": 20,
     "metadata": {},
     "output_type": "execute_result"
    }
   ],
   "source": [
    "np.percentile(tp.price,15)\n",
    "np.percentile(tp.price,40)"
   ]
  },
  {
   "cell_type": "code",
   "execution_count": 21,
   "metadata": {},
   "outputs": [
    {
     "data": {
      "text/html": [
       "<div>\n",
       "<style scoped>\n",
       "    .dataframe tbody tr th:only-of-type {\n",
       "        vertical-align: middle;\n",
       "    }\n",
       "\n",
       "    .dataframe tbody tr th {\n",
       "        vertical-align: top;\n",
       "    }\n",
       "\n",
       "    .dataframe thead th {\n",
       "        text-align: right;\n",
       "    }\n",
       "</style>\n",
       "<table border=\"1\" class=\"dataframe\">\n",
       "  <thead>\n",
       "    <tr style=\"text-align: right;\">\n",
       "      <th></th>\n",
       "      <th>price</th>\n",
       "      <th>sales_num</th>\n",
       "      <th>rank</th>\n",
       "      <th>价格带</th>\n",
       "    </tr>\n",
       "    <tr>\n",
       "      <th>价格带</th>\n",
       "      <th></th>\n",
       "      <th></th>\n",
       "      <th></th>\n",
       "      <th></th>\n",
       "    </tr>\n",
       "  </thead>\n",
       "  <tbody>\n",
       "    <tr>\n",
       "      <th>0-2999</th>\n",
       "      <td>1894.000000</td>\n",
       "      <td>2152.588235</td>\n",
       "      <td>38.588235</td>\n",
       "      <td>17</td>\n",
       "    </tr>\n",
       "    <tr>\n",
       "      <th>3000-3999</th>\n",
       "      <td>3727.290556</td>\n",
       "      <td>1316.166667</td>\n",
       "      <td>49.000000</td>\n",
       "      <td>18</td>\n",
       "    </tr>\n",
       "    <tr>\n",
       "      <th>4000-5999</th>\n",
       "      <td>4970.268857</td>\n",
       "      <td>931.685714</td>\n",
       "      <td>51.600000</td>\n",
       "      <td>35</td>\n",
       "    </tr>\n",
       "    <tr>\n",
       "      <th>6000-7999</th>\n",
       "      <td>6877.750000</td>\n",
       "      <td>1002.250000</td>\n",
       "      <td>45.000000</td>\n",
       "      <td>16</td>\n",
       "    </tr>\n",
       "    <tr>\n",
       "      <th>8k以上</th>\n",
       "      <td>8596.800000</td>\n",
       "      <td>517.000000</td>\n",
       "      <td>42.000000</td>\n",
       "      <td>5</td>\n",
       "    </tr>\n",
       "  </tbody>\n",
       "</table>\n",
       "</div>"
      ],
      "text/plain": [
       "                 price    sales_num       rank  价格带\n",
       "价格带                                                \n",
       "0-2999     1894.000000  2152.588235  38.588235   17\n",
       "3000-3999  3727.290556  1316.166667  49.000000   18\n",
       "4000-5999  4970.268857   931.685714  51.600000   35\n",
       "6000-7999  6877.750000  1002.250000  45.000000   16\n",
       "8k以上       8596.800000   517.000000  42.000000    5"
      ]
     },
     "execution_count": 21,
     "metadata": {},
     "output_type": "execute_result"
    }
   ],
   "source": [
    "#按价格带分类汇总，并绘制出每个价格带的平均销量与平均排名之间的关系图\n",
    "\n",
    "tp_cut = tp.groupby('价格带')['price','sales_num','rank','价格带'].agg({'price':np.mean,'sales_num':np.mean,\n",
    "                                                                  'rank':np.mean,'价格带':'count'})\n",
    "tp_cut"
   ]
  },
  {
   "cell_type": "code",
   "execution_count": 22,
   "metadata": {},
   "outputs": [
    {
     "data": {
      "image/png": "[encoded data removed]",
      "text/plain": [
       "<Figure size 720x432 with 2 Axes>"
      ]
     },
     "metadata": {
      "needs_background": "light"
     },
     "output_type": "display_data"
    }
   ],
   "source": [
    "fig,ax1 = plt.subplots(figsize=(10,6))\n",
    "\n",
    "data = tp.groupby('价格带')[['head','rank']].agg({'head':'count','rank':np.mean})\n",
    "x = np.array(data.index)\n",
    "y1 = data['head'].values\n",
    "y2 = data['rank'].values\n",
    "\n",
    "ax1.bar(x,y1,color='r',alpha=0.3)\n",
    "ax1.set_ylabel('商品数',fontsize=14)\n",
    "ax1.set_xlabel('价格带',fontsize=14)\n",
    "\n",
    "ax2 = ax1.twinx()\n",
    "ax2.plot(x,y2)\n",
    "ax2.set_ylabel('平均排名',fontsize=14)\n",
    "\n",
    "plt.title('各价格段商品数量及平均排名',fontsize=16)\n",
    "\n",
    "for a,b in zip(x,y2):\n",
    "    ax2.text(a,b+0.2,'%.0f'%b,ha='center',va='bottom',fontsize=11)\n",
    "\n",
    "plt.show()\n"
   ]
  }
 ],
 "metadata": {
  "kernelspec": {
   "display_name": "Python 3",
   "language": "python",
   "name": "python3"
  },
  "language_info": {
   "codemirror_mode": {
    "name": "ipython",
    "version": 3
   },
   "file_extension": ".py",
   "mimetype": "text/x-python",
   "name": "python",
   "nbconvert_exporter": "python",
   "pygments_lexer": "ipython3",
   "version": "3.7.2"
  }
 },
 "nbformat": 4,
 "nbformat_minor": 2
}
