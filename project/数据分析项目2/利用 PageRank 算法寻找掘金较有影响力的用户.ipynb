{
 "cells": [
  {
   "cell_type": "markdown",
   "metadata": {},
   "source": [
    "### 项目背景\n",
    "\n",
    "掘金在进行运营活动的推广时，一般流程是：\n",
    " - 编辑推荐活动宣传文章 \n",
    " - 使用 Web 端、APP 端广告位推广\n",
    " - 使用 App 端推送\n",
    " - 运营主动邀请活跃用户参与\n",
    "\n",
    "在邀请活跃用户时，所选择的用户为：\n",
    " 1. 运营可以方便联系到的\n",
    " 2. 在社区比较活跃的\n",
    " 3. 有一定粉丝量的\n",
    " \n",
    "在作出是否邀请某用户时，完全靠运营的主观判断，在这一过程中容易出现：\n",
    "1. 运营邀请到的用户影响力不足以带来更多参与者\n",
    "2. 运营在邀请用户参与活动时优先考虑是否方便联系而不是优先考虑被邀请用户的影响力\n",
    "\n",
    "### 解决办法\n",
    "\n",
    "1. 根据活动需求筛选一批符合条件的用户\n",
    "2. 利用 PageRank 算法计算筛选出来的用户各自的影响力\n",
    "3. 按照影响力高低确定运营主动邀请参与活动的用户名单"
   ]
  },
  {
   "cell_type": "code",
   "execution_count": 1,
   "metadata": {},
   "outputs": [],
   "source": [
    "import pandas as pd\n",
    "import networkx as nx\n",
    "import pymysql\n",
    "import numpy as np"
   ]
  },
  {
   "cell_type": "code",
   "execution_count": 2,
   "metadata": {},
   "outputs": [],
   "source": [
    "conn = pymysql.connect(host=\"*******\",user='*****',password=\"*********\",database=\"*********\")"
   ]
  },
  {
   "cell_type": "code",
   "execution_count": 3,
   "metadata": {},
   "outputs": [],
   "source": [
    "sql = '''\n",
    "      select followerId,followeeId from **********;\n",
    "      '''"
   ]
  },
  {
   "cell_type": "code",
   "execution_count": 4,
   "metadata": {},
   "outputs": [],
   "source": [
    "df = pd.read_sql_query(sql, conn)"
   ]
  },
  {
   "cell_type": "markdown",
   "metadata": {},
   "source": [
    "从数据库中查询掘金用户的关注关系"
   ]
  },
  {
   "cell_type": "code",
   "execution_count": 5,
   "metadata": {},
   "outputs": [
    {
     "data": {
      "text/html": [
       "<div>\n",
       "<style scoped>\n",
       "    .dataframe tbody tr th:only-of-type {\n",
       "        vertical-align: middle;\n",
       "    }\n",
       "\n",
       "    .dataframe tbody tr th {\n",
       "        vertical-align: top;\n",
       "    }\n",
       "\n",
       "    .dataframe thead th {\n",
       "        text-align: right;\n",
       "    }\n",
       "</style>\n",
       "<table border=\"1\" class=\"dataframe\">\n",
       "  <thead>\n",
       "    <tr style=\"text-align: right;\">\n",
       "      <th></th>\n",
       "      <th>followerId</th>\n",
       "      <th>followeeId</th>\n",
       "    </tr>\n",
       "  </thead>\n",
       "  <tbody>\n",
       "    <tr>\n",
       "      <th>0</th>\n",
       "      <td>5aae85666fb9a028e33b3b35</td>\n",
       "      <td>5c936c626fb9a070cb24aee5</td>\n",
       "    </tr>\n",
       "    <tr>\n",
       "      <th>1</th>\n",
       "      <td>5aae85666fb9a028e33b3b35</td>\n",
       "      <td>551d677ee4b0cd5b623f49cb</td>\n",
       "    </tr>\n",
       "    <tr>\n",
       "      <th>2</th>\n",
       "      <td>5aae85666fb9a028e33b3b35</td>\n",
       "      <td>5c10ad386fb9a049f9126e49</td>\n",
       "    </tr>\n",
       "    <tr>\n",
       "      <th>3</th>\n",
       "      <td>5aae85666fb9a028e33b3b35</td>\n",
       "      <td>5cb1529d6fb9a0687d1170ea</td>\n",
       "    </tr>\n",
       "    <tr>\n",
       "      <th>4</th>\n",
       "      <td>5aae85666fb9a028e33b3b35</td>\n",
       "      <td>58131b84da2f60005db28799</td>\n",
       "    </tr>\n",
       "  </tbody>\n",
       "</table>\n",
       "</div>"
      ],
      "text/plain": [
       "                 followerId                followeeId\n",
       "0  5aae85666fb9a028e33b3b35  5c936c626fb9a070cb24aee5\n",
       "1  5aae85666fb9a028e33b3b35  551d677ee4b0cd5b623f49cb\n",
       "2  5aae85666fb9a028e33b3b35  5c10ad386fb9a049f9126e49\n",
       "3  5aae85666fb9a028e33b3b35  5cb1529d6fb9a0687d1170ea\n",
       "4  5aae85666fb9a028e33b3b35  58131b84da2f60005db28799"
      ]
     },
     "execution_count": 5,
     "metadata": {},
     "output_type": "execute_result"
    }
   ],
   "source": [
    "df.head()"
   ]
  },
  {
   "cell_type": "code",
   "execution_count": 6,
   "metadata": {},
   "outputs": [
    {
     "data": {
      "text/html": [
       "<div>\n",
       "<style scoped>\n",
       "    .dataframe tbody tr th:only-of-type {\n",
       "        vertical-align: middle;\n",
       "    }\n",
       "\n",
       "    .dataframe tbody tr th {\n",
       "        vertical-align: top;\n",
       "    }\n",
       "\n",
       "    .dataframe thead th {\n",
       "        text-align: right;\n",
       "    }\n",
       "</style>\n",
       "<table border=\"1\" class=\"dataframe\">\n",
       "  <thead>\n",
       "    <tr style=\"text-align: right;\">\n",
       "      <th></th>\n",
       "      <th>followerId</th>\n",
       "      <th>followeeId</th>\n",
       "    </tr>\n",
       "  </thead>\n",
       "  <tbody>\n",
       "    <tr>\n",
       "      <th>132504</th>\n",
       "      <td>5ad56b20f265da23a2299897</td>\n",
       "      <td>5a91037cf265da4e8b2ff784</td>\n",
       "    </tr>\n",
       "    <tr>\n",
       "      <th>132505</th>\n",
       "      <td>5ad56b20f265da23a2299897</td>\n",
       "      <td>58b61f4161ff4b006ccba5fd</td>\n",
       "    </tr>\n",
       "    <tr>\n",
       "      <th>132506</th>\n",
       "      <td>5ad56b20f265da23a2299897</td>\n",
       "      <td>5ad1d166f265da237b22846c</td>\n",
       "    </tr>\n",
       "    <tr>\n",
       "      <th>132507</th>\n",
       "      <td>5ad56b20f265da23a2299897</td>\n",
       "      <td>58afa29aac502e0069c5d756</td>\n",
       "    </tr>\n",
       "    <tr>\n",
       "      <th>132508</th>\n",
       "      <td>5ae038c0f265da0b8e7f1237</td>\n",
       "      <td>5ad471ca6fb9a028d82c3dbf</td>\n",
       "    </tr>\n",
       "  </tbody>\n",
       "</table>\n",
       "</div>"
      ],
      "text/plain": [
       "                      followerId                followeeId\n",
       "132504  5ad56b20f265da23a2299897  5a91037cf265da4e8b2ff784\n",
       "132505  5ad56b20f265da23a2299897  58b61f4161ff4b006ccba5fd\n",
       "132506  5ad56b20f265da23a2299897  5ad1d166f265da237b22846c\n",
       "132507  5ad56b20f265da23a2299897  58afa29aac502e0069c5d756\n",
       "132508  5ae038c0f265da0b8e7f1237  5ad471ca6fb9a028d82c3dbf"
      ]
     },
     "execution_count": 6,
     "metadata": {},
     "output_type": "execute_result"
    }
   ],
   "source": [
    "df.tail()"
   ]
  },
  {
   "cell_type": "code",
   "execution_count": 7,
   "metadata": {},
   "outputs": [
    {
     "data": {
      "text/plain": [
       "followerId    0\n",
       "followeeId    0\n",
       "dtype: int64"
      ]
     },
     "execution_count": 7,
     "metadata": {},
     "output_type": "execute_result"
    }
   ],
   "source": [
    "df[df.duplicated()].count()"
   ]
  },
  {
   "cell_type": "code",
   "execution_count": 8,
   "metadata": {},
   "outputs": [],
   "source": [
    "G = nx.DiGraph()\n",
    "df.apply(lambda row: G.add_edge(row['followerId'], row['followeeId']), axis=1);"
   ]
  },
  {
   "cell_type": "code",
   "execution_count": 9,
   "metadata": {},
   "outputs": [],
   "source": [
    "pagerank_list = nx.pagerank(G,alpha = 0.01)"
   ]
  },
  {
   "cell_type": "code",
   "execution_count": 10,
   "metadata": {},
   "outputs": [],
   "source": [
    "df = pd.DataFrame(columns=('ID', 'PageRank'))"
   ]
  },
  {
   "cell_type": "code",
   "execution_count": 11,
   "metadata": {},
   "outputs": [],
   "source": [
    "for v in pagerank_list:\n",
    "    df = df.append([{'ID':v,\n",
    "                    'PageRank':pagerank_list[v]}], ignore_index=True)\n"
   ]
  },
  {
   "cell_type": "code",
   "execution_count": 12,
   "metadata": {},
   "outputs": [
    {
     "data": {
      "text/html": [
       "<div>\n",
       "<style scoped>\n",
       "    .dataframe tbody tr th:only-of-type {\n",
       "        vertical-align: middle;\n",
       "    }\n",
       "\n",
       "    .dataframe tbody tr th {\n",
       "        vertical-align: top;\n",
       "    }\n",
       "\n",
       "    .dataframe thead th {\n",
       "        text-align: right;\n",
       "    }\n",
       "</style>\n",
       "<table border=\"1\" class=\"dataframe\">\n",
       "  <thead>\n",
       "    <tr style=\"text-align: right;\">\n",
       "      <th></th>\n",
       "      <th>ID</th>\n",
       "      <th>PageRank</th>\n",
       "    </tr>\n",
       "  </thead>\n",
       "  <tbody>\n",
       "    <tr>\n",
       "      <th>0</th>\n",
       "      <td>5aae85666fb9a028e33b3b35</td>\n",
       "      <td>0.000045</td>\n",
       "    </tr>\n",
       "    <tr>\n",
       "      <th>1</th>\n",
       "      <td>5c936c626fb9a070cb24aee5</td>\n",
       "      <td>0.000045</td>\n",
       "    </tr>\n",
       "    <tr>\n",
       "      <th>2</th>\n",
       "      <td>551d677ee4b0cd5b623f49cb</td>\n",
       "      <td>0.000087</td>\n",
       "    </tr>\n",
       "    <tr>\n",
       "      <th>3</th>\n",
       "      <td>5c10ad386fb9a049f9126e49</td>\n",
       "      <td>0.000045</td>\n",
       "    </tr>\n",
       "    <tr>\n",
       "      <th>4</th>\n",
       "      <td>5cb1529d6fb9a0687d1170ea</td>\n",
       "      <td>0.000044</td>\n",
       "    </tr>\n",
       "  </tbody>\n",
       "</table>\n",
       "</div>"
      ],
      "text/plain": [
       "                         ID  PageRank\n",
       "0  5aae85666fb9a028e33b3b35  0.000045\n",
       "1  5c936c626fb9a070cb24aee5  0.000045\n",
       "2  551d677ee4b0cd5b623f49cb  0.000087\n",
       "3  5c10ad386fb9a049f9126e49  0.000045\n",
       "4  5cb1529d6fb9a0687d1170ea  0.000044"
      ]
     },
     "execution_count": 12,
     "metadata": {},
     "output_type": "execute_result"
    }
   ],
   "source": [
    "df.head()"
   ]
  },
  {
   "cell_type": "code",
   "execution_count": 13,
   "metadata": {},
   "outputs": [
    {
     "data": {
      "text/html": [
       "<div>\n",
       "<style scoped>\n",
       "    .dataframe tbody tr th:only-of-type {\n",
       "        vertical-align: middle;\n",
       "    }\n",
       "\n",
       "    .dataframe tbody tr th {\n",
       "        vertical-align: top;\n",
       "    }\n",
       "\n",
       "    .dataframe thead th {\n",
       "        text-align: right;\n",
       "    }\n",
       "</style>\n",
       "<table border=\"1\" class=\"dataframe\">\n",
       "  <thead>\n",
       "    <tr style=\"text-align: right;\">\n",
       "      <th></th>\n",
       "      <th>ID</th>\n",
       "      <th>PageRank</th>\n",
       "    </tr>\n",
       "  </thead>\n",
       "  <tbody>\n",
       "    <tr>\n",
       "      <th>850</th>\n",
       "      <td>nofollowee</td>\n",
       "      <td>0.000308</td>\n",
       "    </tr>\n",
       "    <tr>\n",
       "      <th>2</th>\n",
       "      <td>551d677ee4b0cd5b623f49cb</td>\n",
       "      <td>0.000087</td>\n",
       "    </tr>\n",
       "    <tr>\n",
       "      <th>167</th>\n",
       "      <td>56fa9a7c2db6ce00478e6bda</td>\n",
       "      <td>0.000074</td>\n",
       "    </tr>\n",
       "    <tr>\n",
       "      <th>701</th>\n",
       "      <td>551d6923e4b0cd5b623f54da</td>\n",
       "      <td>0.000069</td>\n",
       "    </tr>\n",
       "    <tr>\n",
       "      <th>798</th>\n",
       "      <td>5656fe2260b2febec4b52f46</td>\n",
       "      <td>0.000064</td>\n",
       "    </tr>\n",
       "    <tr>\n",
       "      <th>452</th>\n",
       "      <td>555426a7e4b076f1c3243993</td>\n",
       "      <td>0.000063</td>\n",
       "    </tr>\n",
       "    <tr>\n",
       "      <th>823</th>\n",
       "      <td>55fbd5e360b249ad605fb5ea</td>\n",
       "      <td>0.000059</td>\n",
       "    </tr>\n",
       "    <tr>\n",
       "      <th>807</th>\n",
       "      <td>5699faaf60b219d101745b7b</td>\n",
       "      <td>0.000058</td>\n",
       "    </tr>\n",
       "    <tr>\n",
       "      <th>433</th>\n",
       "      <td>55f4419360b28e983c150d0e</td>\n",
       "      <td>0.000058</td>\n",
       "    </tr>\n",
       "    <tr>\n",
       "      <th>450</th>\n",
       "      <td>59659aff5188250cf956e6dd</td>\n",
       "      <td>0.000057</td>\n",
       "    </tr>\n",
       "    <tr>\n",
       "      <th>755</th>\n",
       "      <td>55edc49b60b294604dbc746e</td>\n",
       "      <td>0.000057</td>\n",
       "    </tr>\n",
       "    <tr>\n",
       "      <th>1232</th>\n",
       "      <td>55fe1c23ddb263b5605b2c03</td>\n",
       "      <td>0.000057</td>\n",
       "    </tr>\n",
       "    <tr>\n",
       "      <th>29</th>\n",
       "      <td>5abdf16f6fb9a028d1413539</td>\n",
       "      <td>0.000057</td>\n",
       "    </tr>\n",
       "    <tr>\n",
       "      <th>14</th>\n",
       "      <td>5b39bd7de51d4558d43ff06d</td>\n",
       "      <td>0.000056</td>\n",
       "    </tr>\n",
       "    <tr>\n",
       "      <th>368</th>\n",
       "      <td>552f20a7e4b060d72a89d87f</td>\n",
       "      <td>0.000056</td>\n",
       "    </tr>\n",
       "    <tr>\n",
       "      <th>774</th>\n",
       "      <td>56d79d3f128fe100513b924a</td>\n",
       "      <td>0.000055</td>\n",
       "    </tr>\n",
       "    <tr>\n",
       "      <th>238</th>\n",
       "      <td>5875dfc7a22b9d0058a96d06</td>\n",
       "      <td>0.000054</td>\n",
       "    </tr>\n",
       "    <tr>\n",
       "      <th>1163</th>\n",
       "      <td>5a586bc66fb9a01cb1391339</td>\n",
       "      <td>0.000054</td>\n",
       "    </tr>\n",
       "    <tr>\n",
       "      <th>361</th>\n",
       "      <td>58afa29aac502e0069c5d756</td>\n",
       "      <td>0.000054</td>\n",
       "    </tr>\n",
       "    <tr>\n",
       "      <th>506</th>\n",
       "      <td>574f8d8d2e958a005fd4edac</td>\n",
       "      <td>0.000053</td>\n",
       "    </tr>\n",
       "  </tbody>\n",
       "</table>\n",
       "</div>"
      ],
      "text/plain": [
       "                            ID  PageRank\n",
       "850                 nofollowee  0.000308\n",
       "2     551d677ee4b0cd5b623f49cb  0.000087\n",
       "167   56fa9a7c2db6ce00478e6bda  0.000074\n",
       "701   551d6923e4b0cd5b623f54da  0.000069\n",
       "798   5656fe2260b2febec4b52f46  0.000064\n",
       "452   555426a7e4b076f1c3243993  0.000063\n",
       "823   55fbd5e360b249ad605fb5ea  0.000059\n",
       "807   5699faaf60b219d101745b7b  0.000058\n",
       "433   55f4419360b28e983c150d0e  0.000058\n",
       "450   59659aff5188250cf956e6dd  0.000057\n",
       "755   55edc49b60b294604dbc746e  0.000057\n",
       "1232  55fe1c23ddb263b5605b2c03  0.000057\n",
       "29    5abdf16f6fb9a028d1413539  0.000057\n",
       "14    5b39bd7de51d4558d43ff06d  0.000056\n",
       "368   552f20a7e4b060d72a89d87f  0.000056\n",
       "774   56d79d3f128fe100513b924a  0.000055\n",
       "238   5875dfc7a22b9d0058a96d06  0.000054\n",
       "1163  5a586bc66fb9a01cb1391339  0.000054\n",
       "361   58afa29aac502e0069c5d756  0.000054\n",
       "506   574f8d8d2e958a005fd4edac  0.000053"
      ]
     },
     "execution_count": 13,
     "metadata": {},
     "output_type": "execute_result"
    }
   ],
   "source": [
    "df.sort_values(by=\"PageRank\" , ascending=False).head(20)"
   ]
  },
  {
   "cell_type": "markdown",
   "metadata": {},
   "source": [
    "至此，选出影响力最大的前20位用户"
   ]
  },
  {
   "cell_type": "markdown",
   "metadata": {},
   "source": [
    "### 结果\n",
    "\n",
    "利用 Pagerank 算法可以使得运营在确定参与活动的用户时有数据作为支持，也可以更好的量化后续运营活动的效果。\n",
    "先挑选一批符合邀请最低要求的用户再计算影响力可以极大的缩短计算时间。\n",
    "但是相比全量计算所有用户的影响力不足在于，被筛选出来的用户的网络关系有误。\n"
   ]
  }
 ],
 "metadata": {
  "kernelspec": {
   "display_name": "Python 3",
   "language": "python",
   "name": "python3"
  },
  "language_info": {
   "codemirror_mode": {
    "name": "ipython",
    "version": 3
   },
   "file_extension": ".py",
   "mimetype": "text/x-python",
   "name": "python",
   "nbconvert_exporter": "python",
   "pygments_lexer": "ipython3",
   "version": "3.7.2"
  }
 },
 "nbformat": 4,
 "nbformat_minor": 2
}
