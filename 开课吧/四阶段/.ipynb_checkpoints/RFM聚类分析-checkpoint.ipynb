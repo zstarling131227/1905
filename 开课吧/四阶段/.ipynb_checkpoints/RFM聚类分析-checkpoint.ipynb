{
 "cells": [
  {
   "cell_type": "markdown",
   "metadata": {},
   "source": [
    "## 数据读取 "
   ]
  },
  {
   "cell_type": "code",
   "execution_count": 1,
   "metadata": {},
   "outputs": [],
   "source": [
    "import pandas as pd"
   ]
  },
  {
   "cell_type": "code",
   "execution_count": 2,
   "metadata": {},
   "outputs": [
    {
     "data": {
      "text/html": [
       "<div>\n",
       "<style scoped>\n",
       "    .dataframe tbody tr th:only-of-type {\n",
       "        vertical-align: middle;\n",
       "    }\n",
       "\n",
       "    .dataframe tbody tr th {\n",
       "        vertical-align: top;\n",
       "    }\n",
       "\n",
       "    .dataframe thead th {\n",
       "        text-align: right;\n",
       "    }\n",
       "</style>\n",
       "<table border=\"1\" class=\"dataframe\">\n",
       "  <thead>\n",
       "    <tr style=\"text-align: right;\">\n",
       "      <th></th>\n",
       "      <th>首次投资时间</th>\n",
       "      <th>最近一次投资时间</th>\n",
       "      <th>总计投资总金额</th>\n",
       "      <th>总计投标总次数</th>\n",
       "    </tr>\n",
       "    <tr>\n",
       "      <th>用户编码</th>\n",
       "      <th></th>\n",
       "      <th></th>\n",
       "      <th></th>\n",
       "      <th></th>\n",
       "    </tr>\n",
       "  </thead>\n",
       "  <tbody>\n",
       "    <tr>\n",
       "      <td>45B3CCE7-957B-4D54-9626-6D62731D119B</td>\n",
       "      <td>2016-06-25</td>\n",
       "      <td>2016-06-26</td>\n",
       "      <td>20000.0</td>\n",
       "      <td>3</td>\n",
       "    </tr>\n",
       "    <tr>\n",
       "      <td>9921C535-75FC-4695-8551-32B8D717B4A5</td>\n",
       "      <td>2016-06-26</td>\n",
       "      <td>2016-06-26</td>\n",
       "      <td>50000.0</td>\n",
       "      <td>3</td>\n",
       "    </tr>\n",
       "    <tr>\n",
       "      <td>2F00D4E3-CC7D-4DB1-B210-6F095156C5B8</td>\n",
       "      <td>2016-06-13</td>\n",
       "      <td>2016-06-19</td>\n",
       "      <td>108000.0</td>\n",
       "      <td>4</td>\n",
       "    </tr>\n",
       "    <tr>\n",
       "      <td>150218D8-BF32-406D-A3A8-8A19CB1E85AA</td>\n",
       "      <td>2016-06-16</td>\n",
       "      <td>2016-06-16</td>\n",
       "      <td>30000.0</td>\n",
       "      <td>3</td>\n",
       "    </tr>\n",
       "    <tr>\n",
       "      <td>98C26D4A-708F-4334-B3D7-EDAE9FD240C8</td>\n",
       "      <td>2016-06-27</td>\n",
       "      <td>2016-06-27</td>\n",
       "      <td>100000.0</td>\n",
       "      <td>3</td>\n",
       "    </tr>\n",
       "  </tbody>\n",
       "</table>\n",
       "</div>"
      ],
      "text/plain": [
       "                                         首次投资时间   最近一次投资时间   总计投资总金额  总计投标总次数\n",
       "用户编码                                                                         \n",
       "45B3CCE7-957B-4D54-9626-6D62731D119B 2016-06-25 2016-06-26   20000.0        3\n",
       "9921C535-75FC-4695-8551-32B8D717B4A5 2016-06-26 2016-06-26   50000.0        3\n",
       "2F00D4E3-CC7D-4DB1-B210-6F095156C5B8 2016-06-13 2016-06-19  108000.0        4\n",
       "150218D8-BF32-406D-A3A8-8A19CB1E85AA 2016-06-16 2016-06-16   30000.0        3\n",
       "98C26D4A-708F-4334-B3D7-EDAE9FD240C8 2016-06-27 2016-06-27  100000.0        3"
      ]
     },
     "execution_count": 2,
     "metadata": {},
     "output_type": "execute_result"
    }
   ],
   "source": [
    "data=pd.read_excel(\"RFM聚类分析【样本数据】.xlsx\",index_col=\"用户编码\")\n",
    "data.head()"
   ]
  },
  {
   "cell_type": "code",
   "execution_count": 3,
   "metadata": {},
   "outputs": [
    {
     "data": {
      "text/plain": [
       "200"
      ]
     },
     "execution_count": 3,
     "metadata": {},
     "output_type": "execute_result"
    }
   ],
   "source": [
    "len(data)"
   ]
  },
  {
   "cell_type": "markdown",
   "metadata": {},
   "source": [
    "## 数据探索预处理"
   ]
  },
  {
   "cell_type": "code",
   "execution_count": 4,
   "metadata": {},
   "outputs": [
    {
     "data": {
      "text/html": [
       "<div>\n",
       "<style scoped>\n",
       "    .dataframe tbody tr th:only-of-type {\n",
       "        vertical-align: middle;\n",
       "    }\n",
       "\n",
       "    .dataframe tbody tr th {\n",
       "        vertical-align: top;\n",
       "    }\n",
       "\n",
       "    .dataframe thead th {\n",
       "        text-align: right;\n",
       "    }\n",
       "</style>\n",
       "<table border=\"1\" class=\"dataframe\">\n",
       "  <thead>\n",
       "    <tr style=\"text-align: right;\">\n",
       "      <th></th>\n",
       "      <th>首次投资时间</th>\n",
       "      <th>最近一次投资时间</th>\n",
       "      <th>总计投资总金额</th>\n",
       "      <th>总计投标总次数</th>\n",
       "    </tr>\n",
       "  </thead>\n",
       "  <tbody>\n",
       "    <tr>\n",
       "      <td>count</td>\n",
       "      <td>200</td>\n",
       "      <td>200</td>\n",
       "      <td>200.000000</td>\n",
       "      <td>200.00000</td>\n",
       "    </tr>\n",
       "    <tr>\n",
       "      <td>unique</td>\n",
       "      <td>24</td>\n",
       "      <td>38</td>\n",
       "      <td>NaN</td>\n",
       "      <td>NaN</td>\n",
       "    </tr>\n",
       "    <tr>\n",
       "      <td>top</td>\n",
       "      <td>2016-06-22 00:00:00</td>\n",
       "      <td>2016-06-25 00:00:00</td>\n",
       "      <td>NaN</td>\n",
       "      <td>NaN</td>\n",
       "    </tr>\n",
       "    <tr>\n",
       "      <td>freq</td>\n",
       "      <td>20</td>\n",
       "      <td>25</td>\n",
       "      <td>NaN</td>\n",
       "      <td>NaN</td>\n",
       "    </tr>\n",
       "    <tr>\n",
       "      <td>first</td>\n",
       "      <td>2016-06-06 00:00:00</td>\n",
       "      <td>2016-06-06 00:00:00</td>\n",
       "      <td>NaN</td>\n",
       "      <td>NaN</td>\n",
       "    </tr>\n",
       "    <tr>\n",
       "      <td>last</td>\n",
       "      <td>2016-06-29 00:00:00</td>\n",
       "      <td>2016-07-18 00:00:00</td>\n",
       "      <td>NaN</td>\n",
       "      <td>NaN</td>\n",
       "    </tr>\n",
       "    <tr>\n",
       "      <td>mean</td>\n",
       "      <td>NaN</td>\n",
       "      <td>NaN</td>\n",
       "      <td>47223.409500</td>\n",
       "      <td>5.92000</td>\n",
       "    </tr>\n",
       "    <tr>\n",
       "      <td>std</td>\n",
       "      <td>NaN</td>\n",
       "      <td>NaN</td>\n",
       "      <td>43381.496372</td>\n",
       "      <td>4.84883</td>\n",
       "    </tr>\n",
       "    <tr>\n",
       "      <td>min</td>\n",
       "      <td>NaN</td>\n",
       "      <td>NaN</td>\n",
       "      <td>10100.000000</td>\n",
       "      <td>2.00000</td>\n",
       "    </tr>\n",
       "    <tr>\n",
       "      <td>25%</td>\n",
       "      <td>NaN</td>\n",
       "      <td>NaN</td>\n",
       "      <td>20000.000000</td>\n",
       "      <td>3.00000</td>\n",
       "    </tr>\n",
       "    <tr>\n",
       "      <td>50%</td>\n",
       "      <td>NaN</td>\n",
       "      <td>NaN</td>\n",
       "      <td>30000.000000</td>\n",
       "      <td>4.00000</td>\n",
       "    </tr>\n",
       "    <tr>\n",
       "      <td>75%</td>\n",
       "      <td>NaN</td>\n",
       "      <td>NaN</td>\n",
       "      <td>58000.000000</td>\n",
       "      <td>6.00000</td>\n",
       "    </tr>\n",
       "    <tr>\n",
       "      <td>max</td>\n",
       "      <td>NaN</td>\n",
       "      <td>NaN</td>\n",
       "      <td>250000.000000</td>\n",
       "      <td>34.00000</td>\n",
       "    </tr>\n",
       "  </tbody>\n",
       "</table>\n",
       "</div>"
      ],
      "text/plain": [
       "                     首次投资时间             最近一次投资时间        总计投资总金额    总计投标总次数\n",
       "count                   200                  200     200.000000  200.00000\n",
       "unique                   24                   38            NaN        NaN\n",
       "top     2016-06-22 00:00:00  2016-06-25 00:00:00            NaN        NaN\n",
       "freq                     20                   25            NaN        NaN\n",
       "first   2016-06-06 00:00:00  2016-06-06 00:00:00            NaN        NaN\n",
       "last    2016-06-29 00:00:00  2016-07-18 00:00:00            NaN        NaN\n",
       "mean                    NaN                  NaN   47223.409500    5.92000\n",
       "std                     NaN                  NaN   43381.496372    4.84883\n",
       "min                     NaN                  NaN   10100.000000    2.00000\n",
       "25%                     NaN                  NaN   20000.000000    3.00000\n",
       "50%                     NaN                  NaN   30000.000000    4.00000\n",
       "75%                     NaN                  NaN   58000.000000    6.00000\n",
       "max                     NaN                  NaN  250000.000000   34.00000"
      ]
     },
     "execution_count": 4,
     "metadata": {},
     "output_type": "execute_result"
    }
   ],
   "source": [
    "data.describe(include=\"all\")# 不加all会只统计数值型的指标统计。"
   ]
  },
  {
   "cell_type": "code",
   "execution_count": 5,
   "metadata": {},
   "outputs": [
    {
     "name": "stdout",
     "output_type": "stream",
     "text": [
      "2016-07-20 00:00:00\n"
     ]
    }
   ],
   "source": [
    "# 提数日。2016/7/20\n",
    "from datetime import datetime\n",
    "exdata_date=datetime(2016,7,20)\n",
    "print(exdata_date)"
   ]
  },
  {
   "cell_type": "code",
   "execution_count": 6,
   "metadata": {},
   "outputs": [
    {
     "name": "stdout",
     "output_type": "stream",
     "text": [
      "用户编码\n",
      "45B3CCE7-957B-4D54-9626-6D62731D119B   24 days\n",
      "9921C535-75FC-4695-8551-32B8D717B4A5   24 days\n",
      "2F00D4E3-CC7D-4DB1-B210-6F095156C5B8   31 days\n",
      "150218D8-BF32-406D-A3A8-8A19CB1E85AA   34 days\n",
      "98C26D4A-708F-4334-B3D7-EDAE9FD240C8   23 days\n",
      "                                         ...  \n",
      "0E0C4268-2198-4622-A9CB-7DD3BA225291   21 days\n",
      "203113AE-B955-45DE-BC25-7937275D6B20    9 days\n",
      "20323E1A-3DC7-4DC2-B269-AC08005E8B6F   14 days\n",
      "2079FE0B-ECFE-4F6D-A685-E35A33E967AA   30 days\n",
      "17070DDD-17CA-4B6F-B549-091026F359FB   24 days\n",
      "Name: 最近一次投资时间, Length: 200, dtype: timedelta64[ns]\n"
     ]
    }
   ],
   "source": [
    "# R最后一次投资时间距提数日天数\n",
    "diff_R=exdata_date-data['最近一次投资时间']\n",
    "print(diff_R)"
   ]
  },
  {
   "cell_type": "code",
   "execution_count": 7,
   "metadata": {},
   "outputs": [
    {
     "data": {
      "text/plain": [
       "24"
      ]
     },
     "execution_count": 7,
     "metadata": {},
     "output_type": "execute_result"
    }
   ],
   "source": [
    "diff_R[0].days"
   ]
  },
  {
   "cell_type": "code",
   "execution_count": 8,
   "metadata": {},
   "outputs": [
    {
     "data": {
      "text/plain": [
       "int"
      ]
     },
     "execution_count": 8,
     "metadata": {},
     "output_type": "execute_result"
    }
   ],
   "source": [
    "type(diff_R[0].days)"
   ]
  },
  {
   "cell_type": "code",
   "execution_count": 9,
   "metadata": {},
   "outputs": [
    {
     "data": {
      "text/plain": [
       "24"
      ]
     },
     "execution_count": 9,
     "metadata": {},
     "output_type": "execute_result"
    }
   ],
   "source": [
    "diff_R[0].days"
   ]
  },
  {
   "cell_type": "code",
   "execution_count": 10,
   "metadata": {},
   "outputs": [
    {
     "name": "stdout",
     "output_type": "stream",
     "text": [
      "[24, 24, 31, 34, 23, 28, 39, 22, 38, 25]\n"
     ]
    }
   ],
   "source": [
    "R=[]\n",
    "for i in diff_R:\n",
    "    R.append(i.days)\n",
    "\n",
    "print(R[:10])"
   ]
  },
  {
   "cell_type": "code",
   "execution_count": 11,
   "metadata": {},
   "outputs": [
    {
     "data": {
      "text/plain": [
       "用户编码\n",
       "45B3CCE7-957B-4D54-9626-6D62731D119B   25 days\n",
       "9921C535-75FC-4695-8551-32B8D717B4A5   24 days\n",
       "2F00D4E3-CC7D-4DB1-B210-6F095156C5B8   37 days\n",
       "150218D8-BF32-406D-A3A8-8A19CB1E85AA   34 days\n",
       "98C26D4A-708F-4334-B3D7-EDAE9FD240C8   23 days\n",
       "Name: 首次投资时间, dtype: timedelta64[ns]"
      ]
     },
     "execution_count": 11,
     "metadata": {},
     "output_type": "execute_result"
    }
   ],
   "source": [
    "\"\"\"\n",
    "用户在投时长（月）\n",
    "python没有获取月份差的函数，excel中有（datedif）\n",
    "1，用户在投时长（天）\n",
    "2，月=天/30，向上取整\n",
    "\"\"\"\n",
    "diff=exdata_date-data['首次投资时间']\n",
    "diff.head()"
   ]
  },
  {
   "cell_type": "code",
   "execution_count": 12,
   "metadata": {},
   "outputs": [
    {
     "data": {
      "text/plain": [
       "25"
      ]
     },
     "execution_count": 12,
     "metadata": {},
     "output_type": "execute_result"
    }
   ],
   "source": [
    "diff[0].days"
   ]
  },
  {
   "cell_type": "code",
   "execution_count": 13,
   "metadata": {},
   "outputs": [
    {
     "data": {
      "text/plain": [
       "0.8333333333333334"
      ]
     },
     "execution_count": 13,
     "metadata": {},
     "output_type": "execute_result"
    }
   ],
   "source": [
    "diff[0].days/30"
   ]
  },
  {
   "cell_type": "code",
   "execution_count": 15,
   "metadata": {},
   "outputs": [
    {
     "data": {
      "text/plain": [
       "1"
      ]
     },
     "execution_count": 15,
     "metadata": {},
     "output_type": "execute_result"
    }
   ],
   "source": [
    "from math import ceil\n",
    "ceil(diff[0].days/30)"
   ]
  },
  {
   "cell_type": "code",
   "execution_count": 17,
   "metadata": {},
   "outputs": [
    {
     "name": "stdout",
     "output_type": "stream",
     "text": [
      "[25, 24, 37, 34, 23, 28, 41, 22, 38, 25]\n"
     ]
    }
   ],
   "source": [
    "# 通过循环来获取相差天数，用户在投时长（天）\n",
    "diff_days=[]\n",
    "for i in diff:\n",
    "    diff_days.append(i.days)\n",
    "print(diff_days[:10])"
   ]
  },
  {
   "cell_type": "code",
   "execution_count": 19,
   "metadata": {},
   "outputs": [
    {
     "name": "stdout",
     "output_type": "stream",
     "text": [
      "[1, 1, 2, 2, 1, 1, 2, 1, 2, 1, 1, 1, 1, 1, 1, 2, 2, 1, 1, 1, 2, 2, 2, 1, 2, 2, 2, 2, 2, 2]\n"
     ]
    }
   ],
   "source": [
    "# 通过循环向上取整，得到用户在投时长（月）\n",
    "diff_months=[]\n",
    "for i in diff_days:\n",
    "    diff_months.append(ceil(i/30))\n",
    "print(diff_months[:30])"
   ]
  },
  {
   "cell_type": "code",
   "execution_count": 29,
   "metadata": {},
   "outputs": [
    {
     "data": {
      "text/plain": [
       "array([3. , 3. , 2. , 1.5, 3. , 3. , 1.5, 3. , 1. , 3. ])"
      ]
     },
     "execution_count": 29,
     "metadata": {},
     "output_type": "execute_result"
    }
   ],
   "source": [
    "# 计算F（月均投资次数）\n",
    "F=data['总计投标总次数']/diff_months\n",
    "F=F.values\n",
    "F[:10]"
   ]
  },
  {
   "cell_type": "code",
   "execution_count": 26,
   "metadata": {},
   "outputs": [
    {
     "data": {
      "text/plain": [
       "array([ 20000.,  50000.,  54000.,  15000., 100000.,  15000.,  10000.,\n",
       "        16000.,   7500.,  20000.])"
      ]
     },
     "execution_count": 26,
     "metadata": {},
     "output_type": "execute_result"
    }
   ],
   "source": [
    "# 计算M（月均投资次数）\n",
    "M=(data['总计投资总金额']/diff_months).values\n",
    "M[:10]"
   ]
  },
  {
   "cell_type": "code",
   "execution_count": 31,
   "metadata": {},
   "outputs": [
    {
     "data": {
      "text/html": [
       "<div>\n",
       "<style scoped>\n",
       "    .dataframe tbody tr th:only-of-type {\n",
       "        vertical-align: middle;\n",
       "    }\n",
       "\n",
       "    .dataframe tbody tr th {\n",
       "        vertical-align: top;\n",
       "    }\n",
       "\n",
       "    .dataframe thead th {\n",
       "        text-align: right;\n",
       "    }\n",
       "</style>\n",
       "<table border=\"1\" class=\"dataframe\">\n",
       "  <thead>\n",
       "    <tr style=\"text-align: right;\">\n",
       "      <th></th>\n",
       "      <th>0</th>\n",
       "      <th>1</th>\n",
       "      <th>2</th>\n",
       "    </tr>\n",
       "  </thead>\n",
       "  <tbody>\n",
       "    <tr>\n",
       "      <td>0</td>\n",
       "      <td>24.0</td>\n",
       "      <td>3.0</td>\n",
       "      <td>20000.0</td>\n",
       "    </tr>\n",
       "    <tr>\n",
       "      <td>1</td>\n",
       "      <td>24.0</td>\n",
       "      <td>3.0</td>\n",
       "      <td>50000.0</td>\n",
       "    </tr>\n",
       "    <tr>\n",
       "      <td>2</td>\n",
       "      <td>31.0</td>\n",
       "      <td>2.0</td>\n",
       "      <td>54000.0</td>\n",
       "    </tr>\n",
       "    <tr>\n",
       "      <td>3</td>\n",
       "      <td>34.0</td>\n",
       "      <td>1.5</td>\n",
       "      <td>15000.0</td>\n",
       "    </tr>\n",
       "    <tr>\n",
       "      <td>4</td>\n",
       "      <td>23.0</td>\n",
       "      <td>3.0</td>\n",
       "      <td>100000.0</td>\n",
       "    </tr>\n",
       "  </tbody>\n",
       "</table>\n",
       "</div>"
      ],
      "text/plain": [
       "      0    1         2\n",
       "0  24.0  3.0   20000.0\n",
       "1  24.0  3.0   50000.0\n",
       "2  31.0  2.0   54000.0\n",
       "3  34.0  1.5   15000.0\n",
       "4  23.0  3.0  100000.0"
      ]
     },
     "execution_count": 31,
     "metadata": {},
     "output_type": "execute_result"
    }
   ],
   "source": [
    "# 选取FRM三个指标作为聚类分析的指标\n",
    "from pandas import DataFrame\n",
    "cdata=DataFrame([R,list(F),list(M)]).T\n",
    "cdata.head()"
   ]
  },
  {
   "cell_type": "code",
   "execution_count": 33,
   "metadata": {},
   "outputs": [
    {
     "data": {
      "text/html": [
       "<div>\n",
       "<style scoped>\n",
       "    .dataframe tbody tr th:only-of-type {\n",
       "        vertical-align: middle;\n",
       "    }\n",
       "\n",
       "    .dataframe tbody tr th {\n",
       "        vertical-align: top;\n",
       "    }\n",
       "\n",
       "    .dataframe thead th {\n",
       "        text-align: right;\n",
       "    }\n",
       "</style>\n",
       "<table border=\"1\" class=\"dataframe\">\n",
       "  <thead>\n",
       "    <tr style=\"text-align: right;\">\n",
       "      <th></th>\n",
       "      <th>R最近一次投资时间</th>\n",
       "      <th>F月均投资次数</th>\n",
       "      <th>M月均投资金额</th>\n",
       "    </tr>\n",
       "    <tr>\n",
       "      <th>用户编码</th>\n",
       "      <th></th>\n",
       "      <th></th>\n",
       "      <th></th>\n",
       "    </tr>\n",
       "  </thead>\n",
       "  <tbody>\n",
       "    <tr>\n",
       "      <td>45B3CCE7-957B-4D54-9626-6D62731D119B</td>\n",
       "      <td>24.0</td>\n",
       "      <td>3.0</td>\n",
       "      <td>20000.0</td>\n",
       "    </tr>\n",
       "    <tr>\n",
       "      <td>9921C535-75FC-4695-8551-32B8D717B4A5</td>\n",
       "      <td>24.0</td>\n",
       "      <td>3.0</td>\n",
       "      <td>50000.0</td>\n",
       "    </tr>\n",
       "    <tr>\n",
       "      <td>2F00D4E3-CC7D-4DB1-B210-6F095156C5B8</td>\n",
       "      <td>31.0</td>\n",
       "      <td>2.0</td>\n",
       "      <td>54000.0</td>\n",
       "    </tr>\n",
       "    <tr>\n",
       "      <td>150218D8-BF32-406D-A3A8-8A19CB1E85AA</td>\n",
       "      <td>34.0</td>\n",
       "      <td>1.5</td>\n",
       "      <td>15000.0</td>\n",
       "    </tr>\n",
       "    <tr>\n",
       "      <td>98C26D4A-708F-4334-B3D7-EDAE9FD240C8</td>\n",
       "      <td>23.0</td>\n",
       "      <td>3.0</td>\n",
       "      <td>100000.0</td>\n",
       "    </tr>\n",
       "  </tbody>\n",
       "</table>\n",
       "</div>"
      ],
      "text/plain": [
       "                                      R最近一次投资时间  F月均投资次数   M月均投资金额\n",
       "用户编码                                                              \n",
       "45B3CCE7-957B-4D54-9626-6D62731D119B       24.0      3.0   20000.0\n",
       "9921C535-75FC-4695-8551-32B8D717B4A5       24.0      3.0   50000.0\n",
       "2F00D4E3-CC7D-4DB1-B210-6F095156C5B8       31.0      2.0   54000.0\n",
       "150218D8-BF32-406D-A3A8-8A19CB1E85AA       34.0      1.5   15000.0\n",
       "98C26D4A-708F-4334-B3D7-EDAE9FD240C8       23.0      3.0  100000.0"
      ]
     },
     "execution_count": 33,
     "metadata": {},
     "output_type": "execute_result"
    }
   ],
   "source": [
    "# 指定cdata的index,columns\n",
    "cdata.index=data.index\n",
    "cdata.columns=[\"R最近一次投资时间距提数日的天数\",\"F月均投资次数\",\"M月均投资金额\"]\n",
    "cdata.head()"
   ]
  },
  {
   "cell_type": "markdown",
   "metadata": {},
   "source": [
    "## K—Means聚类分析"
   ]
  },
  {
   "cell_type": "code",
   "execution_count": 36,
   "metadata": {},
   "outputs": [
    {
     "data": {
      "text/plain": [
       "R最近一次投资时间       22.66500\n",
       "F月均投资次数          4.24250\n",
       "M月均投资金额      35821.24175\n",
       "dtype: float64"
      ]
     },
     "execution_count": 36,
     "metadata": {},
     "output_type": "execute_result"
    }
   ],
   "source": [
    "cdata.mean()"
   ]
  },
  {
   "cell_type": "code",
   "execution_count": 37,
   "metadata": {},
   "outputs": [
    {
     "data": {
      "text/html": [
       "<div>\n",
       "<style scoped>\n",
       "    .dataframe tbody tr th:only-of-type {\n",
       "        vertical-align: middle;\n",
       "    }\n",
       "\n",
       "    .dataframe tbody tr th {\n",
       "        vertical-align: top;\n",
       "    }\n",
       "\n",
       "    .dataframe thead th {\n",
       "        text-align: right;\n",
       "    }\n",
       "</style>\n",
       "<table border=\"1\" class=\"dataframe\">\n",
       "  <thead>\n",
       "    <tr style=\"text-align: right;\">\n",
       "      <th></th>\n",
       "      <th>R最近一次投资时间</th>\n",
       "      <th>F月均投资次数</th>\n",
       "      <th>M月均投资金额</th>\n",
       "    </tr>\n",
       "    <tr>\n",
       "      <th>用户编码</th>\n",
       "      <th></th>\n",
       "      <th></th>\n",
       "      <th></th>\n",
       "    </tr>\n",
       "  </thead>\n",
       "  <tbody>\n",
       "    <tr>\n",
       "      <td>45B3CCE7-957B-4D54-9626-6D62731D119B</td>\n",
       "      <td>0.140422</td>\n",
       "      <td>-0.353751</td>\n",
       "      <td>-0.392133</td>\n",
       "    </tr>\n",
       "    <tr>\n",
       "      <td>9921C535-75FC-4695-8551-32B8D717B4A5</td>\n",
       "      <td>0.140422</td>\n",
       "      <td>-0.353751</td>\n",
       "      <td>0.351423</td>\n",
       "    </tr>\n",
       "    <tr>\n",
       "      <td>2F00D4E3-CC7D-4DB1-B210-6F095156C5B8</td>\n",
       "      <td>0.876714</td>\n",
       "      <td>-0.638461</td>\n",
       "      <td>0.450564</td>\n",
       "    </tr>\n",
       "    <tr>\n",
       "      <td>150218D8-BF32-406D-A3A8-8A19CB1E85AA</td>\n",
       "      <td>1.192268</td>\n",
       "      <td>-0.780815</td>\n",
       "      <td>-0.516059</td>\n",
       "    </tr>\n",
       "    <tr>\n",
       "      <td>98C26D4A-708F-4334-B3D7-EDAE9FD240C8</td>\n",
       "      <td>0.035237</td>\n",
       "      <td>-0.353751</td>\n",
       "      <td>1.590683</td>\n",
       "    </tr>\n",
       "  </tbody>\n",
       "</table>\n",
       "</div>"
      ],
      "text/plain": [
       "                                      R最近一次投资时间   F月均投资次数   M月均投资金额\n",
       "用户编码                                                               \n",
       "45B3CCE7-957B-4D54-9626-6D62731D119B   0.140422 -0.353751 -0.392133\n",
       "9921C535-75FC-4695-8551-32B8D717B4A5   0.140422 -0.353751  0.351423\n",
       "2F00D4E3-CC7D-4DB1-B210-6F095156C5B8   0.876714 -0.638461  0.450564\n",
       "150218D8-BF32-406D-A3A8-8A19CB1E85AA   1.192268 -0.780815 -0.516059\n",
       "98C26D4A-708F-4334-B3D7-EDAE9FD240C8   0.035237 -0.353751  1.590683"
      ]
     },
     "execution_count": 37,
     "metadata": {},
     "output_type": "execute_result"
    }
   ],
   "source": [
    "# 数据标准化\n",
    "zcdata=(cdata-cdata.mean())/cdata.std()\n",
    "zcdata.head()"
   ]
  },
  {
   "cell_type": "code",
   "execution_count": 39,
   "metadata": {},
   "outputs": [
    {
     "data": {
      "text/plain": [
       "array([0, 0, 0, 0, 1, 0, 0, 0, 0, 0, 0, 0, 0, 0, 0, 0, 0, 0, 0, 1, 0, 0,\n",
       "       0, 0, 2, 2, 0, 1, 0, 0, 0, 0, 0, 0, 0, 0, 0, 2, 0, 0, 0, 2, 0, 0,\n",
       "       0, 0, 1, 2, 0, 0, 0, 0, 2, 0, 0, 0, 0, 1, 0, 3, 0, 0, 0, 0, 0, 3,\n",
       "       0, 0, 0, 0, 0, 0, 0, 0, 0, 3, 2, 0, 2, 0, 1, 0, 2, 0, 0, 2, 3, 2,\n",
       "       2, 2, 2, 0, 1, 0, 2, 0, 2, 2, 2, 0, 1, 0, 3, 1, 0, 2, 2, 0, 0, 0,\n",
       "       2, 0, 0, 0, 2, 2, 3, 2, 2, 3, 0, 0, 0, 0, 0, 0, 0, 1, 1, 0, 0, 0,\n",
       "       3, 1, 0, 0, 0, 0, 1, 0, 0, 0, 0, 2, 2, 2, 2, 0, 0, 0, 1, 0, 2, 0,\n",
       "       3, 2, 2, 0, 0, 0, 2, 1, 0, 0, 0, 1, 0, 0, 2, 2, 0, 0, 0, 1, 2, 1,\n",
       "       2, 0, 2, 0, 0, 1, 2, 0, 2, 0, 0, 0, 0, 0, 2, 0, 0, 0, 2, 0, 2, 2,\n",
       "       0, 0], dtype=int32)"
      ]
     },
     "execution_count": 39,
     "metadata": {},
     "output_type": "execute_result"
    }
   ],
   "source": [
    "# sklearn\n",
    "from sklearn.cluster import KMeans\n",
    "kmodel=KMeans(n_clusters=4,n_jobs=4,max_iter=100,random_state=0)\n",
    "kmodel.fit(zcdata)\n",
    "kmodel.labels_"
   ]
  },
  {
   "cell_type": "code",
   "execution_count": 41,
   "metadata": {},
   "outputs": [
    {
     "data": {
      "text/plain": [
       "0    128\n",
       "2     44\n",
       "1     19\n",
       "3      9\n",
       "dtype: int64"
      ]
     },
     "execution_count": 41,
     "metadata": {},
     "output_type": "execute_result"
    }
   ],
   "source": [
    "# 统计每个类别的频率\n",
    "from pandas import Series\n",
    "Series(kmodel.labels_).value_counts()"
   ]
  },
  {
   "cell_type": "code",
   "execution_count": 42,
   "metadata": {},
   "outputs": [
    {
     "data": {
      "text/html": [
       "<div>\n",
       "<style scoped>\n",
       "    .dataframe tbody tr th:only-of-type {\n",
       "        vertical-align: middle;\n",
       "    }\n",
       "\n",
       "    .dataframe tbody tr th {\n",
       "        vertical-align: top;\n",
       "    }\n",
       "\n",
       "    .dataframe thead th {\n",
       "        text-align: right;\n",
       "    }\n",
       "</style>\n",
       "<table border=\"1\" class=\"dataframe\">\n",
       "  <thead>\n",
       "    <tr style=\"text-align: right;\">\n",
       "      <th></th>\n",
       "      <th>R最近一次投资时间</th>\n",
       "      <th>F月均投资次数</th>\n",
       "      <th>M月均投资金额</th>\n",
       "      <th>0</th>\n",
       "    </tr>\n",
       "    <tr>\n",
       "      <th>用户编码</th>\n",
       "      <th></th>\n",
       "      <th></th>\n",
       "      <th></th>\n",
       "      <th></th>\n",
       "    </tr>\n",
       "  </thead>\n",
       "  <tbody>\n",
       "    <tr>\n",
       "      <td>45B3CCE7-957B-4D54-9626-6D62731D119B</td>\n",
       "      <td>24.0</td>\n",
       "      <td>3.0</td>\n",
       "      <td>20000.0</td>\n",
       "      <td>0</td>\n",
       "    </tr>\n",
       "    <tr>\n",
       "      <td>9921C535-75FC-4695-8551-32B8D717B4A5</td>\n",
       "      <td>24.0</td>\n",
       "      <td>3.0</td>\n",
       "      <td>50000.0</td>\n",
       "      <td>0</td>\n",
       "    </tr>\n",
       "    <tr>\n",
       "      <td>2F00D4E3-CC7D-4DB1-B210-6F095156C5B8</td>\n",
       "      <td>31.0</td>\n",
       "      <td>2.0</td>\n",
       "      <td>54000.0</td>\n",
       "      <td>0</td>\n",
       "    </tr>\n",
       "    <tr>\n",
       "      <td>150218D8-BF32-406D-A3A8-8A19CB1E85AA</td>\n",
       "      <td>34.0</td>\n",
       "      <td>1.5</td>\n",
       "      <td>15000.0</td>\n",
       "      <td>0</td>\n",
       "    </tr>\n",
       "    <tr>\n",
       "      <td>98C26D4A-708F-4334-B3D7-EDAE9FD240C8</td>\n",
       "      <td>23.0</td>\n",
       "      <td>3.0</td>\n",
       "      <td>100000.0</td>\n",
       "      <td>1</td>\n",
       "    </tr>\n",
       "  </tbody>\n",
       "</table>\n",
       "</div>"
      ],
      "text/plain": [
       "                                      R最近一次投资时间  F月均投资次数   M月均投资金额  0\n",
       "用户编码                                                                 \n",
       "45B3CCE7-957B-4D54-9626-6D62731D119B       24.0      3.0   20000.0  0\n",
       "9921C535-75FC-4695-8551-32B8D717B4A5       24.0      3.0   50000.0  0\n",
       "2F00D4E3-CC7D-4DB1-B210-6F095156C5B8       31.0      2.0   54000.0  0\n",
       "150218D8-BF32-406D-A3A8-8A19CB1E85AA       34.0      1.5   15000.0  0\n",
       "98C26D4A-708F-4334-B3D7-EDAE9FD240C8       23.0      3.0  100000.0  1"
      ]
     },
     "execution_count": 42,
     "metadata": {},
     "output_type": "execute_result"
    }
   ],
   "source": [
    "# 将类别标签赋回原数据\n",
    "\n",
    "cdata_rst=pd.concat([cdata,Series(kmodel.labels_,index=cdata.index)],axis=1)\n",
    "cdata_rst.head()"
   ]
  },
  {
   "cell_type": "code",
   "execution_count": 43,
   "metadata": {},
   "outputs": [
    {
     "data": {
      "text/html": [
       "<div>\n",
       "<style scoped>\n",
       "    .dataframe tbody tr th:only-of-type {\n",
       "        vertical-align: middle;\n",
       "    }\n",
       "\n",
       "    .dataframe tbody tr th {\n",
       "        vertical-align: top;\n",
       "    }\n",
       "\n",
       "    .dataframe thead th {\n",
       "        text-align: right;\n",
       "    }\n",
       "</style>\n",
       "<table border=\"1\" class=\"dataframe\">\n",
       "  <thead>\n",
       "    <tr style=\"text-align: right;\">\n",
       "      <th></th>\n",
       "      <th>R最近一次投资时间</th>\n",
       "      <th>F月均投资次数</th>\n",
       "      <th>M月均投资金额</th>\n",
       "      <th>类别</th>\n",
       "    </tr>\n",
       "    <tr>\n",
       "      <th>用户编码</th>\n",
       "      <th></th>\n",
       "      <th></th>\n",
       "      <th></th>\n",
       "      <th></th>\n",
       "    </tr>\n",
       "  </thead>\n",
       "  <tbody>\n",
       "    <tr>\n",
       "      <td>45B3CCE7-957B-4D54-9626-6D62731D119B</td>\n",
       "      <td>24.0</td>\n",
       "      <td>3.0</td>\n",
       "      <td>20000.0</td>\n",
       "      <td>0</td>\n",
       "    </tr>\n",
       "    <tr>\n",
       "      <td>9921C535-75FC-4695-8551-32B8D717B4A5</td>\n",
       "      <td>24.0</td>\n",
       "      <td>3.0</td>\n",
       "      <td>50000.0</td>\n",
       "      <td>0</td>\n",
       "    </tr>\n",
       "    <tr>\n",
       "      <td>2F00D4E3-CC7D-4DB1-B210-6F095156C5B8</td>\n",
       "      <td>31.0</td>\n",
       "      <td>2.0</td>\n",
       "      <td>54000.0</td>\n",
       "      <td>0</td>\n",
       "    </tr>\n",
       "    <tr>\n",
       "      <td>150218D8-BF32-406D-A3A8-8A19CB1E85AA</td>\n",
       "      <td>34.0</td>\n",
       "      <td>1.5</td>\n",
       "      <td>15000.0</td>\n",
       "      <td>0</td>\n",
       "    </tr>\n",
       "    <tr>\n",
       "      <td>98C26D4A-708F-4334-B3D7-EDAE9FD240C8</td>\n",
       "      <td>23.0</td>\n",
       "      <td>3.0</td>\n",
       "      <td>100000.0</td>\n",
       "      <td>1</td>\n",
       "    </tr>\n",
       "  </tbody>\n",
       "</table>\n",
       "</div>"
      ],
      "text/plain": [
       "                                      R最近一次投资时间  F月均投资次数   M月均投资金额  类别\n",
       "用户编码                                                                  \n",
       "45B3CCE7-957B-4D54-9626-6D62731D119B       24.0      3.0   20000.0   0\n",
       "9921C535-75FC-4695-8551-32B8D717B4A5       24.0      3.0   50000.0   0\n",
       "2F00D4E3-CC7D-4DB1-B210-6F095156C5B8       31.0      2.0   54000.0   0\n",
       "150218D8-BF32-406D-A3A8-8A19CB1E85AA       34.0      1.5   15000.0   0\n",
       "98C26D4A-708F-4334-B3D7-EDAE9FD240C8       23.0      3.0  100000.0   1"
      ]
     },
     "execution_count": 43,
     "metadata": {},
     "output_type": "execute_result"
    }
   ],
   "source": [
    "# 命名最后一列\n",
    "\n",
    "cdata_rst.columns=list(cdata.columns)+[\"类别\"]\n",
    "cdata_rst.head()"
   ]
  },
  {
   "cell_type": "code",
   "execution_count": 44,
   "metadata": {},
   "outputs": [
    {
     "data": {
      "text/html": [
       "<div>\n",
       "<style scoped>\n",
       "    .dataframe tbody tr th:only-of-type {\n",
       "        vertical-align: middle;\n",
       "    }\n",
       "\n",
       "    .dataframe tbody tr th {\n",
       "        vertical-align: top;\n",
       "    }\n",
       "\n",
       "    .dataframe thead th {\n",
       "        text-align: right;\n",
       "    }\n",
       "</style>\n",
       "<table border=\"1\" class=\"dataframe\">\n",
       "  <thead>\n",
       "    <tr style=\"text-align: right;\">\n",
       "      <th></th>\n",
       "      <th>R最近一次投资时间</th>\n",
       "      <th>F月均投资次数</th>\n",
       "      <th>M月均投资金额</th>\n",
       "    </tr>\n",
       "    <tr>\n",
       "      <th>类别</th>\n",
       "      <th></th>\n",
       "      <th></th>\n",
       "      <th></th>\n",
       "    </tr>\n",
       "  </thead>\n",
       "  <tbody>\n",
       "    <tr>\n",
       "      <td>0</td>\n",
       "      <td>27.859375</td>\n",
       "      <td>2.820312</td>\n",
       "      <td>21906.754297</td>\n",
       "    </tr>\n",
       "    <tr>\n",
       "      <td>1</td>\n",
       "      <td>20.684211</td>\n",
       "      <td>4.552632</td>\n",
       "      <td>115842.105263</td>\n",
       "    </tr>\n",
       "    <tr>\n",
       "      <td>2</td>\n",
       "      <td>10.568182</td>\n",
       "      <td>5.579545</td>\n",
       "      <td>26984.313636</td>\n",
       "    </tr>\n",
       "    <tr>\n",
       "      <td>3</td>\n",
       "      <td>12.111111</td>\n",
       "      <td>17.277778</td>\n",
       "      <td>107986.000000</td>\n",
       "    </tr>\n",
       "  </tbody>\n",
       "</table>\n",
       "</div>"
      ],
      "text/plain": [
       "    R最近一次投资时间    F月均投资次数        M月均投资金额\n",
       "类别                                     \n",
       "0   27.859375   2.820312   21906.754297\n",
       "1   20.684211   4.552632  115842.105263\n",
       "2   10.568182   5.579545   26984.313636\n",
       "3   12.111111  17.277778  107986.000000"
      ]
     },
     "execution_count": 44,
     "metadata": {},
     "output_type": "execute_result"
    }
   ],
   "source": [
    "# 按照类别分组统计RFM指标的均值\n",
    "# groupby\n",
    "cdata_rst.groupby(cdata_rst['类别']).mean()"
   ]
  },
  {
   "cell_type": "markdown",
   "metadata": {},
   "source": [
    "**结论**\n",
    "- 类别3：重要价值客户，或者超级用户\n",
    "- 类别0：价值客户\n",
    "- 类别1：M很高，重要保持客户"
   ]
  },
  {
   "cell_type": "code",
   "execution_count": null,
   "metadata": {},
   "outputs": [],
   "source": []
  }
 ],
 "metadata": {
  "kernelspec": {
   "display_name": "Python 3",
   "language": "python",
   "name": "python3"
  },
  "language_info": {
   "codemirror_mode": {
    "name": "ipython",
    "version": 3
   },
   "file_extension": ".py",
   "mimetype": "text/x-python",
   "name": "python",
   "nbconvert_exporter": "python",
   "pygments_lexer": "ipython3",
   "version": "3.6.8"
  }
 },
 "nbformat": 4,
 "nbformat_minor": 2
}
