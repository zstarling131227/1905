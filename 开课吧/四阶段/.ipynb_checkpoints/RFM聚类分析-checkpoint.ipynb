{
 "cells": [
  {
   "cell_type": "markdown",
   "metadata": {},
   "source": [
    "## 数据读取 "
   ]
  },
  {
   "cell_type": "code",
   "execution_count": 2,
   "metadata": {},
   "outputs": [],
   "source": [
    "import pandas as pd"
   ]
  },
  {
   "cell_type": "code",
   "execution_count": 4,
   "metadata": {},
   "outputs": [
    {
     "data": {
      "text/html": [
       "<div>\n",
       "<style scoped>\n",
       "    .dataframe tbody tr th:only-of-type {\n",
       "        vertical-align: middle;\n",
       "    }\n",
       "\n",
       "    .dataframe tbody tr th {\n",
       "        vertical-align: top;\n",
       "    }\n",
       "\n",
       "    .dataframe thead th {\n",
       "        text-align: right;\n",
       "    }\n",
       "</style>\n",
       "<table border=\"1\" class=\"dataframe\">\n",
       "  <thead>\n",
       "    <tr style=\"text-align: right;\">\n",
       "      <th></th>\n",
       "      <th>首次投资时间</th>\n",
       "      <th>最近一次投资时间</th>\n",
       "      <th>总计投资总金额</th>\n",
       "      <th>总计投标总次数</th>\n",
       "    </tr>\n",
       "    <tr>\n",
       "      <th>用户编码</th>\n",
       "      <th></th>\n",
       "      <th></th>\n",
       "      <th></th>\n",
       "      <th></th>\n",
       "    </tr>\n",
       "  </thead>\n",
       "  <tbody>\n",
       "    <tr>\n",
       "      <th>45B3CCE7-957B-4D54-9626-6D62731D119B</th>\n",
       "      <td>2016-06-25</td>\n",
       "      <td>2016-06-26</td>\n",
       "      <td>20000.0</td>\n",
       "      <td>3</td>\n",
       "    </tr>\n",
       "    <tr>\n",
       "      <th>9921C535-75FC-4695-8551-32B8D717B4A5</th>\n",
       "      <td>2016-06-26</td>\n",
       "      <td>2016-06-26</td>\n",
       "      <td>50000.0</td>\n",
       "      <td>3</td>\n",
       "    </tr>\n",
       "    <tr>\n",
       "      <th>2F00D4E3-CC7D-4DB1-B210-6F095156C5B8</th>\n",
       "      <td>2016-06-13</td>\n",
       "      <td>2016-06-19</td>\n",
       "      <td>108000.0</td>\n",
       "      <td>4</td>\n",
       "    </tr>\n",
       "    <tr>\n",
       "      <th>150218D8-BF32-406D-A3A8-8A19CB1E85AA</th>\n",
       "      <td>2016-06-16</td>\n",
       "      <td>2016-06-16</td>\n",
       "      <td>30000.0</td>\n",
       "      <td>3</td>\n",
       "    </tr>\n",
       "    <tr>\n",
       "      <th>98C26D4A-708F-4334-B3D7-EDAE9FD240C8</th>\n",
       "      <td>2016-06-27</td>\n",
       "      <td>2016-06-27</td>\n",
       "      <td>100000.0</td>\n",
       "      <td>3</td>\n",
       "    </tr>\n",
       "  </tbody>\n",
       "</table>\n",
       "</div>"
      ],
      "text/plain": [
       "                                         首次投资时间   最近一次投资时间   总计投资总金额  总计投标总次数\n",
       "用户编码                                                                         \n",
       "45B3CCE7-957B-4D54-9626-6D62731D119B 2016-06-25 2016-06-26   20000.0        3\n",
       "9921C535-75FC-4695-8551-32B8D717B4A5 2016-06-26 2016-06-26   50000.0        3\n",
       "2F00D4E3-CC7D-4DB1-B210-6F095156C5B8 2016-06-13 2016-06-19  108000.0        4\n",
       "150218D8-BF32-406D-A3A8-8A19CB1E85AA 2016-06-16 2016-06-16   30000.0        3\n",
       "98C26D4A-708F-4334-B3D7-EDAE9FD240C8 2016-06-27 2016-06-27  100000.0        3"
      ]
     },
     "execution_count": 4,
     "metadata": {},
     "output_type": "execute_result"
    }
   ],
   "source": [
    "data=pd.read_excel(\"RFM聚类分析【样本数据】.xlsx\",index_col=\"用户编码\")\n",
    "data.head()"
   ]
  },
  {
   "cell_type": "code",
   "execution_count": 5,
   "metadata": {},
   "outputs": [
    {
     "data": {
      "text/plain": [
       "200"
      ]
     },
     "execution_count": 5,
     "metadata": {},
     "output_type": "execute_result"
    }
   ],
   "source": [
    "len(data)"
   ]
  },
  {
   "cell_type": "markdown",
   "metadata": {},
   "source": [
    "## 数据探索预处理"
   ]
  },
  {
   "cell_type": "code",
   "execution_count": 6,
   "metadata": {},
   "outputs": [
    {
     "data": {
      "text/html": [
       "<div>\n",
       "<style scoped>\n",
       "    .dataframe tbody tr th:only-of-type {\n",
       "        vertical-align: middle;\n",
       "    }\n",
       "\n",
       "    .dataframe tbody tr th {\n",
       "        vertical-align: top;\n",
       "    }\n",
       "\n",
       "    .dataframe thead th {\n",
       "        text-align: right;\n",
       "    }\n",
       "</style>\n",
       "<table border=\"1\" class=\"dataframe\">\n",
       "  <thead>\n",
       "    <tr style=\"text-align: right;\">\n",
       "      <th></th>\n",
       "      <th>总计投资总金额</th>\n",
       "      <th>总计投标总次数</th>\n",
       "    </tr>\n",
       "  </thead>\n",
       "  <tbody>\n",
       "    <tr>\n",
       "      <th>count</th>\n",
       "      <td>200.000000</td>\n",
       "      <td>200.00000</td>\n",
       "    </tr>\n",
       "    <tr>\n",
       "      <th>mean</th>\n",
       "      <td>47223.409500</td>\n",
       "      <td>5.92000</td>\n",
       "    </tr>\n",
       "    <tr>\n",
       "      <th>std</th>\n",
       "      <td>43381.496372</td>\n",
       "      <td>4.84883</td>\n",
       "    </tr>\n",
       "    <tr>\n",
       "      <th>min</th>\n",
       "      <td>10100.000000</td>\n",
       "      <td>2.00000</td>\n",
       "    </tr>\n",
       "    <tr>\n",
       "      <th>25%</th>\n",
       "      <td>20000.000000</td>\n",
       "      <td>3.00000</td>\n",
       "    </tr>\n",
       "    <tr>\n",
       "      <th>50%</th>\n",
       "      <td>30000.000000</td>\n",
       "      <td>4.00000</td>\n",
       "    </tr>\n",
       "    <tr>\n",
       "      <th>75%</th>\n",
       "      <td>58000.000000</td>\n",
       "      <td>6.00000</td>\n",
       "    </tr>\n",
       "    <tr>\n",
       "      <th>max</th>\n",
       "      <td>250000.000000</td>\n",
       "      <td>34.00000</td>\n",
       "    </tr>\n",
       "  </tbody>\n",
       "</table>\n",
       "</div>"
      ],
      "text/plain": [
       "             总计投资总金额    总计投标总次数\n",
       "count     200.000000  200.00000\n",
       "mean    47223.409500    5.92000\n",
       "std     43381.496372    4.84883\n",
       "min     10100.000000    2.00000\n",
       "25%     20000.000000    3.00000\n",
       "50%     30000.000000    4.00000\n",
       "75%     58000.000000    6.00000\n",
       "max    250000.000000   34.00000"
      ]
     },
     "execution_count": 6,
     "metadata": {},
     "output_type": "execute_result"
    }
   ],
   "source": [
    "data.describe()# 不加all会只统计数值型的指标统计。"
   ]
  },
  {
   "cell_type": "code",
   "execution_count": 7,
   "metadata": {},
   "outputs": [
    {
     "data": {
      "text/html": [
       "<div>\n",
       "<style scoped>\n",
       "    .dataframe tbody tr th:only-of-type {\n",
       "        vertical-align: middle;\n",
       "    }\n",
       "\n",
       "    .dataframe tbody tr th {\n",
       "        vertical-align: top;\n",
       "    }\n",
       "\n",
       "    .dataframe thead th {\n",
       "        text-align: right;\n",
       "    }\n",
       "</style>\n",
       "<table border=\"1\" class=\"dataframe\">\n",
       "  <thead>\n",
       "    <tr style=\"text-align: right;\">\n",
       "      <th></th>\n",
       "      <th>首次投资时间</th>\n",
       "      <th>最近一次投资时间</th>\n",
       "      <th>总计投资总金额</th>\n",
       "      <th>总计投标总次数</th>\n",
       "    </tr>\n",
       "  </thead>\n",
       "  <tbody>\n",
       "    <tr>\n",
       "      <th>count</th>\n",
       "      <td>200</td>\n",
       "      <td>200</td>\n",
       "      <td>200.000000</td>\n",
       "      <td>200.00000</td>\n",
       "    </tr>\n",
       "    <tr>\n",
       "      <th>unique</th>\n",
       "      <td>24</td>\n",
       "      <td>38</td>\n",
       "      <td>NaN</td>\n",
       "      <td>NaN</td>\n",
       "    </tr>\n",
       "    <tr>\n",
       "      <th>top</th>\n",
       "      <td>2016-06-22 00:00:00</td>\n",
       "      <td>2016-06-25 00:00:00</td>\n",
       "      <td>NaN</td>\n",
       "      <td>NaN</td>\n",
       "    </tr>\n",
       "    <tr>\n",
       "      <th>freq</th>\n",
       "      <td>20</td>\n",
       "      <td>25</td>\n",
       "      <td>NaN</td>\n",
       "      <td>NaN</td>\n",
       "    </tr>\n",
       "    <tr>\n",
       "      <th>first</th>\n",
       "      <td>2016-06-06 00:00:00</td>\n",
       "      <td>2016-06-06 00:00:00</td>\n",
       "      <td>NaN</td>\n",
       "      <td>NaN</td>\n",
       "    </tr>\n",
       "    <tr>\n",
       "      <th>last</th>\n",
       "      <td>2016-06-29 00:00:00</td>\n",
       "      <td>2016-07-18 00:00:00</td>\n",
       "      <td>NaN</td>\n",
       "      <td>NaN</td>\n",
       "    </tr>\n",
       "    <tr>\n",
       "      <th>mean</th>\n",
       "      <td>NaN</td>\n",
       "      <td>NaN</td>\n",
       "      <td>47223.409500</td>\n",
       "      <td>5.92000</td>\n",
       "    </tr>\n",
       "    <tr>\n",
       "      <th>std</th>\n",
       "      <td>NaN</td>\n",
       "      <td>NaN</td>\n",
       "      <td>43381.496372</td>\n",
       "      <td>4.84883</td>\n",
       "    </tr>\n",
       "    <tr>\n",
       "      <th>min</th>\n",
       "      <td>NaN</td>\n",
       "      <td>NaN</td>\n",
       "      <td>10100.000000</td>\n",
       "      <td>2.00000</td>\n",
       "    </tr>\n",
       "    <tr>\n",
       "      <th>25%</th>\n",
       "      <td>NaN</td>\n",
       "      <td>NaN</td>\n",
       "      <td>20000.000000</td>\n",
       "      <td>3.00000</td>\n",
       "    </tr>\n",
       "    <tr>\n",
       "      <th>50%</th>\n",
       "      <td>NaN</td>\n",
       "      <td>NaN</td>\n",
       "      <td>30000.000000</td>\n",
       "      <td>4.00000</td>\n",
       "    </tr>\n",
       "    <tr>\n",
       "      <th>75%</th>\n",
       "      <td>NaN</td>\n",
       "      <td>NaN</td>\n",
       "      <td>58000.000000</td>\n",
       "      <td>6.00000</td>\n",
       "    </tr>\n",
       "    <tr>\n",
       "      <th>max</th>\n",
       "      <td>NaN</td>\n",
       "      <td>NaN</td>\n",
       "      <td>250000.000000</td>\n",
       "      <td>34.00000</td>\n",
       "    </tr>\n",
       "  </tbody>\n",
       "</table>\n",
       "</div>"
      ],
      "text/plain": [
       "                     首次投资时间             最近一次投资时间        总计投资总金额    总计投标总次数\n",
       "count                   200                  200     200.000000  200.00000\n",
       "unique                   24                   38            NaN        NaN\n",
       "top     2016-06-22 00:00:00  2016-06-25 00:00:00            NaN        NaN\n",
       "freq                     20                   25            NaN        NaN\n",
       "first   2016-06-06 00:00:00  2016-06-06 00:00:00            NaN        NaN\n",
       "last    2016-06-29 00:00:00  2016-07-18 00:00:00            NaN        NaN\n",
       "mean                    NaN                  NaN   47223.409500    5.92000\n",
       "std                     NaN                  NaN   43381.496372    4.84883\n",
       "min                     NaN                  NaN   10100.000000    2.00000\n",
       "25%                     NaN                  NaN   20000.000000    3.00000\n",
       "50%                     NaN                  NaN   30000.000000    4.00000\n",
       "75%                     NaN                  NaN   58000.000000    6.00000\n",
       "max                     NaN                  NaN  250000.000000   34.00000"
      ]
     },
     "execution_count": 7,
     "metadata": {},
     "output_type": "execute_result"
    }
   ],
   "source": [
    "data.describe(include=\"all\")# 不加all会只统计数值型的指标统计。"
   ]
  },
  {
   "cell_type": "code",
   "execution_count": 8,
   "metadata": {},
   "outputs": [
    {
     "name": "stdout",
     "output_type": "stream",
     "text": [
      "2016-07-20 00:00:00\n"
     ]
    }
   ],
   "source": [
    "# 提数日。2016/7/20\n",
    "from datetime import datetime\n",
    "exdata_date=datetime(2016,7,20)\n",
    "print(exdata_date)"
   ]
  },
  {
   "cell_type": "code",
   "execution_count": 49,
   "metadata": {},
   "outputs": [
    {
     "data": {
      "text/plain": [
       "Timestamp('2016-06-26 00:00:00')"
      ]
     },
     "execution_count": 49,
     "metadata": {},
     "output_type": "execute_result"
    }
   ],
   "source": [
    "data['最近一次投资时间'][0]"
   ]
  },
  {
   "cell_type": "code",
   "execution_count": 51,
   "metadata": {},
   "outputs": [
    {
     "data": {
      "text/plain": [
       "pandas._libs.tslibs.timestamps.Timestamp"
      ]
     },
     "execution_count": 51,
     "metadata": {},
     "output_type": "execute_result"
    }
   ],
   "source": [
    "type(data['最近一次投资时间'][0])"
   ]
  },
  {
   "cell_type": "code",
   "execution_count": 57,
   "metadata": {},
   "outputs": [
    {
     "data": {
      "text/plain": [
       "26"
      ]
     },
     "execution_count": 57,
     "metadata": {},
     "output_type": "execute_result"
    }
   ],
   "source": [
    "data['最近一次投资时间'][0].day"
   ]
  },
  {
   "cell_type": "code",
   "execution_count": 53,
   "metadata": {},
   "outputs": [
    {
     "data": {
      "text/plain": [
       "Timedelta('24 days 00:00:00')"
      ]
     },
     "execution_count": 53,
     "metadata": {},
     "output_type": "execute_result"
    }
   ],
   "source": [
    "exdata_date-data['最近一次投资时间'][0]"
   ]
  },
  {
   "cell_type": "code",
   "execution_count": 54,
   "metadata": {},
   "outputs": [
    {
     "data": {
      "text/plain": [
       "pandas._libs.tslibs.timedeltas.Timedelta"
      ]
     },
     "execution_count": 54,
     "metadata": {},
     "output_type": "execute_result"
    }
   ],
   "source": [
    "type(exdata_date-data['最近一次投资时间'][0])"
   ]
  },
  {
   "cell_type": "code",
   "execution_count": 59,
   "metadata": {},
   "outputs": [
    {
     "data": {
      "text/plain": [
       "24"
      ]
     },
     "execution_count": 59,
     "metadata": {},
     "output_type": "execute_result"
    }
   ],
   "source": [
    "(exdata_date-data['最近一次投资时间'][0]).days"
   ]
  },
  {
   "cell_type": "code",
   "execution_count": 65,
   "metadata": {},
   "outputs": [
    {
     "name": "stdout",
     "output_type": "stream",
     "text": [
      "用户编码\n",
      "45B3CCE7-957B-4D54-9626-6D62731D119B   24 days\n",
      "9921C535-75FC-4695-8551-32B8D717B4A5   24 days\n",
      "2F00D4E3-CC7D-4DB1-B210-6F095156C5B8   31 days\n",
      "150218D8-BF32-406D-A3A8-8A19CB1E85AA   34 days\n",
      "98C26D4A-708F-4334-B3D7-EDAE9FD240C8   23 days\n",
      "18D45BC4-1A97-4ADD-9D0F-66DA8C145A0B   28 days\n",
      "E5CC2DD2-8FA5-419F-91B3-AB9CE7B328DA   39 days\n",
      "5F4FD0DC-48D1-49BC-B3CC-CCC05CF0C3C3   22 days\n",
      "2D946CBC-13CE-4E6E-895D-066323B9B8EF   38 days\n",
      "E4E608DE-8188-48A7-A2A0-FCD07333F0D6   25 days\n",
      "018B3167-5DF4-424B-8A6F-D2B1E4AD5DFE   21 days\n",
      "A26BCDD2-1644-471D-964A-F2F3B961FBEC   21 days\n",
      "B3F426C5-5D43-4AFF-B3D4-DD4DEA91F652   27 days\n",
      "BD2A888B-4670-4802-89ED-76897EF8B282   28 days\n",
      "0FB27554-23D4-4020-8274-A7ADD47D5FE0   23 days\n",
      "A9CE5B32-9507-4CFB-916A-9BD0C20FC931   32 days\n",
      "F829EF86-9639-42D0-99CF-565CBCA855AD   38 days\n",
      "6121AF2F-3BD4-4A21-881C-9723E250A5BE   21 days\n",
      "5D8AD327-9060-488A-8B98-9544282D8776   25 days\n",
      "1EFAA3C0-9D81-4568-B6F1-583156B9BFA6   24 days\n",
      "3BBAD8FD-F8C4-4868-B562-F701360B0606   35 days\n",
      "886A7B2A-BDD7-4008-B5D0-524C3B5F9D59   25 days\n",
      "D50C580E-B3DE-486C-8B96-DEC34DF57A1B   32 days\n",
      "74E86912-D781-4955-B158-1C0DACB13512   24 days\n",
      "30C1C7FC-2DFB-4885-B332-385DE930CFF7    2 days\n",
      "533A79F3-DD3F-44C3-A72A-FFAA14F32FBB    6 days\n",
      "DC1E18E3-8A74-4998-97CF-94B19386B43B   32 days\n",
      "0E773B8D-609E-470E-8669-898BF1B8A480    9 days\n",
      "75CCB833-356D-4248-B285-96E935F50991   44 days\n",
      "770E2D36-9C92-48A4-98B8-3BFEAA2AF567   30 days\n",
      "                                         ...  \n",
      "8EC97FDA-0479-418C-88F7-3967482A9F5E   21 days\n",
      "7E0449AC-C11E-42BE-ADA2-E02229A237B3   20 days\n",
      "6D6F53D2-9F38-4A77-B373-4CB580942885   32 days\n",
      "6EA81211-CBA0-451A-A579-167492928706   22 days\n",
      "3D046A9F-CA77-430B-B234-81B734FB060D    2 days\n",
      "281423A0-9505-4045-AA9F-B6D2BD0ACA03   25 days\n",
      "3ACDB359-302E-4E5F-9DE3-84EFE5900BCB    8 days\n",
      "3E3A7FFA-C8E7-4CA8-A6E3-65FE57B24C26   22 days\n",
      "2F252A7F-9107-4CF8-94EB-E080EC396D97    8 days\n",
      "3657D754-9D97-4EA2-B071-8ADFAB953555   24 days\n",
      "63B17151-45CB-4AF1-B260-7291C59BB707   31 days\n",
      "105B6373-18E1-419A-9999-98C1C035019B   15 days\n",
      "110BDD90-3775-4231-B48F-B3171FD8575D   21 days\n",
      "1244682D-C3C2-4522-9938-E1FEE72DBC97   25 days\n",
      "208C6743-558D-40EF-9358-283D88432169   18 days\n",
      "8FEC8427-FBF4-4E0D-B83D-B1AEF20A663A   20 days\n",
      "96B518DE-E0E8-4E04-9E46-EBD5E6D20CC3   25 days\n",
      "90CD2A28-065E-477C-83AB-26CA30F2709F   25 days\n",
      "9323DB59-0CED-4609-ACD4-6B4F262F13CD   18 days\n",
      "F1FC6CF9-1FBF-4E00-A711-99C131413AE7   32 days\n",
      "C99CAA9F-882B-409F-AE0B-80D87232BB79   17 days\n",
      "C21ECD74-443E-4826-A383-219DE596E084   30 days\n",
      "1E85B7E6-FBEE-4EB6-AB7A-8591C205C12A   28 days\n",
      "F97987A1-3392-437A-8905-54D02BD52D6A   34 days\n",
      "10D6B497-9883-49C8-97FE-C6E45C025B26   18 days\n",
      "0E0C4268-2198-4622-A9CB-7DD3BA225291   21 days\n",
      "203113AE-B955-45DE-BC25-7937275D6B20    9 days\n",
      "20323E1A-3DC7-4DC2-B269-AC08005E8B6F   14 days\n",
      "2079FE0B-ECFE-4F6D-A685-E35A33E967AA   30 days\n",
      "17070DDD-17CA-4B6F-B549-091026F359FB   24 days\n",
      "Name: 最近一次投资时间, Length: 200, dtype: timedelta64[ns]\n"
     ]
    }
   ],
   "source": [
    "# diff_R最后一次投资时间距提数日天数\n",
    "diff_R=exdata_date-data['最近一次投资时间']\n",
    "\n",
    "# Timedelta('24 days 00:00:00')\n",
    "print(diff_R)"
   ]
  },
  {
   "cell_type": "code",
   "execution_count": 66,
   "metadata": {},
   "outputs": [
    {
     "data": {
      "text/plain": [
       "Timedelta('24 days 00:00:00')"
      ]
     },
     "execution_count": 66,
     "metadata": {},
     "output_type": "execute_result"
    }
   ],
   "source": [
    "diff_R[0]"
   ]
  },
  {
   "cell_type": "code",
   "execution_count": 67,
   "metadata": {},
   "outputs": [
    {
     "data": {
      "text/plain": [
       "24"
      ]
     },
     "execution_count": 67,
     "metadata": {},
     "output_type": "execute_result"
    }
   ],
   "source": [
    "diff_R[0].days"
   ]
  },
  {
   "cell_type": "code",
   "execution_count": 68,
   "metadata": {},
   "outputs": [
    {
     "data": {
      "text/plain": [
       "pandas.core.series.Series"
      ]
     },
     "execution_count": 68,
     "metadata": {},
     "output_type": "execute_result"
    }
   ],
   "source": [
    "type(diff_R)"
   ]
  },
  {
   "cell_type": "code",
   "execution_count": 70,
   "metadata": {},
   "outputs": [
    {
     "data": {
      "text/plain": [
       "pandas._libs.tslibs.timedeltas.Timedelta"
      ]
     },
     "execution_count": 70,
     "metadata": {},
     "output_type": "execute_result"
    }
   ],
   "source": [
    "type(diff_R[0])"
   ]
  },
  {
   "cell_type": "code",
   "execution_count": 71,
   "metadata": {},
   "outputs": [
    {
     "data": {
      "text/plain": [
       "int"
      ]
     },
     "execution_count": 71,
     "metadata": {},
     "output_type": "execute_result"
    }
   ],
   "source": [
    "type(diff_R[0].days)"
   ]
  },
  {
   "cell_type": "code",
   "execution_count": 72,
   "metadata": {},
   "outputs": [
    {
     "data": {
      "text/plain": [
       "24"
      ]
     },
     "execution_count": 72,
     "metadata": {},
     "output_type": "execute_result"
    }
   ],
   "source": [
    "diff_R[0].days"
   ]
  },
  {
   "cell_type": "code",
   "execution_count": 74,
   "metadata": {},
   "outputs": [
    {
     "name": "stdout",
     "output_type": "stream",
     "text": [
      "[24, 24, 31, 34, 23, 28, 39, 22, 38, 25]\n"
     ]
    }
   ],
   "source": [
    "R=[]\n",
    "for i in diff_R:\n",
    "    R.append(i.days)\n",
    "\n",
    "print(R[:10])"
   ]
  },
  {
   "cell_type": "code",
   "execution_count": 75,
   "metadata": {},
   "outputs": [
    {
     "data": {
      "text/plain": [
       "用户编码\n",
       "45B3CCE7-957B-4D54-9626-6D62731D119B   25 days\n",
       "9921C535-75FC-4695-8551-32B8D717B4A5   24 days\n",
       "2F00D4E3-CC7D-4DB1-B210-6F095156C5B8   37 days\n",
       "150218D8-BF32-406D-A3A8-8A19CB1E85AA   34 days\n",
       "98C26D4A-708F-4334-B3D7-EDAE9FD240C8   23 days\n",
       "Name: 首次投资时间, dtype: timedelta64[ns]"
      ]
     },
     "execution_count": 75,
     "metadata": {},
     "output_type": "execute_result"
    }
   ],
   "source": [
    "\"\"\"\n",
    "用户在投时长（月）\n",
    "python没有获取月份差的函数，excel中有（datedif）\n",
    "1，用户在投时长（天）diff_days\n",
    "2，月=天/30，向上取整diff_months\n",
    "\"\"\"\n",
    "diff=exdata_date-data['首次投资时间']\n",
    "diff.head()"
   ]
  },
  {
   "cell_type": "code",
   "execution_count": 76,
   "metadata": {},
   "outputs": [
    {
     "data": {
      "text/plain": [
       "25"
      ]
     },
     "execution_count": 76,
     "metadata": {},
     "output_type": "execute_result"
    }
   ],
   "source": [
    "diff[0].days"
   ]
  },
  {
   "cell_type": "code",
   "execution_count": 77,
   "metadata": {},
   "outputs": [
    {
     "data": {
      "text/plain": [
       "0.8333333333333334"
      ]
     },
     "execution_count": 77,
     "metadata": {},
     "output_type": "execute_result"
    }
   ],
   "source": [
    "diff[0].days/30"
   ]
  },
  {
   "cell_type": "code",
   "execution_count": 78,
   "metadata": {},
   "outputs": [
    {
     "data": {
      "text/plain": [
       "1"
      ]
     },
     "execution_count": 78,
     "metadata": {},
     "output_type": "execute_result"
    }
   ],
   "source": [
    "from math import ceil\n",
    "ceil(diff[0].days/30)"
   ]
  },
  {
   "cell_type": "code",
   "execution_count": 79,
   "metadata": {},
   "outputs": [
    {
     "name": "stdout",
     "output_type": "stream",
     "text": [
      "[25, 24, 37, 34, 23, 28, 41, 22, 38, 25]\n"
     ]
    }
   ],
   "source": [
    "# 通过循环来获取相差天数，用户在投时长（天）\n",
    "diff_days=[]\n",
    "for i in diff:\n",
    "    diff_days.append(i.days)\n",
    "print(diff_days[:10])"
   ]
  },
  {
   "cell_type": "code",
   "execution_count": 80,
   "metadata": {},
   "outputs": [
    {
     "name": "stdout",
     "output_type": "stream",
     "text": [
      "[1, 1, 2, 2, 1, 1, 2, 1, 2, 1, 1, 1, 1, 1, 1, 2, 2, 1, 1, 1, 2, 2, 2, 1, 2, 2, 2, 2, 2, 2]\n"
     ]
    }
   ],
   "source": [
    "# 通过循环向上取整，得到用户在投时长（月）\n",
    "diff_months=[]\n",
    "for i in diff_days:\n",
    "    diff_months.append(ceil(i/30))\n",
    "print(diff_months[:30])"
   ]
  },
  {
   "cell_type": "code",
   "execution_count": 81,
   "metadata": {},
   "outputs": [
    {
     "name": "stdout",
     "output_type": "stream",
     "text": [
      "<class 'pandas.core.series.Series'>\n"
     ]
    },
    {
     "data": {
      "text/plain": [
       "array([3. , 3. , 2. , 1.5, 3. , 3. , 1.5, 3. , 1. , 3. ])"
      ]
     },
     "execution_count": 81,
     "metadata": {},
     "output_type": "execute_result"
    }
   ],
   "source": [
    "# 计算F（月均投资次数）\n",
    "F=data['总计投标总次数']/diff_months\n",
    "print(type(F))\n",
    "F=F.values\n",
    "F[:10]"
   ]
  },
  {
   "cell_type": "code",
   "execution_count": 83,
   "metadata": {},
   "outputs": [
    {
     "data": {
      "text/plain": [
       "array([ 20000.,  50000.,  54000.,  15000., 100000.,  15000.,  10000.,\n",
       "        16000.,   7500.,  20000.])"
      ]
     },
     "execution_count": 83,
     "metadata": {},
     "output_type": "execute_result"
    }
   ],
   "source": [
    "# 计算M（月均投资金额）\n",
    "M=(data['总计投资总金额']/diff_months).values\n",
    "M[:10]"
   ]
  },
  {
   "cell_type": "code",
   "execution_count": 84,
   "metadata": {},
   "outputs": [
    {
     "data": {
      "text/html": [
       "<div>\n",
       "<style scoped>\n",
       "    .dataframe tbody tr th:only-of-type {\n",
       "        vertical-align: middle;\n",
       "    }\n",
       "\n",
       "    .dataframe tbody tr th {\n",
       "        vertical-align: top;\n",
       "    }\n",
       "\n",
       "    .dataframe thead th {\n",
       "        text-align: right;\n",
       "    }\n",
       "</style>\n",
       "<table border=\"1\" class=\"dataframe\">\n",
       "  <thead>\n",
       "    <tr style=\"text-align: right;\">\n",
       "      <th></th>\n",
       "      <th>0</th>\n",
       "      <th>1</th>\n",
       "      <th>2</th>\n",
       "      <th>3</th>\n",
       "      <th>4</th>\n",
       "      <th>5</th>\n",
       "      <th>6</th>\n",
       "      <th>7</th>\n",
       "      <th>8</th>\n",
       "      <th>9</th>\n",
       "      <th>...</th>\n",
       "      <th>190</th>\n",
       "      <th>191</th>\n",
       "      <th>192</th>\n",
       "      <th>193</th>\n",
       "      <th>194</th>\n",
       "      <th>195</th>\n",
       "      <th>196</th>\n",
       "      <th>197</th>\n",
       "      <th>198</th>\n",
       "      <th>199</th>\n",
       "    </tr>\n",
       "  </thead>\n",
       "  <tbody>\n",
       "    <tr>\n",
       "      <th>0</th>\n",
       "      <td>24.0</td>\n",
       "      <td>24.0</td>\n",
       "      <td>31.0</td>\n",
       "      <td>34.0</td>\n",
       "      <td>23.0</td>\n",
       "      <td>28.0</td>\n",
       "      <td>39.0</td>\n",
       "      <td>22.0</td>\n",
       "      <td>38.0</td>\n",
       "      <td>25.0</td>\n",
       "      <td>...</td>\n",
       "      <td>17.0</td>\n",
       "      <td>30.00</td>\n",
       "      <td>28.0</td>\n",
       "      <td>34.0</td>\n",
       "      <td>18.0</td>\n",
       "      <td>21.0</td>\n",
       "      <td>9.0</td>\n",
       "      <td>14.0</td>\n",
       "      <td>30.0</td>\n",
       "      <td>24.0</td>\n",
       "    </tr>\n",
       "    <tr>\n",
       "      <th>1</th>\n",
       "      <td>3.0</td>\n",
       "      <td>3.0</td>\n",
       "      <td>2.0</td>\n",
       "      <td>1.5</td>\n",
       "      <td>3.0</td>\n",
       "      <td>3.0</td>\n",
       "      <td>1.5</td>\n",
       "      <td>3.0</td>\n",
       "      <td>1.0</td>\n",
       "      <td>3.0</td>\n",
       "      <td>...</td>\n",
       "      <td>7.0</td>\n",
       "      <td>2.00</td>\n",
       "      <td>1.5</td>\n",
       "      <td>1.5</td>\n",
       "      <td>4.0</td>\n",
       "      <td>3.0</td>\n",
       "      <td>2.0</td>\n",
       "      <td>2.5</td>\n",
       "      <td>2.0</td>\n",
       "      <td>4.0</td>\n",
       "    </tr>\n",
       "    <tr>\n",
       "      <th>2</th>\n",
       "      <td>20000.0</td>\n",
       "      <td>50000.0</td>\n",
       "      <td>54000.0</td>\n",
       "      <td>15000.0</td>\n",
       "      <td>100000.0</td>\n",
       "      <td>15000.0</td>\n",
       "      <td>10000.0</td>\n",
       "      <td>16000.0</td>\n",
       "      <td>7500.0</td>\n",
       "      <td>20000.0</td>\n",
       "      <td>...</td>\n",
       "      <td>30000.0</td>\n",
       "      <td>25004.05</td>\n",
       "      <td>6500.0</td>\n",
       "      <td>21000.0</td>\n",
       "      <td>11550.0</td>\n",
       "      <td>15000.0</td>\n",
       "      <td>6500.0</td>\n",
       "      <td>6000.0</td>\n",
       "      <td>7800.0</td>\n",
       "      <td>31000.0</td>\n",
       "    </tr>\n",
       "  </tbody>\n",
       "</table>\n",
       "<p>3 rows × 200 columns</p>\n",
       "</div>"
      ],
      "text/plain": [
       "       0        1        2        3         4        5        6        7    \\\n",
       "0     24.0     24.0     31.0     34.0      23.0     28.0     39.0     22.0   \n",
       "1      3.0      3.0      2.0      1.5       3.0      3.0      1.5      3.0   \n",
       "2  20000.0  50000.0  54000.0  15000.0  100000.0  15000.0  10000.0  16000.0   \n",
       "\n",
       "      8        9    ...      190       191     192      193      194      195  \\\n",
       "0    38.0     25.0  ...     17.0     30.00    28.0     34.0     18.0     21.0   \n",
       "1     1.0      3.0  ...      7.0      2.00     1.5      1.5      4.0      3.0   \n",
       "2  7500.0  20000.0  ...  30000.0  25004.05  6500.0  21000.0  11550.0  15000.0   \n",
       "\n",
       "      196     197     198      199  \n",
       "0     9.0    14.0    30.0     24.0  \n",
       "1     2.0     2.5     2.0      4.0  \n",
       "2  6500.0  6000.0  7800.0  31000.0  \n",
       "\n",
       "[3 rows x 200 columns]"
      ]
     },
     "execution_count": 84,
     "metadata": {},
     "output_type": "execute_result"
    }
   ],
   "source": [
    "# 选取FRM三个指标作为聚类分析的指标\n",
    "from pandas import DataFrame\n",
    "cdata=DataFrame([R,list(F),list(M)])\n",
    "cdata.head()"
   ]
  },
  {
   "cell_type": "code",
   "execution_count": 85,
   "metadata": {},
   "outputs": [
    {
     "data": {
      "text/html": [
       "<div>\n",
       "<style scoped>\n",
       "    .dataframe tbody tr th:only-of-type {\n",
       "        vertical-align: middle;\n",
       "    }\n",
       "\n",
       "    .dataframe tbody tr th {\n",
       "        vertical-align: top;\n",
       "    }\n",
       "\n",
       "    .dataframe thead th {\n",
       "        text-align: right;\n",
       "    }\n",
       "</style>\n",
       "<table border=\"1\" class=\"dataframe\">\n",
       "  <thead>\n",
       "    <tr style=\"text-align: right;\">\n",
       "      <th></th>\n",
       "      <th>0</th>\n",
       "      <th>1</th>\n",
       "      <th>2</th>\n",
       "    </tr>\n",
       "  </thead>\n",
       "  <tbody>\n",
       "    <tr>\n",
       "      <th>0</th>\n",
       "      <td>24.0</td>\n",
       "      <td>3.0</td>\n",
       "      <td>20000.0</td>\n",
       "    </tr>\n",
       "    <tr>\n",
       "      <th>1</th>\n",
       "      <td>24.0</td>\n",
       "      <td>3.0</td>\n",
       "      <td>50000.0</td>\n",
       "    </tr>\n",
       "    <tr>\n",
       "      <th>2</th>\n",
       "      <td>31.0</td>\n",
       "      <td>2.0</td>\n",
       "      <td>54000.0</td>\n",
       "    </tr>\n",
       "    <tr>\n",
       "      <th>3</th>\n",
       "      <td>34.0</td>\n",
       "      <td>1.5</td>\n",
       "      <td>15000.0</td>\n",
       "    </tr>\n",
       "    <tr>\n",
       "      <th>4</th>\n",
       "      <td>23.0</td>\n",
       "      <td>3.0</td>\n",
       "      <td>100000.0</td>\n",
       "    </tr>\n",
       "  </tbody>\n",
       "</table>\n",
       "</div>"
      ],
      "text/plain": [
       "      0    1         2\n",
       "0  24.0  3.0   20000.0\n",
       "1  24.0  3.0   50000.0\n",
       "2  31.0  2.0   54000.0\n",
       "3  34.0  1.5   15000.0\n",
       "4  23.0  3.0  100000.0"
      ]
     },
     "execution_count": 85,
     "metadata": {},
     "output_type": "execute_result"
    }
   ],
   "source": [
    "# 选取FRM三个指标作为聚类分析的指标\n",
    "from pandas import DataFrame\n",
    "cdata=DataFrame([R,list(F),list(M)]).T\n",
    "cdata.head()"
   ]
  },
  {
   "cell_type": "code",
   "execution_count": 86,
   "metadata": {},
   "outputs": [
    {
     "data": {
      "text/html": [
       "<div>\n",
       "<style scoped>\n",
       "    .dataframe tbody tr th:only-of-type {\n",
       "        vertical-align: middle;\n",
       "    }\n",
       "\n",
       "    .dataframe tbody tr th {\n",
       "        vertical-align: top;\n",
       "    }\n",
       "\n",
       "    .dataframe thead th {\n",
       "        text-align: right;\n",
       "    }\n",
       "</style>\n",
       "<table border=\"1\" class=\"dataframe\">\n",
       "  <thead>\n",
       "    <tr style=\"text-align: right;\">\n",
       "      <th></th>\n",
       "      <th>R最近一次投资时间距提数日的天数</th>\n",
       "      <th>F月均投资次数</th>\n",
       "      <th>M月均投资金额</th>\n",
       "    </tr>\n",
       "    <tr>\n",
       "      <th>用户编码</th>\n",
       "      <th></th>\n",
       "      <th></th>\n",
       "      <th></th>\n",
       "    </tr>\n",
       "  </thead>\n",
       "  <tbody>\n",
       "    <tr>\n",
       "      <th>45B3CCE7-957B-4D54-9626-6D62731D119B</th>\n",
       "      <td>24.0</td>\n",
       "      <td>3.0</td>\n",
       "      <td>20000.0</td>\n",
       "    </tr>\n",
       "    <tr>\n",
       "      <th>9921C535-75FC-4695-8551-32B8D717B4A5</th>\n",
       "      <td>24.0</td>\n",
       "      <td>3.0</td>\n",
       "      <td>50000.0</td>\n",
       "    </tr>\n",
       "    <tr>\n",
       "      <th>2F00D4E3-CC7D-4DB1-B210-6F095156C5B8</th>\n",
       "      <td>31.0</td>\n",
       "      <td>2.0</td>\n",
       "      <td>54000.0</td>\n",
       "    </tr>\n",
       "    <tr>\n",
       "      <th>150218D8-BF32-406D-A3A8-8A19CB1E85AA</th>\n",
       "      <td>34.0</td>\n",
       "      <td>1.5</td>\n",
       "      <td>15000.0</td>\n",
       "    </tr>\n",
       "    <tr>\n",
       "      <th>98C26D4A-708F-4334-B3D7-EDAE9FD240C8</th>\n",
       "      <td>23.0</td>\n",
       "      <td>3.0</td>\n",
       "      <td>100000.0</td>\n",
       "    </tr>\n",
       "  </tbody>\n",
       "</table>\n",
       "</div>"
      ],
      "text/plain": [
       "                                      R最近一次投资时间距提数日的天数  F月均投资次数   M月均投资金额\n",
       "用户编码                                                                     \n",
       "45B3CCE7-957B-4D54-9626-6D62731D119B              24.0      3.0   20000.0\n",
       "9921C535-75FC-4695-8551-32B8D717B4A5              24.0      3.0   50000.0\n",
       "2F00D4E3-CC7D-4DB1-B210-6F095156C5B8              31.0      2.0   54000.0\n",
       "150218D8-BF32-406D-A3A8-8A19CB1E85AA              34.0      1.5   15000.0\n",
       "98C26D4A-708F-4334-B3D7-EDAE9FD240C8              23.0      3.0  100000.0"
      ]
     },
     "execution_count": 86,
     "metadata": {},
     "output_type": "execute_result"
    }
   ],
   "source": [
    "# 指定cdata的index,columns\n",
    "cdata.index=data.index\n",
    "cdata.columns=[\"R最近一次投资时间距提数日的天数\",\"F月均投资次数\",\"M月均投资金额\"]\n",
    "cdata.head()"
   ]
  },
  {
   "cell_type": "markdown",
   "metadata": {},
   "source": [
    "## K—Means聚类分析"
   ]
  },
  {
   "cell_type": "code",
   "execution_count": 87,
   "metadata": {},
   "outputs": [
    {
     "data": {
      "text/plain": [
       "R最近一次投资时间距提数日的天数       22.66500\n",
       "F月均投资次数                 4.24250\n",
       "M月均投资金额             35821.24175\n",
       "dtype: float64"
      ]
     },
     "execution_count": 87,
     "metadata": {},
     "output_type": "execute_result"
    }
   ],
   "source": [
    "cdata.mean()"
   ]
  },
  {
   "cell_type": "code",
   "execution_count": 88,
   "metadata": {},
   "outputs": [
    {
     "data": {
      "text/html": [
       "<div>\n",
       "<style scoped>\n",
       "    .dataframe tbody tr th:only-of-type {\n",
       "        vertical-align: middle;\n",
       "    }\n",
       "\n",
       "    .dataframe tbody tr th {\n",
       "        vertical-align: top;\n",
       "    }\n",
       "\n",
       "    .dataframe thead th {\n",
       "        text-align: right;\n",
       "    }\n",
       "</style>\n",
       "<table border=\"1\" class=\"dataframe\">\n",
       "  <thead>\n",
       "    <tr style=\"text-align: right;\">\n",
       "      <th></th>\n",
       "      <th>R最近一次投资时间距提数日的天数</th>\n",
       "      <th>F月均投资次数</th>\n",
       "      <th>M月均投资金额</th>\n",
       "    </tr>\n",
       "    <tr>\n",
       "      <th>用户编码</th>\n",
       "      <th></th>\n",
       "      <th></th>\n",
       "      <th></th>\n",
       "    </tr>\n",
       "  </thead>\n",
       "  <tbody>\n",
       "    <tr>\n",
       "      <th>45B3CCE7-957B-4D54-9626-6D62731D119B</th>\n",
       "      <td>0.140422</td>\n",
       "      <td>-0.353751</td>\n",
       "      <td>-0.392133</td>\n",
       "    </tr>\n",
       "    <tr>\n",
       "      <th>9921C535-75FC-4695-8551-32B8D717B4A5</th>\n",
       "      <td>0.140422</td>\n",
       "      <td>-0.353751</td>\n",
       "      <td>0.351423</td>\n",
       "    </tr>\n",
       "    <tr>\n",
       "      <th>2F00D4E3-CC7D-4DB1-B210-6F095156C5B8</th>\n",
       "      <td>0.876714</td>\n",
       "      <td>-0.638461</td>\n",
       "      <td>0.450564</td>\n",
       "    </tr>\n",
       "    <tr>\n",
       "      <th>150218D8-BF32-406D-A3A8-8A19CB1E85AA</th>\n",
       "      <td>1.192268</td>\n",
       "      <td>-0.780815</td>\n",
       "      <td>-0.516059</td>\n",
       "    </tr>\n",
       "    <tr>\n",
       "      <th>98C26D4A-708F-4334-B3D7-EDAE9FD240C8</th>\n",
       "      <td>0.035237</td>\n",
       "      <td>-0.353751</td>\n",
       "      <td>1.590683</td>\n",
       "    </tr>\n",
       "  </tbody>\n",
       "</table>\n",
       "</div>"
      ],
      "text/plain": [
       "                                      R最近一次投资时间距提数日的天数   F月均投资次数   M月均投资金额\n",
       "用户编码                                                                      \n",
       "45B3CCE7-957B-4D54-9626-6D62731D119B          0.140422 -0.353751 -0.392133\n",
       "9921C535-75FC-4695-8551-32B8D717B4A5          0.140422 -0.353751  0.351423\n",
       "2F00D4E3-CC7D-4DB1-B210-6F095156C5B8          0.876714 -0.638461  0.450564\n",
       "150218D8-BF32-406D-A3A8-8A19CB1E85AA          1.192268 -0.780815 -0.516059\n",
       "98C26D4A-708F-4334-B3D7-EDAE9FD240C8          0.035237 -0.353751  1.590683"
      ]
     },
     "execution_count": 88,
     "metadata": {},
     "output_type": "execute_result"
    }
   ],
   "source": [
    "# 数据标准化\n",
    "zcdata=(cdata-cdata.mean())/cdata.std()\n",
    "zcdata.head()"
   ]
  },
  {
   "cell_type": "code",
   "execution_count": 95,
   "metadata": {},
   "outputs": [
    {
     "data": {
      "text/plain": [
       "array([0, 0, 0, 0, 1, 0, 0, 0, 0, 0, 0, 0, 0, 0, 0, 0, 0, 0, 0, 1, 0, 0,\n",
       "       0, 0, 2, 2, 0, 1, 0, 0, 0, 0, 0, 0, 0, 0, 0, 2, 0, 0, 0, 2, 0, 0,\n",
       "       0, 0, 1, 2, 0, 0, 0, 0, 2, 0, 0, 0, 0, 1, 0, 3, 0, 0, 0, 0, 0, 3,\n",
       "       0, 0, 0, 0, 0, 0, 0, 0, 0, 3, 2, 0, 2, 0, 1, 0, 2, 0, 0, 2, 3, 2,\n",
       "       2, 2, 2, 0, 1, 0, 2, 0, 2, 2, 2, 0, 1, 0, 3, 1, 0, 2, 2, 0, 0, 0,\n",
       "       2, 0, 0, 0, 2, 2, 3, 2, 2, 3, 0, 0, 0, 0, 0, 0, 0, 1, 1, 0, 0, 0,\n",
       "       3, 1, 0, 0, 0, 0, 1, 0, 0, 0, 0, 2, 2, 2, 2, 0, 0, 0, 1, 0, 2, 0,\n",
       "       3, 2, 2, 0, 0, 0, 2, 1, 0, 0, 0, 1, 0, 0, 2, 2, 0, 0, 0, 1, 2, 1,\n",
       "       2, 0, 2, 0, 0, 1, 2, 0, 2, 0, 0, 0, 0, 0, 2, 0, 0, 0, 2, 0, 2, 2,\n",
       "       0, 0], dtype=int32)"
      ]
     },
     "execution_count": 95,
     "metadata": {},
     "output_type": "execute_result"
    }
   ],
   "source": [
    "# sklearn\n",
    "from sklearn.cluster import KMeans\n",
    "kmodel=KMeans(n_clusters=4,n_jobs=4,max_iter=100,random_state=0)\n",
    "kmodel.fit(zcdata)\n",
    "kmodel.labels_"
   ]
  },
  {
   "cell_type": "code",
   "execution_count": 96,
   "metadata": {},
   "outputs": [
    {
     "name": "stdout",
     "output_type": "stream",
     "text": [
      "<class 'numpy.ndarray'>\n"
     ]
    }
   ],
   "source": [
    "print(type(kmodel.labels_))"
   ]
  },
  {
   "cell_type": "code",
   "execution_count": 97,
   "metadata": {},
   "outputs": [
    {
     "data": {
      "text/plain": [
       "0    128\n",
       "2     44\n",
       "1     19\n",
       "3      9\n",
       "dtype: int64"
      ]
     },
     "execution_count": 97,
     "metadata": {},
     "output_type": "execute_result"
    }
   ],
   "source": [
    "# 统计每个类别的频率\n",
    "from pandas import Series\n",
    "Series(kmodel.labels_).value_counts()"
   ]
  },
  {
   "cell_type": "code",
   "execution_count": 98,
   "metadata": {},
   "outputs": [
    {
     "data": {
      "text/html": [
       "<div>\n",
       "<style scoped>\n",
       "    .dataframe tbody tr th:only-of-type {\n",
       "        vertical-align: middle;\n",
       "    }\n",
       "\n",
       "    .dataframe tbody tr th {\n",
       "        vertical-align: top;\n",
       "    }\n",
       "\n",
       "    .dataframe thead th {\n",
       "        text-align: right;\n",
       "    }\n",
       "</style>\n",
       "<table border=\"1\" class=\"dataframe\">\n",
       "  <thead>\n",
       "    <tr style=\"text-align: right;\">\n",
       "      <th></th>\n",
       "      <th>R最近一次投资时间距提数日的天数</th>\n",
       "      <th>F月均投资次数</th>\n",
       "      <th>M月均投资金额</th>\n",
       "      <th>0</th>\n",
       "    </tr>\n",
       "    <tr>\n",
       "      <th>用户编码</th>\n",
       "      <th></th>\n",
       "      <th></th>\n",
       "      <th></th>\n",
       "      <th></th>\n",
       "    </tr>\n",
       "  </thead>\n",
       "  <tbody>\n",
       "    <tr>\n",
       "      <th>45B3CCE7-957B-4D54-9626-6D62731D119B</th>\n",
       "      <td>24.0</td>\n",
       "      <td>3.0</td>\n",
       "      <td>20000.0</td>\n",
       "      <td>0</td>\n",
       "    </tr>\n",
       "    <tr>\n",
       "      <th>9921C535-75FC-4695-8551-32B8D717B4A5</th>\n",
       "      <td>24.0</td>\n",
       "      <td>3.0</td>\n",
       "      <td>50000.0</td>\n",
       "      <td>0</td>\n",
       "    </tr>\n",
       "    <tr>\n",
       "      <th>2F00D4E3-CC7D-4DB1-B210-6F095156C5B8</th>\n",
       "      <td>31.0</td>\n",
       "      <td>2.0</td>\n",
       "      <td>54000.0</td>\n",
       "      <td>0</td>\n",
       "    </tr>\n",
       "    <tr>\n",
       "      <th>150218D8-BF32-406D-A3A8-8A19CB1E85AA</th>\n",
       "      <td>34.0</td>\n",
       "      <td>1.5</td>\n",
       "      <td>15000.0</td>\n",
       "      <td>0</td>\n",
       "    </tr>\n",
       "    <tr>\n",
       "      <th>98C26D4A-708F-4334-B3D7-EDAE9FD240C8</th>\n",
       "      <td>23.0</td>\n",
       "      <td>3.0</td>\n",
       "      <td>100000.0</td>\n",
       "      <td>1</td>\n",
       "    </tr>\n",
       "  </tbody>\n",
       "</table>\n",
       "</div>"
      ],
      "text/plain": [
       "                                      R最近一次投资时间距提数日的天数  F月均投资次数   M月均投资金额  0\n",
       "用户编码                                                                        \n",
       "45B3CCE7-957B-4D54-9626-6D62731D119B              24.0      3.0   20000.0  0\n",
       "9921C535-75FC-4695-8551-32B8D717B4A5              24.0      3.0   50000.0  0\n",
       "2F00D4E3-CC7D-4DB1-B210-6F095156C5B8              31.0      2.0   54000.0  0\n",
       "150218D8-BF32-406D-A3A8-8A19CB1E85AA              34.0      1.5   15000.0  0\n",
       "98C26D4A-708F-4334-B3D7-EDAE9FD240C8              23.0      3.0  100000.0  1"
      ]
     },
     "execution_count": 98,
     "metadata": {},
     "output_type": "execute_result"
    }
   ],
   "source": [
    "# 将类别标签赋回原数据\n",
    "\n",
    "cdata_rst=pd.concat([cdata,Series(kmodel.labels_,index=cdata.index)],axis=1)\n",
    "cdata_rst.head()"
   ]
  },
  {
   "cell_type": "code",
   "execution_count": 101,
   "metadata": {},
   "outputs": [
    {
     "data": {
      "text/plain": [
       "['R最近一次投资时间距提数日的天数', 'F月均投资次数', 'M月均投资金额']"
      ]
     },
     "execution_count": 101,
     "metadata": {},
     "output_type": "execute_result"
    }
   ],
   "source": [
    "list(cdata.columns)"
   ]
  },
  {
   "cell_type": "code",
   "execution_count": 102,
   "metadata": {},
   "outputs": [
    {
     "data": {
      "text/html": [
       "<div>\n",
       "<style scoped>\n",
       "    .dataframe tbody tr th:only-of-type {\n",
       "        vertical-align: middle;\n",
       "    }\n",
       "\n",
       "    .dataframe tbody tr th {\n",
       "        vertical-align: top;\n",
       "    }\n",
       "\n",
       "    .dataframe thead th {\n",
       "        text-align: right;\n",
       "    }\n",
       "</style>\n",
       "<table border=\"1\" class=\"dataframe\">\n",
       "  <thead>\n",
       "    <tr style=\"text-align: right;\">\n",
       "      <th></th>\n",
       "      <th>R最近一次投资时间距提数日的天数</th>\n",
       "      <th>F月均投资次数</th>\n",
       "      <th>M月均投资金额</th>\n",
       "      <th>类别</th>\n",
       "    </tr>\n",
       "    <tr>\n",
       "      <th>用户编码</th>\n",
       "      <th></th>\n",
       "      <th></th>\n",
       "      <th></th>\n",
       "      <th></th>\n",
       "    </tr>\n",
       "  </thead>\n",
       "  <tbody>\n",
       "    <tr>\n",
       "      <th>45B3CCE7-957B-4D54-9626-6D62731D119B</th>\n",
       "      <td>24.0</td>\n",
       "      <td>3.0</td>\n",
       "      <td>20000.0</td>\n",
       "      <td>0</td>\n",
       "    </tr>\n",
       "    <tr>\n",
       "      <th>9921C535-75FC-4695-8551-32B8D717B4A5</th>\n",
       "      <td>24.0</td>\n",
       "      <td>3.0</td>\n",
       "      <td>50000.0</td>\n",
       "      <td>0</td>\n",
       "    </tr>\n",
       "    <tr>\n",
       "      <th>2F00D4E3-CC7D-4DB1-B210-6F095156C5B8</th>\n",
       "      <td>31.0</td>\n",
       "      <td>2.0</td>\n",
       "      <td>54000.0</td>\n",
       "      <td>0</td>\n",
       "    </tr>\n",
       "    <tr>\n",
       "      <th>150218D8-BF32-406D-A3A8-8A19CB1E85AA</th>\n",
       "      <td>34.0</td>\n",
       "      <td>1.5</td>\n",
       "      <td>15000.0</td>\n",
       "      <td>0</td>\n",
       "    </tr>\n",
       "    <tr>\n",
       "      <th>98C26D4A-708F-4334-B3D7-EDAE9FD240C8</th>\n",
       "      <td>23.0</td>\n",
       "      <td>3.0</td>\n",
       "      <td>100000.0</td>\n",
       "      <td>1</td>\n",
       "    </tr>\n",
       "  </tbody>\n",
       "</table>\n",
       "</div>"
      ],
      "text/plain": [
       "                                      R最近一次投资时间距提数日的天数  F月均投资次数   M月均投资金额  类别\n",
       "用户编码                                                                         \n",
       "45B3CCE7-957B-4D54-9626-6D62731D119B              24.0      3.0   20000.0   0\n",
       "9921C535-75FC-4695-8551-32B8D717B4A5              24.0      3.0   50000.0   0\n",
       "2F00D4E3-CC7D-4DB1-B210-6F095156C5B8              31.0      2.0   54000.0   0\n",
       "150218D8-BF32-406D-A3A8-8A19CB1E85AA              34.0      1.5   15000.0   0\n",
       "98C26D4A-708F-4334-B3D7-EDAE9FD240C8              23.0      3.0  100000.0   1"
      ]
     },
     "execution_count": 102,
     "metadata": {},
     "output_type": "execute_result"
    }
   ],
   "source": [
    "# 命名最后一列\n",
    "\n",
    "\n",
    "cdata_rst.columns=list(cdata.columns)+[\"类别\"]\n",
    "cdata_rst.head()"
   ]
  },
  {
   "cell_type": "code",
   "execution_count": 104,
   "metadata": {},
   "outputs": [
    {
     "data": {
      "text/plain": [
       "<pandas.core.groupby.generic.DataFrameGroupBy object at 0x7f00e9e5a160>"
      ]
     },
     "execution_count": 104,
     "metadata": {},
     "output_type": "execute_result"
    }
   ],
   "source": [
    "# 按照类别分组统计RFM指标的均值\n",
    "# groupby\n",
    "cdata_rst.groupby(cdata_rst['类别'])"
   ]
  },
  {
   "cell_type": "code",
   "execution_count": 106,
   "metadata": {},
   "outputs": [
    {
     "data": {
      "text/html": [
       "<div>\n",
       "<style scoped>\n",
       "    .dataframe tbody tr th:only-of-type {\n",
       "        vertical-align: middle;\n",
       "    }\n",
       "\n",
       "    .dataframe tbody tr th {\n",
       "        vertical-align: top;\n",
       "    }\n",
       "\n",
       "    .dataframe thead th {\n",
       "        text-align: right;\n",
       "    }\n",
       "</style>\n",
       "<table border=\"1\" class=\"dataframe\">\n",
       "  <thead>\n",
       "    <tr style=\"text-align: right;\">\n",
       "      <th></th>\n",
       "      <th>R最近一次投资时间距提数日的天数</th>\n",
       "      <th>F月均投资次数</th>\n",
       "      <th>M月均投资金额</th>\n",
       "    </tr>\n",
       "    <tr>\n",
       "      <th>类别</th>\n",
       "      <th></th>\n",
       "      <th></th>\n",
       "      <th></th>\n",
       "    </tr>\n",
       "  </thead>\n",
       "  <tbody>\n",
       "    <tr>\n",
       "      <th>0</th>\n",
       "      <td>27.859375</td>\n",
       "      <td>2.820312</td>\n",
       "      <td>21906.754297</td>\n",
       "    </tr>\n",
       "    <tr>\n",
       "      <th>1</th>\n",
       "      <td>20.684211</td>\n",
       "      <td>4.552632</td>\n",
       "      <td>115842.105263</td>\n",
       "    </tr>\n",
       "    <tr>\n",
       "      <th>2</th>\n",
       "      <td>10.568182</td>\n",
       "      <td>5.579545</td>\n",
       "      <td>26984.313636</td>\n",
       "    </tr>\n",
       "    <tr>\n",
       "      <th>3</th>\n",
       "      <td>12.111111</td>\n",
       "      <td>17.277778</td>\n",
       "      <td>107986.000000</td>\n",
       "    </tr>\n",
       "  </tbody>\n",
       "</table>\n",
       "</div>"
      ],
      "text/plain": [
       "    R最近一次投资时间距提数日的天数    F月均投资次数        M月均投资金额\n",
       "类别                                            \n",
       "0          27.859375   2.820312   21906.754297\n",
       "1          20.684211   4.552632  115842.105263\n",
       "2          10.568182   5.579545   26984.313636\n",
       "3          12.111111  17.277778  107986.000000"
      ]
     },
     "execution_count": 106,
     "metadata": {},
     "output_type": "execute_result"
    }
   ],
   "source": [
    "# 按照类别分组统计RFM指标的均值\n",
    "# groupby\n",
    "cdata_rst.groupby(cdata_rst['类别']).mean()"
   ]
  },
  {
   "cell_type": "markdown",
   "metadata": {},
   "source": [
    "**结论**\n",
    "- 类别3：重要价值客户，或者超级用户\n",
    "- 类别0：价值客户\n",
    "- 类别1：M很高，重要保持客户"
   ]
  },
  {
   "cell_type": "code",
   "execution_count": null,
   "metadata": {},
   "outputs": [],
   "source": []
  }
 ],
 "metadata": {
  "kernelspec": {
   "display_name": "Python 3",
   "language": "python",
   "name": "python3"
  },
  "language_info": {
   "codemirror_mode": {
    "name": "ipython",
    "version": 3
   },
   "file_extension": ".py",
   "mimetype": "text/x-python",
   "name": "python",
   "nbconvert_exporter": "python",
   "pygments_lexer": "ipython3",
   "version": "3.6.8"
  }
 },
 "nbformat": 4,
 "nbformat_minor": 2
}
