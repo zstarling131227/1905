{
 "cells": [
  {
   "cell_type": "code",
   "execution_count": 2,
   "metadata": {},
   "outputs": [],
   "source": [
    "import pandas as pd\n",
    "ages=[20,22,25,27,21,23,37,31,61,45,41,32]\n",
    "#有一组人员年龄数据，希望将这些数据划分为'18-25','25-35','35-60','60以上'几个部分\n",
    "bins=[0,25,35,60,100]\n",
    "cut_1=pd.cut(ages,bins)\n",
    "# print(cut_1)\n",
    "# print(pd.value_counts(cut_1))"
   ]
  }
 ],
 "metadata": {
  "kernelspec": {
   "display_name": "Python 3",
   "language": "python",
   "name": "python3"
  },
  "language_info": {
   "codemirror_mode": {
    "name": "ipython",
    "version": 3
   },
   "file_extension": ".py",
   "mimetype": "text/x-python",
   "name": "python",
   "nbconvert_exporter": "python",
   "pygments_lexer": "ipython3",
   "version": "3.6.3"
  }
 },
 "nbformat": 4,
 "nbformat_minor": 2
}
